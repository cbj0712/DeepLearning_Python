{
  "nbformat": 4,
  "nbformat_minor": 0,
  "metadata": {
    "colab": {
      "provenance": [],
      "collapsed_sections": [
        "XSbIcjKGnnTR",
        "XwKH4xvnnpag",
        "gWI4h39EpwKw",
        "5BKqOt-DrIGZ",
        "B89-RVBnrlQ5",
        "-E6Wm8eSr35Z",
        "Rcu9wLMp_lX-",
        "b61dsmW7EIdI",
        "O_dqcdRrdu4O",
        "9EaJiGlhd-M_",
        "hSZigcZuhhWQ",
        "ZLok-sETlpny"
      ]
    },
    "kernelspec": {
      "name": "python3",
      "display_name": "Python 3"
    },
    "language_info": {
      "name": "python"
    }
  },
  "cells": [
    {
      "cell_type": "markdown",
      "source": [
        "# **파일 입출력**"
      ],
      "metadata": {
        "id": "XSbIcjKGnnTR"
      }
    },
    {
      "cell_type": "markdown",
      "source": [
        "## **파일 생성하기**\n",
        "\n",
        "- open(파일_이름, 파일_열기_모드)를 사용한다\n",
        "\n",
        "- 파일 열기 모드에는 r, w, a가 있다 (read, append, write)\n",
        "\n",
        "- 쓰기 모드(w)로 열면 파일이 없으면 새로 만들고, 있으면 내용이 지워진다."
      ],
      "metadata": {
        "id": "XwKH4xvnnpag"
      }
    },
    {
      "cell_type": "code",
      "execution_count": null,
      "metadata": {
        "id": "R0SFbt35nJhO"
      },
      "outputs": [],
      "source": [
        "# 파일 열기 모드를 쓰기 모드로 열었을 경우 '새파일.txt'가 없으면 새로 생성\n",
        "f = open('새파일.txt', 'w')\n",
        "\n",
        "f.close()"
      ]
    },
    {
      "cell_type": "markdown",
      "source": [
        "- 경로를 적을 때는 / 또는 \\ 또는 r\"\"을 사용해야 한다"
      ],
      "metadata": {
        "id": "m0i9F8j8oceH"
      }
    },
    {
      "cell_type": "code",
      "source": [
        "# 다른 경로에 파일을 생성 또는 사용하고 싶은 경우 / 등을 이용해 경로 지정, 존재하지 않는 디렉토리는 인식하지 못하므로 있는 디렉토리만 설정 필요\n",
        "f = open('새폴더//새파일.txt', 'w')\n",
        "\n",
        "f.close()"
      ],
      "metadata": {
        "colab": {
          "base_uri": "https://localhost:8080/",
          "height": 184
        },
        "id": "lZIEik73ojCh",
        "outputId": "1f191cbb-443a-491b-c104-52d096c23fd5"
      },
      "execution_count": null,
      "outputs": [
        {
          "output_type": "error",
          "ename": "FileNotFoundError",
          "evalue": "[Errno 2] No such file or directory: '새폴더//새파일.txt'",
          "traceback": [
            "\u001b[0;31m---------------------------------------------------------------------------\u001b[0m",
            "\u001b[0;31mFileNotFoundError\u001b[0m                         Traceback (most recent call last)",
            "\u001b[0;32m<ipython-input-4-496aa8031380>\u001b[0m in \u001b[0;36m<cell line: 0>\u001b[0;34m()\u001b[0m\n\u001b[1;32m      1\u001b[0m \u001b[0;31m# 다른 경로에 파일을 생성 또는 사용하고 싶은 경우 / 등을 이용해 경로 지정, 존재하지 않는 디렉토리는 인식하지 못하므로 있는 디렉토리만 설정 필요\u001b[0m\u001b[0;34m\u001b[0m\u001b[0;34m\u001b[0m\u001b[0m\n\u001b[0;32m----> 2\u001b[0;31m \u001b[0mf\u001b[0m \u001b[0;34m=\u001b[0m \u001b[0mopen\u001b[0m\u001b[0;34m(\u001b[0m\u001b[0;34m'새폴더//새파일.txt'\u001b[0m\u001b[0;34m,\u001b[0m \u001b[0;34m'w'\u001b[0m\u001b[0;34m)\u001b[0m\u001b[0;34m\u001b[0m\u001b[0;34m\u001b[0m\u001b[0m\n\u001b[0m\u001b[1;32m      3\u001b[0m \u001b[0mf\u001b[0m\u001b[0;34m.\u001b[0m\u001b[0mclose\u001b[0m\u001b[0;34m(\u001b[0m\u001b[0;34m)\u001b[0m\u001b[0;34m\u001b[0m\u001b[0;34m\u001b[0m\u001b[0m\n",
            "\u001b[0;31mFileNotFoundError\u001b[0m: [Errno 2] No such file or directory: '새폴더//새파일.txt'"
          ]
        }
      ]
    },
    {
      "cell_type": "markdown",
      "source": [
        "## **파일 쓰기 모드로 내용 수정**"
      ],
      "metadata": {
        "id": "tJ3rU7Eyo_R4"
      }
    },
    {
      "cell_type": "code",
      "source": [
        "# 경로를 지정하지 않았으므로 동일 디렉토리 내 '새파일.txt'를 쓰기 모드로 열기\n",
        "f = open('새파일.txt', 'w')\n",
        "\n",
        "# 1 ~ 10까지의 반복문 실행\n",
        "for i in range(1, 11):\n",
        "\n",
        "  # data 설정\n",
        "  data = f'{i}번째 줄입니다.\\n'\n",
        "\n",
        "  # 쓰기 모드로 연 '새파일.txt'에 data 추가하기\n",
        "  f.write(data)\n",
        "\n",
        "f.close()"
      ],
      "metadata": {
        "id": "3p04Qui8pBxg"
      },
      "execution_count": null,
      "outputs": []
    },
    {
      "cell_type": "markdown",
      "source": [
        "## **파일을 읽는 여러 가지 방법**"
      ],
      "metadata": {
        "id": "GTVcmbBypvMp"
      }
    },
    {
      "cell_type": "markdown",
      "source": [
        "### **readline 함수 이용하기**\n",
        "\n",
        "- readline()은 한 줄씩 읽는다\n",
        "\n",
        "- 반복문과 함께 사용 가능하다"
      ],
      "metadata": {
        "id": "gWI4h39EpwKw"
      }
    },
    {
      "cell_type": "code",
      "source": [
        "# 동일 디렉토리의 '새파일.txt'를 읽기 모드로 열기\n",
        "f = open('새파일.txt', 'r')\n",
        "\n",
        "# '새파일.txt'에서 한 줄 불러오기 / readline()을 호출할 때 마다 다음줄 호출\n",
        "line = f.readline()\n",
        "print(line)\n",
        "\n",
        "line = f.readline()\n",
        "print(line)\n",
        "\n",
        "f.close()"
      ],
      "metadata": {
        "colab": {
          "base_uri": "https://localhost:8080/"
        },
        "id": "I-1oklbBptGQ",
        "outputId": "8ce1a2e2-a5b6-4a10-ec8b-9c4ad2c5fc72"
      },
      "execution_count": null,
      "outputs": [
        {
          "output_type": "stream",
          "name": "stdout",
          "text": [
            "1번째 줄입니다.\n",
            "\n",
            "2번째 줄입니다.\n",
            "\n"
          ]
        }
      ]
    },
    {
      "cell_type": "markdown",
      "source": [
        "### **readlines 함수 사용하기**\n",
        "\n",
        "- readline()는 파일의 모든 줄을 리스트로 반환하기"
      ],
      "metadata": {
        "id": "Mkx6UgLQqLrQ"
      }
    },
    {
      "cell_type": "code",
      "source": [
        "# 동일 디렉토리의 '새파일.txt'를 읽기 모드로 열기\n",
        "f = open('새파일.txt', 'r')\n",
        "\n",
        "# '새파일.txt'의 모든 줄 불러오기 / readlines()를 호출하면 파일의 모든 줄이 리스트로 저장\n",
        "lines = f.readlines()\n",
        "\n",
        "# 리스트의 각 항목을 꺼내서 출력\n",
        "for line in lines:\n",
        "  print(line)\n",
        "\n",
        "f.close()"
      ],
      "metadata": {
        "colab": {
          "base_uri": "https://localhost:8080/"
        },
        "id": "nEEPBkdlqRjY",
        "outputId": "5bae942c-2c28-47e0-dc0e-dd5518acf1c4"
      },
      "execution_count": null,
      "outputs": [
        {
          "output_type": "stream",
          "name": "stdout",
          "text": [
            "1번째 줄입니다.\n",
            "\n",
            "2번째 줄입니다.\n",
            "\n",
            "3번째 줄입니다.\n",
            "\n",
            "4번째 줄입니다.\n",
            "\n",
            "5번째 줄입니다.\n",
            "\n",
            "6번째 줄입니다.\n",
            "\n",
            "7번째 줄입니다.\n",
            "\n",
            "8번째 줄입니다.\n",
            "\n",
            "9번째 줄입니다.\n",
            "\n",
            "10번째 줄입니다.\n",
            "\n"
          ]
        }
      ]
    },
    {
      "cell_type": "markdown",
      "source": [
        "### **read 함수 사용하기**\n",
        "\n",
        "- read()는 파일 전체 내용을 문자열로 반환한다"
      ],
      "metadata": {
        "id": "3tIcGL3uqknp"
      }
    },
    {
      "cell_type": "code",
      "source": [
        "# 동일 디렉토리의 '새파일.txt'를 읽기 모드로 열기\n",
        "f = open('새파일.txt', 'r')\n",
        "\n",
        "# '새파일.txt'의 모든 내용을 문자열로 불러오기\n",
        "data = f.read()\n",
        "print(data)\n",
        "\n",
        "f.close()"
      ],
      "metadata": {
        "colab": {
          "base_uri": "https://localhost:8080/"
        },
        "id": "D6WFkiokquhI",
        "outputId": "72f021ea-94ef-4452-875a-dc86629f1d7b"
      },
      "execution_count": null,
      "outputs": [
        {
          "output_type": "stream",
          "name": "stdout",
          "text": [
            "1번째 줄입니다.\n",
            "2번째 줄입니다.\n",
            "3번째 줄입니다.\n",
            "4번째 줄입니다.\n",
            "5번째 줄입니다.\n",
            "6번째 줄입니다.\n",
            "7번째 줄입니다.\n",
            "8번째 줄입니다.\n",
            "9번째 줄입니다.\n",
            "10번째 줄입니다.\n",
            "\n"
          ]
        }
      ]
    },
    {
      "cell_type": "markdown",
      "source": [
        "### **파일 객체를 for문과 함께 사용하기**\n",
        "\n",
        "- 파일 객체 자체를 for문에 넣으면 자동으로 한 줄씩 읽는다"
      ],
      "metadata": {
        "id": "bmASw0Psq4J4"
      }
    },
    {
      "cell_type": "code",
      "source": [
        "# 동일 디렉토리의 '새파일.txt'를 읽기 모드로 열기\n",
        "f = open('새파일.txt', 'r')\n",
        "\n",
        "# for문을 이용해 '새파일.txt'의 각 줄 불러오기\n",
        "for line in f:\n",
        "  print(line)\n",
        "\n",
        "f.close()"
      ],
      "metadata": {
        "colab": {
          "base_uri": "https://localhost:8080/"
        },
        "id": "CkSicblsq-DY",
        "outputId": "f8b6f29b-64ca-4698-882d-69ac658cfa05"
      },
      "execution_count": null,
      "outputs": [
        {
          "output_type": "stream",
          "name": "stdout",
          "text": [
            "1번째 줄입니다.\n",
            "\n",
            "2번째 줄입니다.\n",
            "\n",
            "3번째 줄입니다.\n",
            "\n",
            "4번째 줄입니다.\n",
            "\n",
            "5번째 줄입니다.\n",
            "\n",
            "6번째 줄입니다.\n",
            "\n",
            "7번째 줄입니다.\n",
            "\n",
            "8번째 줄입니다.\n",
            "\n",
            "9번째 줄입니다.\n",
            "\n",
            "10번째 줄입니다.\n",
            "\n"
          ]
        }
      ]
    },
    {
      "cell_type": "markdown",
      "source": [
        "## **파일에 새로운 내용 추가하기**\n",
        "\n",
        "- 'a' 모드로 열면 기존 내용 뒤에 추가된다"
      ],
      "metadata": {
        "id": "5BKqOt-DrIGZ"
      }
    },
    {
      "cell_type": "code",
      "source": [
        "# 동일 디렉토리의 '새파일.txt'를 추가 모드로 열기\n",
        "f = open('새파일.txt', 'a')\n",
        "\n",
        "for i in range(11, 20):\n",
        "  # 추가할 데이터 설정\n",
        "  data = f'{i}번째 줄입니다'\n",
        "\n",
        "  # '새파일.txt'에 새로운 줄 추가\n",
        "  f.write(data)\n",
        "\n",
        "f.close()\n",
        "\n",
        "# 'w'로 열었을 경우 추가가 아닌 덮어쓰기가 실행"
      ],
      "metadata": {
        "id": "37x3ALK9rHkR"
      },
      "execution_count": null,
      "outputs": []
    },
    {
      "cell_type": "markdown",
      "source": [
        "## **with문과 함께 사용하기**\n",
        "\n",
        "- with open()을 사용하면 close()를 따로 호출하지 않아도 된다"
      ],
      "metadata": {
        "id": "B89-RVBnrlQ5"
      }
    },
    {
      "cell_type": "code",
      "source": [
        "with open('foo.txt', 'w') as f:\n",
        "  f.write('Life is too short, you need python')"
      ],
      "metadata": {
        "id": "Xix6pTM4rrXh"
      },
      "execution_count": null,
      "outputs": []
    },
    {
      "cell_type": "markdown",
      "source": [
        "# **Do it! 점프 투 파이썬 04장 연습문제**"
      ],
      "metadata": {
        "id": "-E6Wm8eSr35Z"
      }
    },
    {
      "cell_type": "markdown",
      "source": [
        "## **01. 홀수, 짝수 판별하기**\n",
        "\n",
        "- 주어진 자연수가 홀수인지, 짝수인지 판별해 주는 함수 is_odd를 작성해 보자. is_odd  함수는 홀수이면 True, 짝수이면 False를 리턴해야 한다\n",
        "\n",
        "```\n",
        "def is_odd(number):\n",
        "  if [        ]:\n",
        "    return True\n",
        "  else:\n",
        "    return False\n",
        "```"
      ],
      "metadata": {
        "id": "TGrPfPE6sFEZ"
      }
    },
    {
      "cell_type": "code",
      "source": [
        "def is_odd(number):\n",
        "  if number % 2 == 0:\n",
        "    return True\n",
        "  else:\n",
        "    return False"
      ],
      "metadata": {
        "id": "fnryVmKXsc1J"
      },
      "execution_count": null,
      "outputs": []
    },
    {
      "cell_type": "markdown",
      "source": [
        "## **02. 모든 입력의 평균 값 구하기**\n",
        "\n",
        "- 입력으로 들어오는 모든 수의 평균값을 계산해 주는 함수를 작성해 보자. 단, 입력으로 들어오는 수의 개수는 정해져 있지 않다.\n",
        "\n",
        "```\n",
        "def avg_numbers([     ]):\n",
        "  result = 0\n",
        "  for i in args:\n",
        "    result += i\n",
        "  return [      ]\n",
        "\n",
        "avg_numbers(1, 2)         # 1.5 출력\n",
        "avg_numbers(1,2,3,4,5)    # 3.0 출력\n",
        "```"
      ],
      "metadata": {
        "id": "hXa2QMO7sR9g"
      }
    },
    {
      "cell_type": "code",
      "source": [
        "def avg_numbers(*args):\n",
        "  result = 0\n",
        "\n",
        "  for i in args:\n",
        "    result += i\n",
        "\n",
        "  return result / len(args)\n",
        "\n",
        "avg_numbers(1, 2)         # 1.5 출력\n",
        "avg_numbers(1,2,3,4,5)    # 3.0 출력"
      ],
      "metadata": {
        "colab": {
          "base_uri": "https://localhost:8080/"
        },
        "id": "oknybJH8s-CR",
        "outputId": "59e15fd2-2c91-445d-af0d-02036636d2c9"
      },
      "execution_count": null,
      "outputs": [
        {
          "output_type": "execute_result",
          "data": {
            "text/plain": [
              "1.5"
            ]
          },
          "metadata": {},
          "execution_count": 15
        }
      ]
    },
    {
      "cell_type": "markdown",
      "source": [
        "## **03. 프로그램 오류 수정하기 1**\n",
        "\n",
        "- 다음은 2개의 숫자를 입력받아 더한 후에 리턴하는 프로그램이다.\n",
        "\n",
        "```\n",
        "input1 = input('첫 번째 숫자를 입력하세요: ')\n",
        "input2 = input('두 번째 숫자를 입력하세요: ')\n",
        "\n",
        "total = input1 + input2\n",
        "print('두 수의 합은 %s입니다' % total)\n",
        "```\n",
        "\n",
        "- 이 프로그램을 실행해보자.\n",
        "\n",
        "```\n",
        "첫 번째 숫자를 입력하세요: 3\n",
        "두 번째 숫자를 입력하세요: 6\n",
        "두 수의 합은 36입니다\n",
        "```\n",
        "\n",
        "- 3과 6을 입력했을 때 9가 아닌 36이라는 결괏값이 출력되었다. 이 프로그램의 오류를 수정해보자.\n",
        "\n",
        "**A. 숫자를 입력받을 때 input으로 받으면 문자열인데 이것을 int로 설정하거나 바꿔주지 않았기 때문에 문자열 + 문자열은 문자열을 이어 붙이기만 하여 두 숫자를 앞뒤로 이어붙인 결과가 출력**"
      ],
      "metadata": {
        "id": "bi_r6EOdtGSi"
      }
    },
    {
      "cell_type": "code",
      "source": [
        "input1 = int(input('첫 번째 숫자를 입력하세요: '))\n",
        "input2 = int(input('두 번째 숫자를 입력하세요: '))\n",
        "\n",
        "total = input1 + input2\n",
        "print('두 수의 합은 %d입니다' % total)"
      ],
      "metadata": {
        "colab": {
          "base_uri": "https://localhost:8080/"
        },
        "id": "xLRchY5Xtl3Z",
        "outputId": "1e6cd450-43c6-4c8c-ca35-3f978fbc7097"
      },
      "execution_count": null,
      "outputs": [
        {
          "output_type": "stream",
          "name": "stdout",
          "text": [
            "첫 번째 숫자를 입력하세요: 3\n",
            "두 번째 숫자를 입력하세요: 6\n",
            "두 수의 합은 9입니다\n"
          ]
        }
      ]
    },
    {
      "cell_type": "markdown",
      "source": [
        "## **04. 출력 결과가 다른 것은?**\n",
        "\n",
        "- 다음 중 출력 결과가 다른 하나를 골라 보자.\n",
        "\n",
        "1.   print(\"you\" \"need\" \"python\")\n",
        "2.   print(\"you\" + \"need\" + \"python\")\n",
        "3.   print(\"you\", \"need\", \"python\")\n",
        "4.   print(\"\".join([\"you\", \"need\", \"python\"]))\n",
        "\n",
        "**A. 3번 : 쉼표(,)를 통해 각 단어를 연결 시 자동으로 띄어쓰기가 추가됨**"
      ],
      "metadata": {
        "id": "jvlEwbzmtrE5"
      }
    },
    {
      "cell_type": "code",
      "source": [
        "print(\"you\" \"need\" \"python\")\n",
        "print(\"you\" + \"need\" + \"python\")\n",
        "print(\"you\", \"need\", \"python\")\n",
        "print(\"\".join([\"you\", \"need\", \"python\"]))"
      ],
      "metadata": {
        "colab": {
          "base_uri": "https://localhost:8080/"
        },
        "id": "0AaIN_cauAZC",
        "outputId": "dca75e8b-117e-41cf-a717-6fa4a42b0c6b"
      },
      "execution_count": null,
      "outputs": [
        {
          "output_type": "stream",
          "name": "stdout",
          "text": [
            "youneedpython\n",
            "youneedpython\n",
            "you need python\n",
            "youneedpython\n"
          ]
        }
      ]
    },
    {
      "cell_type": "markdown",
      "source": [
        "## **05. 프로그램 오류 수정하기 2**\n",
        "\n",
        "- 다음은 파일(test.txt)에 \"Life is too short\" 문자열을 저장한 후 다시 그 파일을 읽어 출력하는 프로그램이다.\n",
        "\n",
        "```\n",
        "f1 = open(\"test.txt\", \"w\")\n",
        "f1.write(\"Life is too short\")\n",
        "\n",
        "f2 = open(\"test.txt\", \"r\")\n",
        "print(f2.read())\n",
        "```\n",
        "\n",
        "- 이 프로그램은 우리가 예상한 'Life is too short'라는 문장을 출력하지 않는다. 우리가 예상한 값을 출력할 수 있도록 프로그램을 수정해 보자\n",
        "\n",
        "**A. f1 파일이 close() 되지 않은 상태여서 f2에서 파일 open 실패**"
      ],
      "metadata": {
        "id": "s5gDae2QuRbZ"
      }
    },
    {
      "cell_type": "code",
      "source": [
        "f1 = open(\"test.txt\", \"w\")\n",
        "f1.write(\"Life is too short\")\n",
        "f1.close()\n",
        "\n",
        "f2 = open(\"test.txt\", \"r\")\n",
        "print(f2.read())\n",
        "f2.close()"
      ],
      "metadata": {
        "colab": {
          "base_uri": "https://localhost:8080/"
        },
        "id": "32XhTXZ0uxYq",
        "outputId": "85e67b49-1966-45c6-ff02-635409da9d9f"
      },
      "execution_count": null,
      "outputs": [
        {
          "output_type": "stream",
          "name": "stdout",
          "text": [
            "Life is too short\n"
          ]
        }
      ]
    },
    {
      "cell_type": "markdown",
      "source": [
        "## **06. 사용자 입력 저장하기**\n",
        "\n",
        "- 사용자의 입력을 파일(test.txt)에 저장하는 프로그램을 작성해 보자. 단, 프로그램을 다시 실행하더라도 기존에 작성한 내용을 유지하고 새로 입력한 내용을 추가해야 한다\n",
        "\n",
        "```\n",
        "user_input = input('저장할 내용을 입력하세요:')\n",
        "f = open('test.txt', [       ])\n",
        "f.write(user_input)\n",
        "f.write([        ])\n",
        "f.close()\n",
        "```"
      ],
      "metadata": {
        "id": "o_ZrZSCBvJDC"
      }
    },
    {
      "cell_type": "code",
      "source": [
        "user_input = input('저장할 내용을 입력하세요: ')\n",
        "\n",
        "f = open('test1.txt', 'a')\n",
        "f.write(user_input)\n",
        "f.write('\\n')\n",
        "\n",
        "f.close()"
      ],
      "metadata": {
        "colab": {
          "base_uri": "https://localhost:8080/"
        },
        "id": "3EsF9HrYvfIi",
        "outputId": "7138fe04-195a-4721-9f1d-19e737b8c5ee"
      },
      "execution_count": null,
      "outputs": [
        {
          "name": "stdout",
          "output_type": "stream",
          "text": [
            "저장할 내용을 입력하세요: 새로운 줄을 추가합니다\n"
          ]
        }
      ]
    },
    {
      "cell_type": "markdown",
      "source": [
        "## **07. 파일의 문자열 바꾸기**\n",
        "\n",
        "- 다음과 같은 내용을 지닌 test.txt가 있다. 이 파일의 내용 중 'java'라는 문자열을 python으로 바꾸어 저장해보자\n",
        "\n",
        "```\n",
        "Life is too short\n",
        "you need java\n",
        "```\n",
        "\n",
        "```\n",
        "f = open('test.txt', 'r')\n",
        "body = [                 ]\n",
        "f.close()\n",
        "body = [                 ]\n",
        "f = open('test.txt', [         ])\n",
        "f.write(body)\n",
        "f.close()\n",
        "```"
      ],
      "metadata": {
        "id": "lMrH2hJkvqFK"
      }
    },
    {
      "cell_type": "code",
      "source": [
        "f = open('test2.txt', 'r')\n",
        "body = f.read()\n",
        "f.close()\n",
        "\n",
        "body = body.replace('java', 'python')\n",
        "f = open('test2.txt', 'w')\n",
        "f.write(body)\n",
        "f.close()"
      ],
      "metadata": {
        "id": "tmjGXpX0v6sy"
      },
      "execution_count": null,
      "outputs": []
    },
    {
      "cell_type": "markdown",
      "source": [
        "## **08. 입력값을 모두 더해 출력하기**\n",
        "\n",
        "- 다음과 같이 실행할 때 입력값을 모두 더해 출력하는 스크립트(C:\\doit\\myargv.py)를 작성해 보자.\n",
        "\n",
        "```\n",
        "C:\\> cd doit\n",
        "C:\\doit> python myargv.py 1 2 3 4 5 6 7 8 9 10\n",
        "55\n",
        "```"
      ],
      "metadata": {
        "id": "B7ngSG7bwcWS"
      }
    },
    {
      "cell_type": "code",
      "source": [
        "import sys\n",
        "\n",
        "args = sys.argv[1:]\n",
        "result = 0\n",
        "\n",
        "for number in args:\n",
        "  result += int(number)\n",
        "\n",
        "print(result)"
      ],
      "metadata": {
        "colab": {
          "base_uri": "https://localhost:8080/",
          "height": 221
        },
        "id": "kAXDuC8jwbtK",
        "outputId": "47dd39d7-b652-4b18-88bb-4e4257e10f6a"
      },
      "execution_count": null,
      "outputs": [
        {
          "output_type": "error",
          "ename": "ValueError",
          "evalue": "invalid literal for int() with base 10: '-f'",
          "traceback": [
            "\u001b[0;31m---------------------------------------------------------------------------\u001b[0m",
            "\u001b[0;31mValueError\u001b[0m                                Traceback (most recent call last)",
            "\u001b[0;32m<ipython-input-49-c3dcd2c6c225>\u001b[0m in \u001b[0;36m<cell line: 0>\u001b[0;34m()\u001b[0m\n\u001b[1;32m      6\u001b[0m \u001b[0;34m\u001b[0m\u001b[0m\n\u001b[1;32m      7\u001b[0m \u001b[0;32mfor\u001b[0m \u001b[0mi\u001b[0m \u001b[0;32min\u001b[0m \u001b[0margs\u001b[0m\u001b[0;34m:\u001b[0m\u001b[0;34m\u001b[0m\u001b[0;34m\u001b[0m\u001b[0m\n\u001b[0;32m----> 8\u001b[0;31m   \u001b[0mresult\u001b[0m \u001b[0;34m+=\u001b[0m \u001b[0mint\u001b[0m\u001b[0;34m(\u001b[0m\u001b[0mi\u001b[0m\u001b[0;34m)\u001b[0m\u001b[0;34m\u001b[0m\u001b[0;34m\u001b[0m\u001b[0m\n\u001b[0m\u001b[1;32m      9\u001b[0m \u001b[0;34m\u001b[0m\u001b[0m\n\u001b[1;32m     10\u001b[0m \u001b[0mprint\u001b[0m\u001b[0;34m(\u001b[0m\u001b[0mresult\u001b[0m\u001b[0;34m)\u001b[0m\u001b[0;34m\u001b[0m\u001b[0;34m\u001b[0m\u001b[0m\n",
            "\u001b[0;31mValueError\u001b[0m: invalid literal for int() with base 10: '-f'"
          ]
        }
      ]
    },
    {
      "cell_type": "markdown",
      "source": [
        "# **클래스 (Class)**\n",
        "\n",
        "- 관련 있는 변수(데이터)와 함수(기능)을 하나로 묶은 것\n",
        "\n",
        "- '비슷한 데이터 + 기능'을 묶어서, 프로그램을 더 체계적이고 깔끔하게 만드는 도구\n",
        "\n",
        "- 하나의 객체 형태"
      ],
      "metadata": {
        "id": "Rcu9wLMp_lX-"
      }
    },
    {
      "cell_type": "markdown",
      "source": [
        "## **클래스의 필요성**\n",
        "\n",
        "- 프로그램이 커지거나 복잡해지면, 데이터 관리가 힘들어지고 오류가 발생하기 쉬움\n",
        "\n",
        "- 클래스를 사용하면 서로 독립적인 객체를 만들 수 있고, 깔끔하고 유지보수하기 쉬운 프로그램을 만들 수 있음"
      ],
      "metadata": {
        "id": "rLAaerxa_of2"
      }
    },
    {
      "cell_type": "markdown",
      "source": [
        "### **계산기 프로그램을 만들어 클래스 예제**"
      ],
      "metadata": {
        "id": "Z2Y7CrfRAFuG"
      }
    },
    {
      "cell_type": "markdown",
      "source": [
        "- 전역 변수(result)를 사용해서 결괏값 유지 방식"
      ],
      "metadata": {
        "id": "8459uNVyALt-"
      }
    },
    {
      "cell_type": "code",
      "source": [
        "# 전역 변수 설정\n",
        "result = 0\n",
        "\n",
        "def add(num):\n",
        "\n",
        "  # global 기능을 통해 전역 변수를 함수 내에서 사용\n",
        "  global result\n",
        "  result += num\n",
        "\n",
        "  return result\n",
        "\n",
        "print(add(3))\n",
        "print(add(4))"
      ],
      "metadata": {
        "colab": {
          "base_uri": "https://localhost:8080/"
        },
        "id": "SMYcyienARFm",
        "outputId": "8019bc57-834e-4527-8c2c-9105b4975a4b"
      },
      "execution_count": null,
      "outputs": [
        {
          "output_type": "stream",
          "name": "stdout",
          "text": [
            "3\n",
            "7\n"
          ]
        }
      ]
    },
    {
      "cell_type": "markdown",
      "source": [
        "- 계산기가 2대 이상 필요한 경우, 함수를 여러 개 만들어야 하는 단점이 존재"
      ],
      "metadata": {
        "id": "l47YpmYHAad2"
      }
    },
    {
      "cell_type": "code",
      "source": [
        "result1 = 0\n",
        "result2 = 0\n",
        "\n",
        "def add1(num):\n",
        "\n",
        "  # global 기능을 통해 전역 변수를 함수 내에서 사용\n",
        "  global result1\n",
        "  result1 += num\n",
        "\n",
        "  return result1\n",
        "\n",
        "def add2(num):\n",
        "\n",
        "  # global 기능을 통해 전역 변수를 함수 내에서 사용\n",
        "  global result2\n",
        "  result2 += num\n",
        "\n",
        "  return result2\n",
        "\n",
        "print(add1(3))\n",
        "print(add1(4))\n",
        "print(add2(5))\n",
        "print(add2(8))"
      ],
      "metadata": {
        "colab": {
          "base_uri": "https://localhost:8080/"
        },
        "id": "PaG70h35AhAm",
        "outputId": "d005e1e7-8f7c-4c0f-ffbd-431684233947"
      },
      "execution_count": null,
      "outputs": [
        {
          "output_type": "stream",
          "name": "stdout",
          "text": [
            "3\n",
            "7\n",
            "5\n",
            "13\n"
          ]
        }
      ]
    },
    {
      "cell_type": "markdown",
      "source": [
        "## **클래스와 객체**\n",
        "\n",
        "- 클래스를 사용하면 객체별로 독립적인 값 유지 가능"
      ],
      "metadata": {
        "id": "xzh1iRAiAsGX"
      }
    },
    {
      "cell_type": "code",
      "source": [
        "# 클래스의 첫 글자는 대문자로 설정\n",
        "class Calculator:\n",
        "\n",
        "  # self는 클래스 자체를 의미\n",
        "  def __init__(self):\n",
        "    # 클래스 내의 result라는 변수의 초기값 설정\n",
        "    self.result = 0\n",
        "\n",
        "  # 클래스 내에 사용할 함수 설정, 변수도 설정 가능\n",
        "  def add(self, num):\n",
        "    self.result += num\n",
        "    return self.result\n",
        "\n",
        "# 각 변수에 Calculator 클래스를 호출하여 새로운 객체 생성\n",
        "cal1 = Calculator()\n",
        "cal2 = Calculator()\n",
        "\n",
        "# Calculator 클래스의 add라는 메서드를 호출하여 사용\n",
        "print(cal1.add(3))\n",
        "print(cal1.add(4))\n",
        "print(cal2.add(3))\n",
        "print(cal2.add(7))"
      ],
      "metadata": {
        "colab": {
          "base_uri": "https://localhost:8080/"
        },
        "id": "KiyuFwZlAxXO",
        "outputId": "682b491c-3771-4d59-8b3a-1f3ea2396594"
      },
      "execution_count": null,
      "outputs": [
        {
          "output_type": "stream",
          "name": "stdout",
          "text": [
            "3\n",
            "7\n",
            "3\n",
            "10\n"
          ]
        }
      ]
    },
    {
      "cell_type": "markdown",
      "source": [
        "### **사칙 연산 클래스**"
      ],
      "metadata": {
        "id": "wnhxYh1HBmJH"
      }
    },
    {
      "cell_type": "code",
      "source": [
        "class FourCal:\n",
        "  # 에러 발생을 줄이기 위해, 매개변수를 사전초기화 해놓는 경우가 많음\n",
        "  # def __init__() → 없어도 상관없지만, 있으면 무조건 실행\n",
        "\n",
        "  def __init__(self, first=0, second=0):\n",
        "    # 클래스 내의 first라는 변수의 값을 사용자가 입력한 first로 설정 / second도 동일한 방식\n",
        "    self.first = first\n",
        "    self.second = second\n",
        "\n",
        "  # setdata를 사용하지 않고 상단의 __init__으로만 사용 가능\n",
        "  def setdata(self, first=0, second=0):\n",
        "    self.first = first\n",
        "    self.second = second\n",
        "\n",
        "  def add(self):\n",
        "    # __init__ 또는 setdata를 통해 설정한 클래스 변수의 값을 이용해 값을 계산하여 return\n",
        "    return self.first + self.second\n",
        "\n",
        "  def mul(self):\n",
        "    return self.first * self.second\n",
        "\n",
        "  def sub(self):\n",
        "    return self.first - self.second\n",
        "\n",
        "  def div(self):\n",
        "    return self.first / self.second\n",
        "\n",
        "  # __init__, setdata, add, mul, sub, div는 FourCal 내부의 메서드로 FourCal 클래스 호출을 통해 객체를 생성할 경우 사용 가능\n",
        "\n",
        "# a라는 변수에 FourCal 클래스를 호출하여 새로운 객체 생성\n",
        "# __init__ 함수 사용 시 setdata 대신 FourCal()안에 초기값 설정 필요 → FourCal(4, 2)\n",
        "a = FourCal()\n",
        "\n",
        "# FourCal 클래스의 setdata 메서드를 호출해 객체의 기본값 설정\n",
        "# __init__ 사용시 불필요\n",
        "a.setdata(4, 2)\n",
        "\n",
        "# FourCal 클래스의 각 메서드를 호출한 결괏값 출력\n",
        "print(a.add())  # 6 출력\n",
        "print(a.mul())  # 8 출력\n",
        "print(a.sub())  # 2 출력\n",
        "print(a.div())  # 2.0 출력"
      ],
      "metadata": {
        "colab": {
          "base_uri": "https://localhost:8080/"
        },
        "id": "j_ELJQI7BszH",
        "outputId": "28aa345a-cc23-4b8d-9ca1-65a754eaf017"
      },
      "execution_count": null,
      "outputs": [
        {
          "output_type": "stream",
          "name": "stdout",
          "text": [
            "6\n",
            "8\n",
            "2\n",
            "2.0\n"
          ]
        }
      ]
    },
    {
      "cell_type": "markdown",
      "source": [
        "## **생성자 (constructor)**\n",
        "\n",
        "- ```__init__``` 메서드를 생성자(Constructor)라고 부른다\n",
        "  - 메서드(method)의 경우, 객체에 정의된 함수를 말함\n",
        "  - .을 통해 호출되는 대부분의 함수는 메서드의 일종 ex) .split(), .append() 등\n",
        "- 객체가 생성될때 자동 호출된다"
      ],
      "metadata": {
        "id": "VN45rj90DccA"
      }
    },
    {
      "cell_type": "code",
      "source": [
        "class FourCal:\n",
        "  # 주로 값 초기화에 사용되며, class 생성 시 자동으로 실행\n",
        "  # class 생성 시 매개 변수(first, second 등)의 값을 지정해주지 않으면 에러 발생\n",
        "  # 이러한 에러를 제어하기 위해 매개 변수에 초기값을 지정\n",
        "  def __init__(self, first, second):\n",
        "    self.first = first\n",
        "    self.second = second\n",
        "    print('객체 생성!')\n",
        "\n",
        "  def add(self):\n",
        "    return self.first + self.second\n",
        "\n",
        "# FourCal 클래스를 호출하여 새로운 객체 생성 → 객체가 생성되었으므로 __init__ 내부의 기능들 자동 실행 → '객체 생성!' 출력\n",
        "# FourCal()로만 할 경우 __init__에 필요한 기본 매개변수의 값을 주지 않았기 때문에 에러 발생 → __init__ 생성 시 매개변수의 값을 초기화할 경우에는 에러 미 발생 ex) __init__(self, first=0, second=0)\n",
        "a = FourCal(4, 2)\n",
        "print(a.add())     # 6 출력 → FourCal(4, 2)를 하면서 값 초기화하여 사용"
      ],
      "metadata": {
        "colab": {
          "base_uri": "https://localhost:8080/"
        },
        "id": "XkgR5XoLDm4n",
        "outputId": "a4f4a1fa-b431-4815-f43a-6c83fdee4670"
      },
      "execution_count": null,
      "outputs": [
        {
          "output_type": "stream",
          "name": "stdout",
          "text": [
            "객체 생성!\n",
            "6\n"
          ]
        }
      ]
    },
    {
      "cell_type": "markdown",
      "source": [
        "## **클래스의 상속 (inheritance)**\n",
        "\n",
        "- 상속받으면 기존 클래스(FourCal)의 기능을 그대로 사용할 수 있다"
      ],
      "metadata": {
        "id": "b61dsmW7EIdI"
      }
    },
    {
      "cell_type": "code",
      "source": [
        "# 클래스 생성 시 클래스명()에서 괄호 안에 상속하고자 하는 클래스명 추가\n",
        "# FourCal 클래스를 상속하였으므로, 기존 FourCal 클래스의 모든 기능 사용 가능\n",
        "class MoreFourCal(FourCal):\n",
        "\n",
        "  # FourCal 클래스의 기능뿐 아니라 새로운 기능(함수) 추가\n",
        "  def pow(self):\n",
        "    return self.first ** self.second\n",
        "\n",
        "b = MoreFourCal(4, 2)   # MoreFourCal 클래스를 호출하여 새로운 객체 생성 → '객체 생성!' 출력\n",
        "print(b.pow())          # 16 출력 → MoreFourCal에 설정된 기능 (함수)\n",
        "\n",
        "# FourCal 클래스를 직접호출하지 않아도 FourCal의 함수 사용 가능\n",
        "print(b.add())          # 6 출력 → FourCal에 설정된 기능 (함수)"
      ],
      "metadata": {
        "colab": {
          "base_uri": "https://localhost:8080/"
        },
        "id": "cYMjTKlCEOC3",
        "outputId": "057ab0e5-6150-4dbb-a120-f783cda57ff3"
      },
      "execution_count": null,
      "outputs": [
        {
          "output_type": "stream",
          "name": "stdout",
          "text": [
            "16\n",
            "6\n"
          ]
        }
      ]
    },
    {
      "cell_type": "markdown",
      "source": [
        "## **메서드 오버라이딩 (method overriding)**\n",
        "\n",
        "- 상속한 후 메서드를 재정의하면 오버라이딩(overriding)이라고 한다"
      ],
      "metadata": {
        "id": "N_jxgbTgFWXZ"
      }
    },
    {
      "cell_type": "code",
      "source": [
        "# FourCal 클래스를 상속하였으므로, 기존 FourCal 클래스의 모든 기능 사용 가능\n",
        "class SelfFourCal(FourCal):\n",
        "\n",
        "  # FourCal의 div()라는 함수를 상속받아 새로운 기능을 추가하는 오버라이딩 진행\n",
        "  def div(self):\n",
        "    # 기존 함수에는 없는 에러 제어 코드 추가\n",
        "    if self.second == 0:\n",
        "      return 0\n",
        "    else:\n",
        "      return self.first / self.second\n",
        "\n",
        "a = SelfFourCal(4, 0)            # SelfFourCal 클래스 호출하여 새로운 객체 생성\n",
        "print(a.div())                   # 메서드 오버라이딩을 통해 에러 제어를 추가했기 때문에 에러 없이 실행 → 0 출력\n",
        "\n",
        "b = FourCal(4, 0)                # FourCal 클래스 호출하여 새로운 객체 생성\n",
        "print(b.div())                   # FourCal의 div함수에서는 나누는 값이 0일 경우의 에러 제어 코드가 없기 때문에 값(4)을 0으로 나누어서 에러 발생 → ZeroDivisionError: division by zero"
      ],
      "metadata": {
        "colab": {
          "base_uri": "https://localhost:8080/",
          "height": 331
        },
        "id": "45NPLCo8Fdsg",
        "outputId": "d838b996-c9c2-4951-c193-c3f14ba376bf"
      },
      "execution_count": null,
      "outputs": [
        {
          "output_type": "stream",
          "name": "stdout",
          "text": [
            "0\n"
          ]
        },
        {
          "output_type": "error",
          "ename": "ZeroDivisionError",
          "evalue": "division by zero",
          "traceback": [
            "\u001b[0;31m---------------------------------------------------------------------------\u001b[0m",
            "\u001b[0;31mZeroDivisionError\u001b[0m                         Traceback (most recent call last)",
            "\u001b[0;32m<ipython-input-70-ac3dd604444f>\u001b[0m in \u001b[0;36m<cell line: 0>\u001b[0;34m()\u001b[0m\n\u001b[1;32m     14\u001b[0m \u001b[0;34m\u001b[0m\u001b[0m\n\u001b[1;32m     15\u001b[0m \u001b[0mb\u001b[0m \u001b[0;34m=\u001b[0m \u001b[0mFourCal\u001b[0m\u001b[0;34m(\u001b[0m\u001b[0;36m4\u001b[0m\u001b[0;34m,\u001b[0m \u001b[0;36m0\u001b[0m\u001b[0;34m)\u001b[0m                \u001b[0;31m# FourCal 클래스 호출하여 새로운 객체 생성\u001b[0m\u001b[0;34m\u001b[0m\u001b[0;34m\u001b[0m\u001b[0m\n\u001b[0;32m---> 16\u001b[0;31m \u001b[0mprint\u001b[0m\u001b[0;34m(\u001b[0m\u001b[0mb\u001b[0m\u001b[0;34m.\u001b[0m\u001b[0mdiv\u001b[0m\u001b[0;34m(\u001b[0m\u001b[0;34m)\u001b[0m\u001b[0;34m)\u001b[0m                   \u001b[0;31m# FourCal의 div함수에서는 나누는 값이 0일 경우의 에러 제어 코드가 없기 때문에 값(4)을 0으로 나누어서 에러 발생 → ZeroDivisionError: division by zero\u001b[0m\u001b[0;34m\u001b[0m\u001b[0;34m\u001b[0m\u001b[0m\n\u001b[0m",
            "\u001b[0;32m<ipython-input-68-7a084ad0993a>\u001b[0m in \u001b[0;36mdiv\u001b[0;34m(self)\u001b[0m\n\u001b[1;32m     24\u001b[0m \u001b[0;34m\u001b[0m\u001b[0m\n\u001b[1;32m     25\u001b[0m   \u001b[0;32mdef\u001b[0m \u001b[0mdiv\u001b[0m\u001b[0;34m(\u001b[0m\u001b[0mself\u001b[0m\u001b[0;34m)\u001b[0m\u001b[0;34m:\u001b[0m\u001b[0;34m\u001b[0m\u001b[0;34m\u001b[0m\u001b[0m\n\u001b[0;32m---> 26\u001b[0;31m     \u001b[0;32mreturn\u001b[0m \u001b[0mself\u001b[0m\u001b[0;34m.\u001b[0m\u001b[0mfirst\u001b[0m \u001b[0;34m/\u001b[0m \u001b[0mself\u001b[0m\u001b[0;34m.\u001b[0m\u001b[0msecond\u001b[0m\u001b[0;34m\u001b[0m\u001b[0;34m\u001b[0m\u001b[0m\n\u001b[0m\u001b[1;32m     27\u001b[0m \u001b[0;34m\u001b[0m\u001b[0m\n\u001b[1;32m     28\u001b[0m   \u001b[0;31m# __init__, setdata, add, mul, sub, div는 FourCal 내부의 메서드로 FourCal 클래스 호출을 통해 객체를 생성할 경우 사용 가능\u001b[0m\u001b[0;34m\u001b[0m\u001b[0;34m\u001b[0m\u001b[0m\n",
            "\u001b[0;31mZeroDivisionError\u001b[0m: division by zero"
          ]
        }
      ]
    },
    {
      "cell_type": "markdown",
      "source": [
        "# **API**\n",
        "\n",
        "- API(Application Programming Interface)는 서로 다른 소프트웨어 시스템 간에 정보를 주고받거나 기능을 사용할 수 있도록 도와주는 서비스\n",
        "\n",
        "- 쉽게 말하면 '요청하면 필요한 데이터를 보내주는 자동화된 시스템'\n"
      ],
      "metadata": {
        "id": "O_dqcdRrdu4O"
      }
    },
    {
      "cell_type": "markdown",
      "source": [
        "## **1. 고양이 사진 API (The Cat API)**\n",
        "\n",
        "- 전 세계 고양이 사진을 무료로 제공하는 공개 API\n",
        "\n",
        "- 랜덤 고양이 사진이나, 특정 품종의 고양이 사진을 가져옴\n",
        "\n",
        "- 공식 문서: https://developers.thecatapi.com/view-account/ylX4blBYT9FaoVd6OhvR?report=bOoHBz-8t\n",
        "\n",
        "1. URL: https://api.thecatapi.com/v1/images/search\n",
        "2. Type: Get\n",
        "\n",
        "**반환 값 예시**\n",
        "```\n",
        "[\n",
        "   {\n",
        "      \"id\": \"JVITS8pXF\",\n",
        "      \"url\": \"https://cdn2.thecatapi.com/images/JVITS8pXF.jpg\",\n",
        "      \"width\": 1080,\n",
        "      \"height\": 1160\n",
        "   }\n",
        "]\n",
        "```"
      ],
      "metadata": {
        "id": "9EaJiGlhd-M_"
      }
    },
    {
      "cell_type": "code",
      "source": [
        "import requests\n",
        "from IPython.display import Image, display\n",
        "\n",
        "url = 'https://api.thecatapi.com/v1/images/search'\n",
        "response = requests.get(url)\n",
        "data = response.json()\n",
        "cats_url = data[0]['url']\n",
        "\n",
        "print('오늘의 고양이 사진')\n",
        "display(Image(url=cats_url))\n",
        "# display는 colab 환경에서 사진 출력을 위해 사용"
      ],
      "metadata": {
        "colab": {
          "base_uri": "https://localhost:8080/",
          "height": 387
        },
        "id": "kzrWXOuteiIX",
        "outputId": "0b9b6225-1cff-4467-ddba-265db21bb013"
      },
      "execution_count": null,
      "outputs": [
        {
          "output_type": "stream",
          "name": "stdout",
          "text": [
            "오늘의 고양이 사진\n"
          ]
        },
        {
          "output_type": "display_data",
          "data": {
            "text/html": [
              "<img src=\"https://cdn2.thecatapi.com/images/2o2.jpg\"/>"
            ],
            "text/plain": [
              "<IPython.core.display.Image object>"
            ]
          },
          "metadata": {}
        }
      ]
    },
    {
      "cell_type": "markdown",
      "source": [
        "## **2. 날씨 정보 API (Open-Meteo API)**\n",
        "\n",
        "- 위치(위도, 경도)를 기준으로 현재 날씨, 예보, 기온, 풍속 등 다양한 날씨 정보를 제공\n",
        "\n",
        "- 무료이며, 인증키 없이 바로 사용 가능\n",
        "\n",
        "- 공식 문서: https://open-meteo.com/en/docs\n",
        "\n",
        "1. URL: https://api.open-meteo.com/v1/forecast?latitude=위도&longitude=경도&daily=temperature_2m_max,temperature_2m_min&timeZone=Asia%2FSeoul\n",
        "2. Type: Get\n",
        "\n",
        "**반환 값 예시**\n",
        "```\n",
        "{\n",
        "   \"latitude\": 37.55,\n",
        "   \"longitude\": 127.0,\n",
        "   \"generationtime_ms\": 0.031113624572753906,\n",
        "   \"utc_offset_seconds\": 0,\n",
        "   \"timezone\": \"GMT\",\n",
        "   \"timezone_abbreviation\": \"GMT\",\n",
        "   \"elevation\": 34.0,\n",
        "   \"daily_units\": {\n",
        "      \"time\": \"iso8601\",\n",
        "      \"temperature_2m_max\": \"\\u00b0C\",\n",
        "      \"temperature_2m_min\": \"\\u00b0C\"\n",
        "   },\n",
        "   \"daily\": {\n",
        "      \"time\": [\n",
        "         \"2025-04-14\",\n",
        "         \"2025-04-15\",\n",
        "         \"2025-04-16\",\n",
        "         \"2025-04-17\",\n",
        "         \"2025-04-18\",\n",
        "         \"2025-04-19\",\n",
        "         \"2025-04-20\"\n",
        "      ],\n",
        "      \"temperature_2m_max\": [\n",
        "         6.2,\n",
        "         13.1,\n",
        "         20.1,\n",
        "         22.3,\n",
        "         18.7,\n",
        "         18.5,\n",
        "         18.6\n",
        "      ],\n",
        "      \"temperature_2m_min\": [\n",
        "         1.7,\n",
        "         4.5,\n",
        "         6.9,\n",
        "         15.6,\n",
        "         8.6,\n",
        "         12.0,\n",
        "         8.2\n",
        "      ]\n",
        "   }\n",
        "}\n",
        "\n",
        "```"
      ],
      "metadata": {
        "id": "hSZigcZuhhWQ"
      }
    },
    {
      "cell_type": "code",
      "source": [
        "import requests\n",
        "from datetime import datetime\n",
        "\n",
        "latitude = 37.5665\n",
        "longitude = 126.9780\n",
        "today = '2025-04-14'\n",
        "\n",
        "url = (\n",
        "    f' https://api.open-meteo.com/v1/forecast?'\n",
        "    f'latitude={latitude}&longitude={longitude}'\n",
        "    f'&daily=temperature_2m_max,temperature_2m_min&timeZone=Asia%2FSeoul'\n",
        ")\n",
        "\n",
        "response = requests.get(url)\n",
        "data = response.json()\n",
        "\n",
        "dates = data['daily']['time']\n",
        "max_temps = data['daily']['temperature_2m_max']\n",
        "min_temps = data['daily']['temperature_2m_min']\n",
        "temps_unit = data['daily_units']['temperature_2m_max']\n",
        "\n",
        "for i, date in enumerate(dates):\n",
        "  if date == str(today):\n",
        "    print(f'오늘({today}) 서울 날씨')\n",
        "    print(f'- 최고 기온: {max_temps[i]}{temps_unit}')\n",
        "    print(f'- 최저 기온: {min_temps[i]}{temps_unit}')"
      ],
      "metadata": {
        "colab": {
          "base_uri": "https://localhost:8080/"
        },
        "id": "SaqTkEKziCAe",
        "outputId": "753ce672-91f5-43bc-afdb-3cb57bf4e401"
      },
      "execution_count": null,
      "outputs": [
        {
          "output_type": "stream",
          "name": "stdout",
          "text": [
            "오늘(2025-04-14) 서울 날씨\n",
            "- 최고 기온: 6.2°C\n",
            "- 최저 기온: 1.7°C\n"
          ]
        }
      ]
    },
    {
      "cell_type": "markdown",
      "source": [
        "## **3. 영어 명언 출력 API (Zenquotes)**\n",
        "\n",
        "- 영어로 된 명언과 명언을 한 사람의 이름을 제공\n",
        "\n",
        "- 공식 문서: https://zenquotes.io/\n",
        "\n",
        "1. URL: https://zenquotes.io/api/random\n",
        "2. Type: Get\n",
        "\n",
        "**반환 값 예시**\n",
        "```\n",
        "[\n",
        "   {\n",
        "      \"q\": \"Simple words, repeated daily, can change your life.\",\n",
        "      \"a\": \"Maxime Lagace\",\n",
        "      \"h\": \"<blockquote>&ldquo;Simple words, repeated daily, can change your life.&rdquo; &mdash; <footer>Maxime Lagace</footer></blockquote>\"\n",
        "   }\n",
        "]\n",
        "```"
      ],
      "metadata": {
        "id": "ZLok-sETlpny"
      }
    },
    {
      "cell_type": "code",
      "source": [
        "import requests\n",
        "\n",
        "url = 'https://zenquotes.io/api/random'\n",
        "response = requests.get(url)\n",
        "data = response.json()\n",
        "\n",
        "quote = data[0]['q']\n",
        "author = data[0]['a']\n",
        "\n",
        "print('오늘의 명언')\n",
        "print(f'\"{quote}\" - {author}')"
      ],
      "metadata": {
        "colab": {
          "base_uri": "https://localhost:8080/"
        },
        "id": "wATv5RBglrGx",
        "outputId": "368bbdf4-8248-4c3a-a55c-a5297f2fb9cd"
      },
      "execution_count": null,
      "outputs": [
        {
          "output_type": "stream",
          "name": "stdout",
          "text": [
            "오늘의 명언\n",
            "\"Catch, then, O catch the transient hour; Improve each moment as it flies! \" - St. Jerome\n"
          ]
        }
      ]
    },
    {
      "cell_type": "code",
      "source": [
        "import requests\n",
        "import json\n",
        "\n",
        "url = 'https://zenquotes.io/api/random'\n",
        "response = requests.get(url)\n",
        "data = response.json()\n",
        "\n",
        "print(data)\n",
        "# [{'q': 'Without the confidence, nothing can be accomplished.', 'a': 'Sathya Sai Baba', 'h': '<blockquote>&ldquo;Without the confidence, nothing can be accomplished.&rdquo; &mdash; <footer>Sathya Sai Baba</footer></blockquote>'}]\n",
        "\n",
        "print(json.dumps(data, indent=3))\n",
        "# 기존의 한줄로 출력되던 json 데이터를 깔끔하게 출력 / indent는 들여쓰기 칸 설정\n",
        "# [\n",
        "#   {\n",
        "#      \"q\": \"Without the confidence, nothing can be accomplished.\",\n",
        "#      \"a\": \"Sathya Sai Baba\",\n",
        "#      \"h\": \"<blockquote>&ldquo;Without the confidence, nothing can be accomplished.&rdquo; &mdash; <footer>Sathya Sai Baba</footer></blockquote>\"\n",
        "#   }\n",
        "# ]"
      ],
      "metadata": {
        "colab": {
          "base_uri": "https://localhost:8080/"
        },
        "id": "IMvcJ4PKnAMS",
        "outputId": "bf622656-33b7-4f9e-c145-0eedb0375fda"
      },
      "execution_count": null,
      "outputs": [
        {
          "output_type": "stream",
          "name": "stdout",
          "text": [
            "[{'q': 'Simple words, repeated daily, can change your life.', 'a': 'Maxime Lagace', 'h': '<blockquote>&ldquo;Simple words, repeated daily, can change your life.&rdquo; &mdash; <footer>Maxime Lagace</footer></blockquote>'}]\n",
            "[\n",
            "   {\n",
            "      \"q\": \"Simple words, repeated daily, can change your life.\",\n",
            "      \"a\": \"Maxime Lagace\",\n",
            "      \"h\": \"<blockquote>&ldquo;Simple words, repeated daily, can change your life.&rdquo; &mdash; <footer>Maxime Lagace</footer></blockquote>\"\n",
            "   }\n",
            "]\n"
          ]
        }
      ]
    },
    {
      "cell_type": "markdown",
      "source": [
        "# **아침 루틴 만들기**\n",
        "\n",
        "1. 랜덤 고양이 사진 보여주기\n",
        "\n",
        "2. 오늘 서울 날씨 알려주기\n",
        "\n",
        "3. 오늘의 명언 출력하기\n",
        "\n",
        "4. 추가 기능 제공 (자율)"
      ],
      "metadata": {
        "id": "q8vnTlDcrngb"
      }
    },
    {
      "cell_type": "code",
      "source": [
        "import requests\n",
        "from IPython.display import Image, display\n",
        "from datetime import datetime\n",
        "from geopy.geocoders import Nominatim\n",
        "import json\n",
        "\n",
        "class Routine:\n",
        "  def __init__(self):\n",
        "    self.cat_url = 'https://api.thecatapi.com/v1/images/search'\n",
        "    self.weather_url = 'https://api.open-meteo.com/v1/forecast'\n",
        "    self.quotes_url = 'https://zenquotes.io/api/random'\n",
        "    self.coin_url = 'https://api.coinlore.net/api/'\n",
        "\n",
        "  def show_cat_pic(self):\n",
        "    data = self.get_data(self.cat_url)\n",
        "\n",
        "    pic_info = data[0]['url']\n",
        "\n",
        "    print('랜덤 고양이 사진을 출력합니다')\n",
        "    display(Image(url=pic_info))\n",
        "\n",
        "  def show_weather(self, address='서울특별시 중구 세종대로 110', date=datetime.today().strftime('%Y-%m-%d')):\n",
        "    coordinates = self.import_address_coordinates(address)\n",
        "\n",
        "    latitude = coordinates['lat']\n",
        "    longitude = coordinates['lng']\n",
        "\n",
        "    url = self.weather_url + f'?latitude={latitude}&longitude={longitude}&hourly=temperature_2m&start_date={date}&end_date={date}'\n",
        "\n",
        "    data = self.get_data(url)\n",
        "\n",
        "    temp_unit = data['hourly_units']['temperature_2m']\n",
        "    time_arr = data['hourly']['time']\n",
        "    temp_arr = data['hourly']['temperature_2m']\n",
        "\n",
        "    temp_max = max(temp_arr)\n",
        "    temp_min = min(temp_arr)\n",
        "\n",
        "    temp_max_time = time_arr[temp_arr.index(temp_max)].split('T')[1]\n",
        "    temp_min_time = time_arr[temp_arr.index(temp_min)].split('T')[1]\n",
        "\n",
        "    date_arr = date.split('-')\n",
        "\n",
        "    print(f'\\n{date_arr[0]}년 {date_arr[1]}월 {date_arr[2]}일의 날씨')\n",
        "    print(f'- 최고 기온: {temp_max}{temp_unit} ({temp_max_time})')\n",
        "    print(f'- 최저 기온: {temp_min}{temp_unit} ({temp_min_time})')\n",
        "\n",
        "  def show_quotes(self):\n",
        "    data = self.get_data(self.quotes_url)\n",
        "\n",
        "    quote = data[0]['q']\n",
        "    author = data[0]['a']\n",
        "\n",
        "    print('\\n오늘의 명언')\n",
        "    print(f'\"{quote}\" - {author}\\n')\n",
        "\n",
        "  def show_coin_price(self):\n",
        "    ticker = input('원하시는 코인의 티커를 입력하세요: ')\n",
        "\n",
        "    coin_id = self.show_coin_ticker(ticker)\n",
        "    url = f'{self.coin_url}/ticker/?id={coin_id}'\n",
        "\n",
        "    data = self.get_data(url)\n",
        "\n",
        "    price = data[0]['price_usd']\n",
        "    print(f'현재 {ticker}의 가격은 {price} 달러입니다')\n",
        "\n",
        "  def show_coin_ticker(self, ticker):\n",
        "    isNotFound = True\n",
        "    start = 0\n",
        "    limit = 100\n",
        "    id = 0\n",
        "\n",
        "    while isNotFound:\n",
        "      url = f'{self.coin_url}/tickers/?start={start}&limit={limit}'\n",
        "      data = self.get_data(url)\n",
        "\n",
        "      coins = data['data']\n",
        "\n",
        "      for coin in coins:\n",
        "        symbol = coin['symbol']\n",
        "\n",
        "        if (symbol == ticker):\n",
        "\n",
        "          id = coin['id']\n",
        "          isNotFound = False\n",
        "          break\n",
        "\n",
        "      start += limit\n",
        "    return id\n",
        "\n",
        "  def import_address_coordinates(self, address):\n",
        "    geolocoder = Nominatim(user_agent = 'South Korea', timeout=None)\n",
        "    geo = geolocoder.geocode(address)\n",
        "    crd = {\"lat\": str(geo.latitude), \"lng\": str(geo.longitude)}\n",
        "\n",
        "    return crd\n",
        "\n",
        "  def get_data(self, url):\n",
        "    response = requests.get(url)\n",
        "    data = response.json()\n",
        "\n",
        "    return data"
      ],
      "metadata": {
        "id": "H32PfE_Hrvqa"
      },
      "execution_count": 196,
      "outputs": []
    },
    {
      "cell_type": "code",
      "source": [
        "routine = Routine()\n",
        "\n",
        "routine.show_cat_pic()\n",
        "print('\\n')\n",
        "\n",
        "address = input('날씨를 확인하고 싶은 지역의 주소를 입력해주세요: ')\n",
        "date = input('날씨를 확인하고 싶은 날짜를 입력해주세요 (양식: 0000(년도)-00(월)-00(일)): ')\n",
        "\n",
        "routine.show_weather(address, date)\n",
        "routine.show_quotes()\n",
        "routine.show_coin_price()"
      ],
      "metadata": {
        "colab": {
          "base_uri": "https://localhost:8080/",
          "height": 1000
        },
        "id": "A6g1oN483uq2",
        "outputId": "e29f3ef7-ed94-4dd1-8dbf-f5c94eff1a4d"
      },
      "execution_count": 197,
      "outputs": [
        {
          "output_type": "stream",
          "name": "stdout",
          "text": [
            "랜덤 고양이 사진을 출력합니다\n"
          ]
        },
        {
          "output_type": "display_data",
          "data": {
            "text/html": [
              "<img src=\"https://cdn2.thecatapi.com/images/27f.jpg\"/>"
            ],
            "text/plain": [
              "<IPython.core.display.Image object>"
            ]
          },
          "metadata": {}
        },
        {
          "output_type": "stream",
          "name": "stdout",
          "text": [
            "\n",
            "\n",
            "날씨를 확인하고 싶은 지역의 주소를 입력해주세요: 경기 안성시 공도읍 송원길 41-12\n",
            "날씨를 확인하고 싶은 날짜를 입력해주세요 (양식: 0000(년도)-00(월)-00(일)): 2025-04-15\n",
            "\n",
            "2025년 04월 15일의 날씨\n",
            "- 최고 기온: 12.6°C (04:00)\n",
            "- 최저 기온: 3.0°C (21:00)\n",
            "\n",
            "오늘의 명언\n",
            "\"Accept responsibility for your life. Know that it is you who will get you where you want to go, no one else.\" - Les Brown\n",
            "\n",
            "원하시는 코인의 티커를 입력하세요: BTC\n",
            "현재 BTC의 가격은 84461.30 달러입니다\n"
          ]
        }
      ]
    }
  ]
}