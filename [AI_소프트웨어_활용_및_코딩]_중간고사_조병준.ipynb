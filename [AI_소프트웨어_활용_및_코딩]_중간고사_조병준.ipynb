{
  "cells": [
    {
      "cell_type": "markdown",
      "id": "bb23a13c",
      "metadata": {
        "id": "bb23a13c"
      },
      "source": [
        "# **중간고사**"
      ]
    },
    {
      "cell_type": "markdown",
      "id": "2cd6679e",
      "metadata": {
        "id": "2cd6679e"
      },
      "source": [
        "\n",
        "## 1번 (5점)\n",
        "\n",
        "**문제:**  \n",
        "다음 중 리스트(List)에서 사용할 수 있는 메서드를 4개 출력하세요.\n",
        "\n",
        "**요구사항:**  \n",
        "- list 자료형에서 실제 사용 가능한 메서드 4개 출력.\n",
        "- 메서드 이름만 출력할 것.\n",
        "\n"
      ]
    },
    {
      "cell_type": "code",
      "source": [
        " # 1번 답\n",
        "\n",
        " example_list = [1, 2, 3, 4]\n",
        "\n",
        "# 1. sort() : 정렬 함수\n",
        "example_list.sort()\n",
        "print(example_list)\n",
        "\n",
        "# 2. reverse(): 역순 함수\n",
        "example_list.reverse()\n",
        "print(example_list)\n",
        "\n",
        "# 3. append(n): 추가 함수\n",
        "example_list.append(5)\n",
        "print(example_list)\n",
        "\n",
        "# 4. pop():  마지막 요소 리턴 후 삭제\n",
        "example_list.pop()\n",
        "print(example_list)"
      ],
      "metadata": {
        "colab": {
          "base_uri": "https://localhost:8080/"
        },
        "id": "nDgQwal7sdfC",
        "outputId": "47eedbc3-23bc-485f-af0e-8f84d58ebcff"
      },
      "id": "nDgQwal7sdfC",
      "execution_count": 8,
      "outputs": [
        {
          "output_type": "stream",
          "name": "stdout",
          "text": [
            "[1, 2, 3, 4]\n",
            "[4, 3, 2, 1]\n",
            "[4, 3, 2, 1, 5]\n",
            "[4, 3, 2, 1]\n"
          ]
        }
      ]
    },
    {
      "cell_type": "markdown",
      "id": "b244ce53",
      "metadata": {
        "id": "b244ce53"
      },
      "source": [
        "\n",
        "## 2번 (5점)\n",
        "## **코드 절대 실행 금지(실행 확인 시 1, 2, 3번 모두 0점 처리)**\n",
        "\n",
        "**문제:**  \n",
        "다음 Python 코드를 실행했을 때 나오는 출력 결과만 작성하세요.\n",
        "\n",
        "```python\n",
        "def func(a, b=[]):\n",
        "    b.append(a)\n",
        "    return b\n",
        "\n",
        "print(func(1))\n",
        "print(func(2))\n",
        "print(func(3, []))\n",
        "print(func(4))\n",
        "```\n",
        "\n",
        "**요구사항:**  \n",
        "- 코드 실행 결과만 순서대로 출력\n",
        "- **코드 절대 실행 금지**"
      ]
    },
    {
      "cell_type": "code",
      "source": [
        "# 2번 답\n",
        "\n",
        "print([1])\n",
        "print([2])\n",
        "print([3])\n",
        "print([4])"
      ],
      "metadata": {
        "id": "8_D7hJ8tb67u",
        "colab": {
          "base_uri": "https://localhost:8080/"
        },
        "outputId": "31a73e05-c437-46fd-a00d-0fdf07ce55b9"
      },
      "id": "8_D7hJ8tb67u",
      "execution_count": 12,
      "outputs": [
        {
          "output_type": "stream",
          "name": "stdout",
          "text": [
            "[1]\n",
            "[2]\n",
            "[3]\n",
            "[4]\n"
          ]
        }
      ]
    },
    {
      "cell_type": "markdown",
      "id": "dc703882",
      "metadata": {
        "id": "dc703882"
      },
      "source": [
        "\n",
        "## 3번 (10점)\n",
        "\n",
        "**문제:**  \n",
        "다음 리스트가 주어졌을 때, \"Python\"이라는 단어의 세 번째 문자를 출력하는 코드를 작성하세요.\n",
        "\n",
        "```python\n",
        "data = [\n",
        "    {\"language\": \"Python\", \"version\": \"3.11\"},\n",
        "    {\"language\": \"Java\", \"version\": \"17\"},\n",
        "    {\"language\": \"C++\", \"version\": \"20\"}\n",
        "]\n",
        "```\n"
      ]
    },
    {
      "cell_type": "code",
      "source": [
        "# 3번 답\n",
        "\n",
        "def findPythonFunc(datas):\n",
        "  for data in datas:\n",
        "    if data['language'] == 'Python':\n",
        "\n",
        "      # index는 0부터 시작이므로 index 2는 3번째 글자를 의미\n",
        "      print(data['language'][2])\n",
        "\n",
        "data = [\n",
        "    {\"language\": \"Python\", \"version\": \"3.11\"},\n",
        "    {\"language\": \"Java\", \"version\": \"17\"},\n",
        "    {\"language\": \"C++\", \"version\": \"20\"}\n",
        "]\n",
        "\n",
        "findPythonFunc(data)"
      ],
      "metadata": {
        "id": "N7wWxU2VcNOl",
        "colab": {
          "base_uri": "https://localhost:8080/"
        },
        "outputId": "42f4f3b8-a758-41a8-a3f0-9099eb905022"
      },
      "id": "N7wWxU2VcNOl",
      "execution_count": 24,
      "outputs": [
        {
          "output_type": "stream",
          "name": "stdout",
          "text": [
            "t\n"
          ]
        }
      ]
    },
    {
      "cell_type": "markdown",
      "id": "bd9b13fc",
      "metadata": {
        "id": "bd9b13fc"
      },
      "source": [
        "\n",
        "## 4번 (15점)\n",
        "\n",
        "**문제:**  \n",
        "사용자로부터 여러 줄을 입력받아, 각 줄을 역순으로 변환하여 answer_이름.txt 파일에 저장하는 프로그램을 작성하세요.\n",
        "\n",
        "**요구사항:**  \n",
        "- 여러 줄 입력받고\n",
        "- 빈 줄(엔터만 입력) 입력 시 종료\n",
        "- 각 줄을 역순으로 저장\n",
        "- 파일에는 반드시 아래 포맷으로 저장\n",
        "\n",
        "```\n",
        "tset a si sihT\n",
        "eman ym si iwHnoeY(본인이름)\n",
        "nohtyP evol I\n",
        "```\n"
      ]
    },
    {
      "cell_type": "code",
      "source": [
        "# 4번 답\n",
        "\n",
        "f = open('answer_조병준.txt', 'w')\n",
        "\n",
        "while True:\n",
        "  input_sentence = input('입력을 원하시는 내용을 입력해주세요: ')\n",
        "\n",
        "  if input_sentence == '':\n",
        "    break;\n",
        "\n",
        "  reverse_sentence_word = []\n",
        "\n",
        "  for i in range(len(input_sentence)-1, -1, -1):\n",
        "    reverse_sentence_word.append(input_sentence[i])\n",
        "\n",
        "  reverse_sentence = ''.join(reverse_sentence_word)\n",
        "\n",
        "  f.write(reverse_sentence + '\\n')\n",
        "\n",
        "f.close()"
      ],
      "metadata": {
        "id": "Gvxny3WGcWkp",
        "colab": {
          "base_uri": "https://localhost:8080/"
        },
        "outputId": "a801f49b-c0d6-4fb4-dd84-fb3c5f27a00b"
      },
      "id": "Gvxny3WGcWkp",
      "execution_count": 48,
      "outputs": [
        {
          "name": "stdout",
          "output_type": "stream",
          "text": [
            "입력을 원하시는 내용을 입력해주세요: This is a test\n",
            "입력을 원하시는 내용을 입력해주세요: ByungJoon is my name\n",
            "입력을 원하시는 내용을 입력해주세요: I love Python\n",
            "입력을 원하시는 내용을 입력해주세요: \n"
          ]
        }
      ]
    },
    {
      "cell_type": "markdown",
      "id": "f8200d7a",
      "metadata": {
        "id": "f8200d7a"
      },
      "source": [
        "\n",
        "## 5번 (15점)\n",
        "\n",
        "**문제:**  \n",
        "answer_이름.txt 파일을 읽어서, 파일에 등장하는 영문 단어 중 가장 긴 단어를 찾아 거꾸로 출력하세요.\n",
        "\n",
        "**요구사항:**  \n",
        "- 대소문자 구분 없이 처리\n",
        "- 알파벳만 단어로 인정\n",
        "- 띄어쓰기, 특수문자는 무시\n",
        "- 최종 결과는 반드시 아래처럼 출력\n",
        "\n",
        "```\n",
        "가장 긴 단어: YeonHwi\n",
        "```\n"
      ]
    },
    {
      "cell_type": "code",
      "source": [
        "# 5번 답\n",
        "import re\n",
        "\n",
        "f = open('answer_조병준.txt', 'r')\n",
        "\n",
        "long_word = ''\n",
        "isEnglish = re.compile('[a-zA-Z]')\n",
        "\n",
        "for line in f:\n",
        "  words = line.split()\n",
        "\n",
        "  for word in words:\n",
        "    if isEnglish.match(word) and len(word) > len(long_word):\n",
        "      long_word = word\n",
        "\n",
        "reverse_long_word = []\n",
        "\n",
        "for i in range(len(long_word)-1, -1, -1):\n",
        "  reverse_long_word.append(long_word[i])\n",
        "\n",
        "reverse_long_word = ''.join(reverse_long_word)\n",
        "\n",
        "print(f'가장 긴 단어: {reverse_long_word}')"
      ],
      "metadata": {
        "id": "BJ948cT0c0hC",
        "colab": {
          "base_uri": "https://localhost:8080/"
        },
        "outputId": "62cb5264-87b4-47e3-b52b-39c150ec8556"
      },
      "id": "BJ948cT0c0hC",
      "execution_count": 63,
      "outputs": [
        {
          "output_type": "stream",
          "name": "stdout",
          "text": [
            "가장 긴 단어: ByungJoon\n"
          ]
        }
      ]
    },
    {
      "cell_type": "markdown",
      "id": "c57de3c0",
      "metadata": {
        "id": "c57de3c0"
      },
      "source": [
        "\n",
        "## 6번 (15점)\n",
        "\n",
        "**문제:**  \n",
        "다음 리스트를 각 숫자의 '십의 자리 숫자'를 기준으로 오름차순 정렬하세요.\n",
        "\n",
        "```python\n",
        "numbers = [31, 4, 15, 92, 65, 35, 89]\n",
        "```\n",
        "\n",
        "**요구사항:**\n",
        "- 일의 자리 숫자는 십의자리 숫자가 0인 것으로 취급합니다.\n",
        "- 십의 자리 숫자가 기준입니다.\n",
        "- 십의 자리가 같으면 원래 순서를 유지해야 합니다.\n",
        "- 정렬된 리스트를 아래 형식에 맞춰 출력하세요.\n",
        "\n",
        "```\n",
        "정렬된 리스트: [4, 15, 31, 35, 65, 89, 92]\n",
        "```\n"
      ]
    },
    {
      "cell_type": "code",
      "source": [
        "# 6번 답\n",
        "\n",
        "numbers = [31, 4, 15, 92, 65, 35, 89]\n",
        "numbers.sort()\n",
        "\n",
        "print(f'정렬된 리스트: {numbers}')"
      ],
      "metadata": {
        "id": "YCx-cB4FdVPl",
        "colab": {
          "base_uri": "https://localhost:8080/"
        },
        "outputId": "76109d7c-a83a-4913-dee5-8d7158c2478d"
      },
      "id": "YCx-cB4FdVPl",
      "execution_count": 163,
      "outputs": [
        {
          "output_type": "stream",
          "name": "stdout",
          "text": [
            "정렬된 리스트: [4, 15, 31, 35, 65, 89, 92]\n"
          ]
        }
      ]
    },
    {
      "cell_type": "markdown",
      "id": "8a89d564",
      "metadata": {
        "id": "8a89d564"
      },
      "source": [
        "\n",
        "## 7번 (15점)\n",
        "\n",
        "**문제:**  \n",
        "`Student` 클래스를 작성하세요.\n",
        "\n",
        "**요구사항:**  \n",
        "- 생성자에서 이름(`name`)과 학번(`id`)을 `Alice`와 `20250123`으로 지정 합니다.\n",
        "- `get_info()` 메서드를 만들어 이름과 학번을 문자열로 반환합니다.\n",
        "- 학생 객체를 생성하고 `get_info()`를 호출해 출력하세요.\n",
        "\n",
        "**출력 포맷 예시:**\n",
        "\n",
        "```\n",
        "[7번]\n",
        "Name: Alice, ID: 20250123\n",
        "```\n"
      ]
    },
    {
      "cell_type": "code",
      "source": [
        "# 7번 답\n",
        "\n",
        "class Student:\n",
        "  def __init__(self, name, id):\n",
        "    self.name = name\n",
        "    self.id = id\n",
        "\n",
        "  def get_info(self):\n",
        "    return f'Name: {self.name}, ID: {self.id}'\n",
        "\n",
        "student = Student('Alice', '20250123')\n",
        "print(student.get_info())"
      ],
      "metadata": {
        "id": "6b_bl5Bgdw0x",
        "colab": {
          "base_uri": "https://localhost:8080/"
        },
        "outputId": "8ddf7a83-d0a0-42d9-e148-133e2fdf982a"
      },
      "id": "6b_bl5Bgdw0x",
      "execution_count": 71,
      "outputs": [
        {
          "output_type": "stream",
          "name": "stdout",
          "text": [
            "Name: Alice, ID: 20250123\n"
          ]
        }
      ]
    },
    {
      "cell_type": "markdown",
      "id": "cda73c35",
      "metadata": {
        "id": "cda73c35"
      },
      "source": [
        "\n",
        "## 8번 (20점)\n",
        "\n",
        "**문제:**  \n",
        "딱정벌레가 2차원 격자(배열) 위를 무작위로 이동합니다.\n",
        "\n",
        "**상황 설정:**  \n",
        "- 2차원 배열은 5행 5열입니다.\n",
        "- 딱정벌레는 (2, 2)에서 출발합니다.\n",
        "- 매 이동마다 상, 하, 좌, 우 중 무작위 방향으로 1칸 이동합니다.\n",
        "- 이동한 칸의 값을 +1 증가시킵니다.\n",
        "- 격자 밖으로 나가려 하면 이동하지 않고 다시 방향을 정합니다(카운트 하지 않음).\n",
        "\n",
        "**목표:**  \n",
        "- 모든 칸을 최소 1번 이상 방문하면 종료합니다.\n",
        "\n",
        "**출력 요구사항:**  \n",
        "- 모든 칸을 다 방문한 후 최종 배열과 이독 횟수를 출력하세요.\n",
        "\n",
        "**출력 포맷 예시:**\n",
        "\n",
        "```\n",
        "최종배열\n",
        "[[3, 4, 2, 3, 2],\n",
        " [2, 5, 3, 2, 3],\n",
        " [3, 2, 4, 3, 2],\n",
        " [2, 3, 2, 5, 4],\n",
        " [3, 2, 3, 2, 1]]\n",
        "\n",
        " 이동횟수 : n회\n",
        "```\n"
      ]
    },
    {
      "cell_type": "code",
      "source": [
        "# 8번 답\n",
        "import random\n",
        "\n",
        "array_len = 5\n",
        "x = 2\n",
        "y = 2\n",
        "count = 0\n",
        "\n",
        "map = [[0 for y in range(0, array_len)] for x in range(0, array_len)]\n",
        "\n",
        "while True:\n",
        "  isPlus = random.randint(0, 1)\n",
        "  isWidth = random.randint(0, 1)\n",
        "\n",
        "  if isWidth:\n",
        "    if isPlus and x < array_len-1:\n",
        "      x = x + 1\n",
        "    elif isPlus == 0 and x > 0:\n",
        "      x = x - 1\n",
        "  else:\n",
        "    if isPlus and y < array_len-1:\n",
        "      y = y + 1\n",
        "    elif isPlus == 0 and y > 0:\n",
        "      y = - 1\n",
        "\n",
        "  map[x][y] += 1\n",
        "\n",
        "  all_move_result = []\n",
        "\n",
        "  for line in map:\n",
        "    if 0 in line:\n",
        "      all_move_result.append(True)\n",
        "    else:\n",
        "      all_move_result.append(False)\n",
        "\n",
        "  if True not in all_move_result:\n",
        "    break\n",
        "\n",
        "  count = count + 1\n",
        "\n",
        "print('최종배열')\n",
        "print(map)\n",
        "\n",
        "print(f'\\n이동횟수 : {count}회')"
      ],
      "metadata": {
        "colab": {
          "base_uri": "https://localhost:8080/"
        },
        "id": "gzBKJkb02Voc",
        "outputId": "4a6cc17b-4d7e-41f8-cc30-684ddee64803"
      },
      "id": "gzBKJkb02Voc",
      "execution_count": 165,
      "outputs": [
        {
          "output_type": "stream",
          "name": "stdout",
          "text": [
            "최종배열\n",
            "[[17, 10, 1, 3, 12], [21, 12, 5, 2, 14], [18, 8, 3, 1, 27], [29, 13, 5, 2, 38], [26, 15, 2, 1, 28]]\n",
            "\n",
            "이동횟수 : 312회\n"
          ]
        }
      ]
    }
  ],
  "metadata": {
    "colab": {
      "provenance": []
    },
    "language_info": {
      "name": "python"
    },
    "kernelspec": {
      "name": "python3",
      "display_name": "Python 3"
    }
  },
  "nbformat": 4,
  "nbformat_minor": 5
}