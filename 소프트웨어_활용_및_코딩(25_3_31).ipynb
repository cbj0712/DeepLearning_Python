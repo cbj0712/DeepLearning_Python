{
  "nbformat": 4,
  "nbformat_minor": 0,
  "metadata": {
    "colab": {
      "provenance": [],
      "collapsed_sections": [
        "dJQQJa8DhTqW",
        "0w_zPBmmhVVl",
        "HB0pLs7WkWJW",
        "VtU3o0CdlqV2",
        "f6uBVfzLnA3f",
        "w8XLp0TKqYJ_",
        "xEGS2jGIvYhI",
        "Z6__bBH0yM_J",
        "nxu4qbE9y79x",
        "-uEPyXsIzrQp",
        "Hh8harE30wqC",
        "1biqYAIj74gE",
        "c2iDqDP7DItU",
        "UOCjIKaWAdRl",
        "3TH_wekHCIG1",
        "eHU6kGXvX-YB",
        "YVBMocsoYFEh",
        "lCc7jOOUZFHy",
        "Fu5wEZeQZ4Ny",
        "cUchdchFdGF7",
        "ZJGsOYpHeajr",
        "9P-8qhOfjSNM",
        "L6Wy8v2XlRT8"
      ]
    },
    "kernelspec": {
      "name": "python3",
      "display_name": "Python 3"
    },
    "language_info": {
      "name": "python"
    }
  },
  "cells": [
    {
      "cell_type": "markdown",
      "source": [
        "# **반복문**\n",
        "\n",
        "- 특정 코드를 여러 번 실행"
      ],
      "metadata": {
        "id": "dJQQJa8DhTqW"
      }
    },
    {
      "cell_type": "markdown",
      "source": [
        "## **while문**\n",
        "\n",
        "- 주어진 조건이 True(참)인 동안 코드를 반복적으로 실행하는 제어문\n",
        "\n",
        "```\n",
        "while 조건:\n",
        "  조건이 참인 경우 실행되는 문장\n",
        "  조건이 참인 경우 실행되는 문장\n",
        "```\n",
        "\n",
        "\n"
      ],
      "metadata": {
        "id": "0w_zPBmmhVVl"
      }
    },
    {
      "cell_type": "code",
      "source": [
        "# while문 외부에서 조건을 위한 변수 선언\n",
        "num = 1\n",
        "\n",
        "# while 조건 → num이 5이하인 경우\n",
        "while num <= 5:\n",
        "  # 조건이 참인 경우 실행되는 문장\n",
        "  print(num)\n",
        "  # 조건을 변경시키는 문장을 항상 while문 내부에 포함시켜야 함. / 없을 경우 조건을 항상 충족하여 무한 loop 가능\n",
        "  num += 1"
      ],
      "metadata": {
        "colab": {
          "base_uri": "https://localhost:8080/"
        },
        "id": "BCquU7eah4Td",
        "outputId": "43f2ad00-9129-4095-8773-b51ae8b0eef0"
      },
      "execution_count": null,
      "outputs": [
        {
          "output_type": "stream",
          "name": "stdout",
          "text": [
            "1\n",
            "2\n",
            "3\n",
            "4\n",
            "5\n"
          ]
        }
      ]
    },
    {
      "cell_type": "code",
      "source": [
        "while False:\n",
        "  print('False인 경우')\n",
        "\n",
        "while True:\n",
        "  print('True인 경우')"
      ],
      "metadata": {
        "id": "-hF6I5sckX1N"
      },
      "execution_count": null,
      "outputs": []
    },
    {
      "cell_type": "markdown",
      "source": [
        "## **Break문**\n",
        "\n",
        "- while문을 조건과 관계없이 강제로 탈출하는 명령어"
      ],
      "metadata": {
        "id": "HB0pLs7WkWJW"
      }
    },
    {
      "cell_type": "code",
      "source": [
        "while True:\n",
        "  print('안녕하세요')\n",
        "  break\n",
        "\n",
        "# 안녕하세요 1번 출력 후 종료\n",
        "\n",
        "while True:\n",
        "  break\n",
        "  print('안녕하세요')\n",
        "\n",
        "# 바로 종료"
      ],
      "metadata": {
        "colab": {
          "base_uri": "https://localhost:8080/"
        },
        "id": "dg2xSczRkfMd",
        "outputId": "c5fb5b20-7a46-4e11-a91e-d5a5f4df3ece"
      },
      "execution_count": null,
      "outputs": [
        {
          "output_type": "stream",
          "name": "stdout",
          "text": [
            "안녕하세요\n"
          ]
        }
      ]
    },
    {
      "cell_type": "code",
      "source": [
        "num = 1\n",
        "\n",
        "while True:\n",
        "  print(num)\n",
        "  num += 1            # num값 변경 → 조건을 위한 변경\n",
        "\n",
        "  if num > 5:         # 조건문 → num이 5 이상인 경우 break (while문 강제 종료)\n",
        "    break"
      ],
      "metadata": {
        "colab": {
          "base_uri": "https://localhost:8080/"
        },
        "id": "B7okhp-8k1nL",
        "outputId": "2df59bae-b8a3-4391-8f80-4c1991b0134f"
      },
      "execution_count": null,
      "outputs": [
        {
          "output_type": "stream",
          "name": "stdout",
          "text": [
            "1\n",
            "2\n",
            "3\n",
            "4\n",
            "5\n"
          ]
        }
      ]
    },
    {
      "cell_type": "markdown",
      "source": [
        "## **Continue 명령어**\n",
        "\n",
        "- while문에서 continue 아래의 문장을 무시하고 다음 루프로 실행시키는 코드\n",
        "→ continue를 만나는 순간 즉시 조건을 검색하러 간다"
      ],
      "metadata": {
        "id": "VtU3o0CdlqV2"
      }
    },
    {
      "cell_type": "code",
      "source": [
        "num = 0\n",
        "\n",
        "while num <= 10:\n",
        "  num += 1\n",
        "\n",
        "  if num < 5:            # num이 5 미만인 경우 까지 조건문 내의 문장 실행\n",
        "    continue             # 위의 조건이 True(참)일 경우 아래의 문장을 실행하지 않고 continue (다시 상단의 조건 검사하러 이동)\n",
        "\n",
        "  print(num)             # 위의 if 조건문 내의 continue로 인해 5부터 11까지 출력\n",
        "\n",
        "# 1: num = 0 → while 조건 충족 → num = num + 1 → num = 1 → if문 조건 충족 (num이 5미만) → continue\n",
        "# 2: num = 1 → while 조건 충족 →  num = num + 1 → num = 2 → if문 조건 충족 (num이 5미만) → continue\n",
        "# 3: num = 2 → while 조건 충족 →  num = num + 1 → num = 3 → if문 조건 충족 (num이 5미만) → continue\n",
        "# 4: num = 3 → while 조건 충족 →  num = num + 1 → num = 4 → if문 조건 충족 (num이 5미만) → continue\n",
        "# 5: num = 4 → while 조건 충족 →  num = num + 1 → num = 5 → if문 조건 불충족 → print(num) 실행 → 5 출력\n",
        "# 6: num = 5 → while 조건 충족 →  num = num + 1 → num = 6 → if문 조건 불충족 → print(num) 실행 → 6 출력\n",
        "# 7: num = 6 → while 조건 충족 →  num = num + 1 → num = 7 → if문 조건 불충족 → print(num) 실행 → 7 출력\n",
        "# 8: num = 7 → while 조건 충족 →  num = num + 1 → num = 8 → if문 조건 불충족 → print(num) 실행 → 8 출력\n",
        "# 9: num = 8 → while 조건 충족 →  num = num + 1 → num = 9 → if문 조건 불충족 → print(num) 실행 → 9 출력\n",
        "# 10: num = 9 → while 조건 충족 →  num = num + 1 → num = 10 → if문 조건 불충족 → print(num) 실행 → 10 출력\n",
        "# 11: num = 10 → while 조건 충족 →  num = num + 1 → num = 11 → if문 조건 불충족 → print(num) 실행 → 11 출력\n",
        "# 12: num = 11 → while 조건 불충족 → 실행 종료"
      ],
      "metadata": {
        "colab": {
          "base_uri": "https://localhost:8080/"
        },
        "id": "1uh7bzi8l0Uo",
        "outputId": "be2edc78-03a4-4171-e7ff-be9882eedb7e"
      },
      "execution_count": null,
      "outputs": [
        {
          "output_type": "stream",
          "name": "stdout",
          "text": [
            "5\n",
            "6\n",
            "7\n",
            "8\n",
            "9\n",
            "10\n",
            "11\n"
          ]
        }
      ]
    },
    {
      "cell_type": "markdown",
      "source": [
        "## **while문 예제 1. n보다 작거나 같은 3의 배수 합 구하기 예제**\n",
        "\n",
        "**요구사항**\n",
        "- 사용자로부터 정수 n을 입력받는다\n",
        "- while 반복문을 사용하여 1부터 n까지의 숫자 중 3의 배수만 더한 합계를 출력한다."
      ],
      "metadata": {
        "id": "f6uBVfzLnA3f"
      }
    },
    {
      "cell_type": "code",
      "source": [
        "inputNum = int(input('정수를 입력해주세요: '))\n",
        "sum = 0\n",
        "count = 1\n",
        "\n",
        "while count <= inputNum:\n",
        "  if count % 3 == 0:\n",
        "    sum += count\n",
        "\n",
        "  count += 1\n",
        "\n",
        "print('\\n▶ 1부터 입력하신 %d까지의 3의 배수의 합은 %s입니다' %(inputNum, format(sum,  ',d')))"
      ],
      "metadata": {
        "colab": {
          "base_uri": "https://localhost:8080/"
        },
        "id": "FuKfApyTnw1H",
        "outputId": "a9c45607-4c5a-4b6c-ab9f-7ddbeb5f7d0b"
      },
      "execution_count": null,
      "outputs": [
        {
          "output_type": "stream",
          "name": "stdout",
          "text": [
            "정수를 입력해주세요: 14\n",
            "\n",
            "▶ 1부터 입력하신 14까지의 3의 배수의 합은 30입니다\n"
          ]
        }
      ]
    },
    {
      "cell_type": "markdown",
      "source": [
        "## **whlie문 예제 2. 1부터 입력한 수까지 홀수가 출력하되, 100보다 크면 종료하는 예제**\n",
        "\n",
        "**요구사항**\n",
        "\n",
        "- 사용자로부터 정수 n을 입력받는다\n",
        "- while 반복문을 사용하여 1부터 n까지의 숫자 중 홀수만 출력한다\n",
        "- 단, 숫자가 100보다 크면 더 이상 출력하지 않고 반복문을 종료한다\n",
        "- continue는 짝수를 건너뛸 때 사용하고, break는 100 초과 시 종료할 때 사용한다"
      ],
      "metadata": {
        "id": "w8XLp0TKqYJ_"
      }
    },
    {
      "cell_type": "code",
      "source": [
        "inputNum = int(input('정수를 입력해주세요: '))\n",
        "i = 0\n",
        "\n",
        "while i < inputNum:\n",
        "  i += 1\n",
        "\n",
        "  if i > 100:\n",
        "    print('숫자가 100을 초과하여 종료합니다')\n",
        "    break\n",
        "\n",
        "  if i % 2 == 0:\n",
        "    continue\n",
        "\n",
        "  print(i)"
      ],
      "metadata": {
        "colab": {
          "base_uri": "https://localhost:8080/"
        },
        "id": "f20LEtPGqXbf",
        "outputId": "61d45f8e-573f-4d0f-aa27-aae11fced6a7"
      },
      "execution_count": null,
      "outputs": [
        {
          "output_type": "stream",
          "name": "stdout",
          "text": [
            "정수를 입력해주세요: 1000\n",
            "1\n",
            "3\n",
            "5\n",
            "7\n",
            "9\n",
            "11\n",
            "13\n",
            "15\n",
            "17\n",
            "19\n",
            "21\n",
            "23\n",
            "25\n",
            "27\n",
            "29\n",
            "31\n",
            "33\n",
            "35\n",
            "37\n",
            "39\n",
            "41\n",
            "43\n",
            "45\n",
            "47\n",
            "49\n",
            "51\n",
            "53\n",
            "55\n",
            "57\n",
            "59\n",
            "61\n",
            "63\n",
            "65\n",
            "67\n",
            "69\n",
            "71\n",
            "73\n",
            "75\n",
            "77\n",
            "79\n",
            "81\n",
            "83\n",
            "85\n",
            "87\n",
            "89\n",
            "91\n",
            "93\n",
            "95\n",
            "97\n",
            "99\n",
            "숫자가 100을 초과하여 종료합니다\n"
          ]
        }
      ]
    },
    {
      "cell_type": "markdown",
      "source": [
        "## **for문**\n",
        "\n",
        "- while문과 비슷하게 진행되지만, 조금 더 직관적\n",
        "- 특정 코드를 여러번 실행\n",
        "- 주어진 시퀀스의 요소에 대해 코드를 반복 실행\n",
        "- continue, break문 사용 가능\n",
        "\n",
        "```\n",
        "# for i in 시퀀스 (리스트, 튜플, 문자열):\n",
        "  수행할 문장 1\n",
        "  수행할 문장 2\n",
        "```\n",
        "\n"
      ],
      "metadata": {
        "id": "xEGS2jGIvYhI"
      }
    },
    {
      "cell_type": "code",
      "source": [
        "list1 = ['one', 'two', 'three', 'four', 'five']\n",
        "\n",
        "count = 1\n",
        "\n",
        "for i in list1:\n",
        "  print(str(count) + '회차 i의 값: ', end='')\n",
        "  print(i)\n",
        "  count += 1\n",
        "\n",
        "# 1: i = list[0] = 'one' / count = 1 = → '1회차 i의 값: one' 출력\n",
        "# 2: i = list[1] = 'two' / count = 2 = → '2회차 i의 값: two' 출력\n",
        "# 3: i = list[2] = 'three' / count = 3 = → '3회차 i의 값: three' 출력\n",
        "# 4: i = list[3] = 'four' / count = 4 = → '4회차 i의 값: four' 출력\n",
        "# 5: i = list[4] = 'five' / count = 5 = → '5회차 i의 값: five' 출력\n",
        "\n",
        "a = [(1, 1), (2, 2), (3, 3)]\n",
        "\n",
        "for (b, c) in a:\n",
        "  print(b + c)"
      ],
      "metadata": {
        "colab": {
          "base_uri": "https://localhost:8080/"
        },
        "id": "sc63oeFTv8x6",
        "outputId": "14e261d3-6f1b-43a7-a4be-42c8c60d7a70"
      },
      "execution_count": null,
      "outputs": [
        {
          "output_type": "stream",
          "name": "stdout",
          "text": [
            "1회차 i의 값: one\n",
            "2회차 i의 값: two\n",
            "3회차 i의 값: three\n",
            "4회차 i의 값: four\n",
            "5회차 i의 값: five\n",
            "2\n",
            "4\n",
            "6\n"
          ]
        }
      ]
    },
    {
      "cell_type": "markdown",
      "source": [
        "## **for문 예제 1. 학생들의 점수 출력**\n",
        "\n",
        "**요구사항**\n",
        "\n",
        "- 아래와 같이 (이름, 정수) 형태의 튜플이 담긴 리스트가 주어진다\n",
        "```\n",
        "# students = [('철수', 85), ('영희', 92), ('민수', 78)]\n",
        "```\n",
        "- for 반복문을 사용하여 다음과 같이 각 학생의 이름과 점수를 출력한다\n",
        "\n"
      ],
      "metadata": {
        "id": "Z6__bBH0yM_J"
      }
    },
    {
      "cell_type": "code",
      "source": [
        "students = [('철수', 85), ('영희', 92), ('민수', 78)]\n",
        "\n",
        "for name, score in students:\n",
        "  print(f'{name} 학생의 점수는 {score}점입니다')"
      ],
      "metadata": {
        "colab": {
          "base_uri": "https://localhost:8080/"
        },
        "id": "sR-q2WRYyWyq",
        "outputId": "824ebcda-692b-4dcd-cc11-6d1b6bbe661f"
      },
      "execution_count": null,
      "outputs": [
        {
          "output_type": "stream",
          "name": "stdout",
          "text": [
            "철수 학생의 점수는 85점입니다\n",
            "영희 학생의 점수는 92점입니다\n",
            "민수 학생의 점수는 78점입니다\n"
          ]
        }
      ]
    },
    {
      "cell_type": "markdown",
      "source": [
        "## **range 함수**\n",
        "\n",
        "- 숫자 시퀀스를 자동으로 만들어주는 함수\n",
        "- range(번호)\n",
        "- range(시작 번호, 마지막 번호, 증감치)\n",
        "- 시작 번호 포함, 마지막 번호 미포함 가능"
      ],
      "metadata": {
        "id": "nxu4qbE9y79x"
      }
    },
    {
      "cell_type": "code",
      "source": [
        "# range(번호) → 0부터 번호까지 자동으로 1씩 증가\n",
        "for i in range(10):\n",
        "  print(i)\n",
        "# 0 ~ 9 출력\n",
        "\n",
        "# range(시작 번호, 마지막 번호, 증감치) → 시작 번호부터 마지막 번호-1까지 증감치에 따라 변화\n",
        "for i in range (-10, 12, 2):\n",
        "  print(i)\n",
        "# -10 ~ 10까지 2씩 증가 출력"
      ],
      "metadata": {
        "colab": {
          "base_uri": "https://localhost:8080/"
        },
        "id": "oDzQSi_fzHcp",
        "outputId": "6e99eec4-b0e8-4673-c146-304e91e02b37"
      },
      "execution_count": null,
      "outputs": [
        {
          "output_type": "stream",
          "name": "stdout",
          "text": [
            "0\n",
            "1\n",
            "2\n",
            "3\n",
            "4\n",
            "5\n",
            "6\n",
            "7\n",
            "8\n",
            "9\n",
            "-10\n",
            "-8\n",
            "-6\n",
            "-4\n",
            "-2\n",
            "0\n",
            "2\n",
            "4\n",
            "6\n",
            "8\n",
            "10\n"
          ]
        }
      ]
    },
    {
      "cell_type": "markdown",
      "source": [
        "## **for문 예제 2. 구구단 출력 예제**\n",
        "\n",
        "```\n",
        "9 X 1 = 9\n",
        "9 X 2 = 18\n",
        "9 X 3 = 27\n",
        "9 X 4 = 36\n",
        "9 X 5 = 45\n",
        "9 X 6 = 54\n",
        "9 X 7 = 63\n",
        "9 X 8 = 72\n",
        "9 X 9 = 81\n",
        "```"
      ],
      "metadata": {
        "id": "-uEPyXsIzrQp"
      }
    },
    {
      "cell_type": "code",
      "source": [
        "for i in range (1, 10, 1):\n",
        "  print('9 X %d = %d' %(i, 9*i))"
      ],
      "metadata": {
        "colab": {
          "base_uri": "https://localhost:8080/"
        },
        "id": "siSfBv44z7Qx",
        "outputId": "b4b40d04-6396-48e8-8db7-d66f3a0649ce"
      },
      "execution_count": null,
      "outputs": [
        {
          "output_type": "stream",
          "name": "stdout",
          "text": [
            "9 X 1 = 9\n",
            "9 X 2 = 18\n",
            "9 X 3 = 27\n",
            "9 X 4 = 36\n",
            "9 X 5 = 45\n",
            "9 X 6 = 54\n",
            "9 X 7 = 63\n",
            "9 X 8 = 72\n",
            "9 X 9 = 81\n"
          ]
        }
      ]
    },
    {
      "cell_type": "markdown",
      "source": [
        "## **for문 예제 3. 학생 점수에 따라 합격/불합격 판별 예제**\n",
        "\n",
        "**요구사항**\n",
        "\n",
        "- 학생들의 점수 리스트가 scores = [15, 50, 46, 86, 94]로 주어진다\n",
        "- for문 반복문을 이용하여 리스트의 각 점수를 확인하여 다음 조건을 따른다\n",
        "  1. num이란 번호를 1번부터 증가시킨다\n",
        "  2. 번호가 짝수일 경우 continue를 사용하여 건너뛴다\n",
        "  3. 번호가 5가 되면 break를 사용하여 반복을 중단한다\n",
        "  4. 그 외에는 점수가 50 이상이면 'O번 학생 합격!\", 그렇지 않으면, '0번 학생 불합격!\"을 출력한다\n",
        "\n"
      ],
      "metadata": {
        "id": "Hh8harE30wqC"
      }
    },
    {
      "cell_type": "code",
      "source": [
        "scores = [15, 50, 46, 86, 94]\n",
        "num = 0\n",
        "\n",
        "for i in scores:\n",
        "  num += 1\n",
        "\n",
        "  if num == 5:\n",
        "    break\n",
        "\n",
        "  if num % 2 == 0:\n",
        "    continue\n",
        "\n",
        "  if i >= 50:\n",
        "    print('%d번 학생 합격!' %num)\n",
        "  else:\n",
        "    print('%d번 학생 불합격!' %num)"
      ],
      "metadata": {
        "colab": {
          "base_uri": "https://localhost:8080/"
        },
        "id": "dECCJleD1TXq",
        "outputId": "aca86f4a-ffbb-4a1c-af80-f3b34e86859e"
      },
      "execution_count": null,
      "outputs": [
        {
          "output_type": "stream",
          "name": "stdout",
          "text": [
            "1번 학생 불합격!\n",
            "3번 학생 불합격!\n"
          ]
        }
      ]
    },
    {
      "cell_type": "markdown",
      "source": [
        "## **for문 예제 4. 학생들의 점수에 따라 합격/불합격 판별 후 불합격 학생들 평균 점수 출력**\n",
        "\n",
        "**요구사항**\n",
        "\n",
        "- 학생들의 점수리스트가 scores = [15, 50, 46, 86 ,94, 100, 51, 60]로 주어진다\n",
        "- for 반복문과 조건문을 활용하여 다음 작업을 수행한다\n",
        "  1. 각 학생에게 번호(1번부터)를 부여한다\n",
        "  2. 홀수번호 학생만 검사하며, 점수가 60점 이상이면 '0번 학생, 합격!', 그렇지 않으면 '0번 학생, 불합격!을 출력한다\n",
        "  3. 불합격한 홀수 번호 학생들의 점수를 누적하여 평균을 계산한다\n",
        "  4. 반복이 끝난 후, 불합격자들의 평균 점수를 '불합격 받은 학생들의 평균 점수는 : 00입니다' 형식으로 출력한다\n"
      ],
      "metadata": {
        "id": "1biqYAIj74gE"
      }
    },
    {
      "cell_type": "code",
      "source": [
        "scores = [15, 50, 46, 86 ,94, 100, 51, 60]\n",
        "studentNum = 0\n",
        "failStudentCount = 0\n",
        "failStudentScoreTotal = 0\n",
        "\n",
        "for score in scores:\n",
        "  studentNum += 1\n",
        "\n",
        "  if studentNum % 2 == 0:\n",
        "    continue\n",
        "\n",
        "  if score >= 60:\n",
        "    print('%d번 학생, 합격!' %studentNum)\n",
        "  else:\n",
        "    failStudentCount += 1\n",
        "    failStudentScoreTotal += score\n",
        "    print('%d번 학생, 불합격!' %studentNum)\n",
        "\n",
        "failStudentScoreAverage = failStudentScoreTotal/failStudentCount\n",
        "print('\\n불합격 받은 학생들의 평균 점수는 : %d입니다' %failStudentScoreAverage)\n"
      ],
      "metadata": {
        "colab": {
          "base_uri": "https://localhost:8080/"
        },
        "id": "0feoMk8Q8oXU",
        "outputId": "ab950b65-89d6-49a4-8c0b-653cc9987f72"
      },
      "execution_count": null,
      "outputs": [
        {
          "output_type": "stream",
          "name": "stdout",
          "text": [
            "1번 학생, 불합격!\n",
            "3번 학생, 불합격!\n",
            "5번 학생, 합격!\n",
            "7번 학생, 불합격!\n",
            "\n",
            "불합격 받은 학생들의 평균 점수는 : 37입니다\n"
          ]
        }
      ]
    },
    {
      "cell_type": "markdown",
      "source": [
        "## **이중 for문 예시**"
      ],
      "metadata": {
        "id": "c2iDqDP7DItU"
      }
    },
    {
      "cell_type": "code",
      "source": [
        "for i in range (3):\n",
        "  # 5회 반복\n",
        "  for j in range(5):\n",
        "    print('*', end='')\n",
        "  print()\n",
        "\n",
        "# 3회 반복\n",
        "# 1회차 때, 내부에 있는 for문이 끝날때까지 대기\n",
        "# 2회차 때, 다시 한번 * 5개 출력\n",
        "# 3회차 때, * 5개 출력 → 엔터 → 종료\n",
        "\n",
        "for i in range (4):\n",
        "  # 2회 반복\n",
        "  for j in range(2):\n",
        "    print('*', end='')\n",
        "  print()"
      ],
      "metadata": {
        "colab": {
          "base_uri": "https://localhost:8080/"
        },
        "id": "QbGnY_YV_d19",
        "outputId": "6d8938a5-e3f1-454f-f253-525d2f4b7893"
      },
      "execution_count": null,
      "outputs": [
        {
          "output_type": "stream",
          "name": "stdout",
          "text": [
            "*****\n",
            "*****\n",
            "*****\n",
            "**\n",
            "**\n",
            "**\n",
            "**\n"
          ]
        }
      ]
    },
    {
      "cell_type": "markdown",
      "source": [
        "# **점프 투 파이썬 3장 예제**"
      ],
      "metadata": {
        "id": "UOCjIKaWAdRl"
      }
    },
    {
      "cell_type": "markdown",
      "source": [
        "## **문제 1. 조건문의 참과 거짓**\n",
        "\n",
        "다음 코드의 결괏값은 무엇일까?\n",
        "\n",
        "```\n",
        "a = \"Life is too short, you need python\"\n",
        "\n",
        "if \"wife\" in a: print(\"wife\")\n",
        "elif \"python\" in a and \"you\" not in a: print(\"python\")\n",
        "elif \"shirt\" not in a: print(\"shirt\")\n",
        "elif \"need\" in a: print(\"need\")\n",
        "else: print(\"none\")\n",
        "```\n",
        "\n",
        "**A. shirt 출력**"
      ],
      "metadata": {
        "id": "A1VGq-J6AhGE"
      }
    },
    {
      "cell_type": "code",
      "source": [
        "a = \"Life is too short, you need python\"\n",
        "\n",
        "if \"wife\" in a: print(\"wife\")\n",
        "elif \"python\" in a and \"you\" not in a: print(\"python\")\n",
        "elif \"shirt\" not in a: print(\"shirt\")\n",
        "elif \"need\" in a: print(\"need\")\n",
        "else: print(\"none\")"
      ],
      "metadata": {
        "colab": {
          "base_uri": "https://localhost:8080/"
        },
        "id": "HwtGn-oaDSN9",
        "outputId": "7c1de07b-1eb8-4295-f2c5-8161df05e8c3"
      },
      "execution_count": null,
      "outputs": [
        {
          "output_type": "stream",
          "name": "stdout",
          "text": [
            "shirt\n"
          ]
        }
      ]
    },
    {
      "cell_type": "markdown",
      "source": [
        "## **문제 2. 3의 배수의 합 구하기**\n",
        "\n",
        "while 문을 사용해 1부터 1000까지의 자연수 중 3의 배수의 합을 구해보자"
      ],
      "metadata": {
        "id": "Px_0WjHUA-H8"
      }
    },
    {
      "cell_type": "code",
      "source": [
        "result = 0\n",
        "i = 1\n",
        "\n",
        "while i <= 1000:\n",
        "  if i % 3 == 0:\n",
        "    result += i\n",
        "  i+=1\n",
        "\n",
        "print(result)"
      ],
      "metadata": {
        "colab": {
          "base_uri": "https://localhost:8080/"
        },
        "id": "iyfCRj9YBH0E",
        "outputId": "364c4342-11b7-4c66-ff8b-28b86a661680"
      },
      "execution_count": null,
      "outputs": [
        {
          "output_type": "stream",
          "name": "stdout",
          "text": [
            "166833\n"
          ]
        }
      ]
    },
    {
      "cell_type": "markdown",
      "source": [
        "## **문제 3. 별 표시하기**\n",
        "\n",
        "while 문을 사용하여 다음과 같이 별(*)을 표시하는 프로그램을 작성해보자\n",
        "\n",
        "\n",
        "```\n",
        "*\n",
        "**\n",
        "***\n",
        "****\n",
        "*****\n",
        "```\n",
        "\n"
      ],
      "metadata": {
        "id": "7K_j97CxBPak"
      }
    },
    {
      "cell_type": "code",
      "source": [
        "i = 0\n",
        "while True:\n",
        "  i += 1\n",
        "  if i > 5: break\n",
        "  print('*' * i)"
      ],
      "metadata": {
        "colab": {
          "base_uri": "https://localhost:8080/"
        },
        "id": "2E-BfC3BBaTE",
        "outputId": "3a497810-6972-4221-871d-33711b21fddd"
      },
      "execution_count": null,
      "outputs": [
        {
          "output_type": "stream",
          "name": "stdout",
          "text": [
            "*\n",
            "**\n",
            "***\n",
            "****\n",
            "*****\n"
          ]
        }
      ]
    },
    {
      "cell_type": "markdown",
      "source": [
        "## **문제 4. 1부터 100까지 출력하기**\n",
        "\n",
        "for 문을 사용해 1부터 100까지의 숫자를 출력해보자"
      ],
      "metadata": {
        "id": "G1cIkagEBj4U"
      }
    },
    {
      "cell_type": "code",
      "source": [
        "for i in range(1, 101, 1):\n",
        "  print(i)"
      ],
      "metadata": {
        "colab": {
          "base_uri": "https://localhost:8080/"
        },
        "id": "1fbgJOekBpH0",
        "outputId": "021fa5ba-c6e2-4622-876f-8546553b0616"
      },
      "execution_count": null,
      "outputs": [
        {
          "output_type": "stream",
          "name": "stdout",
          "text": [
            "1\n",
            "2\n",
            "3\n",
            "4\n",
            "5\n",
            "6\n",
            "7\n",
            "8\n",
            "9\n",
            "10\n",
            "11\n",
            "12\n",
            "13\n",
            "14\n",
            "15\n",
            "16\n",
            "17\n",
            "18\n",
            "19\n",
            "20\n",
            "21\n",
            "22\n",
            "23\n",
            "24\n",
            "25\n",
            "26\n",
            "27\n",
            "28\n",
            "29\n",
            "30\n",
            "31\n",
            "32\n",
            "33\n",
            "34\n",
            "35\n",
            "36\n",
            "37\n",
            "38\n",
            "39\n",
            "40\n",
            "41\n",
            "42\n",
            "43\n",
            "44\n",
            "45\n",
            "46\n",
            "47\n",
            "48\n",
            "49\n",
            "50\n",
            "51\n",
            "52\n",
            "53\n",
            "54\n",
            "55\n",
            "56\n",
            "57\n",
            "58\n",
            "59\n",
            "60\n",
            "61\n",
            "62\n",
            "63\n",
            "64\n",
            "65\n",
            "66\n",
            "67\n",
            "68\n",
            "69\n",
            "70\n",
            "71\n",
            "72\n",
            "73\n",
            "74\n",
            "75\n",
            "76\n",
            "77\n",
            "78\n",
            "79\n",
            "80\n",
            "81\n",
            "82\n",
            "83\n",
            "84\n",
            "85\n",
            "86\n",
            "87\n",
            "88\n",
            "89\n",
            "90\n",
            "91\n",
            "92\n",
            "93\n",
            "94\n",
            "95\n",
            "96\n",
            "97\n",
            "98\n",
            "99\n",
            "100\n"
          ]
        }
      ]
    },
    {
      "cell_type": "markdown",
      "source": [
        "## **문제 5. 평균 점수 구하기**\n",
        "\n",
        "A 학급에 총 10명의 학생이 있다. 이 학생들의 중간고사 점수는 다음과 같다.\n",
        "```\n",
        "[70, 60, 55, 75, 95, 90, 80, 80, 85, 100]\n",
        "```\n",
        "for문을 사용하여 A 학급의 평균 점수를 구해 보자."
      ],
      "metadata": {
        "id": "yiE2tDDHBu0d"
      }
    },
    {
      "cell_type": "code",
      "source": [
        "A = [70, 60, 55, 75, 95, 90, 80, 80, 85, 100]\n",
        "total = 0\n",
        "\n",
        "for score in A:\n",
        "  total += score\n",
        "\n",
        "average = total / len(A)\n",
        "print(average)"
      ],
      "metadata": {
        "colab": {
          "base_uri": "https://localhost:8080/"
        },
        "id": "UCxrY-JFB88c",
        "outputId": "c1c52c24-91fb-4d2d-bc21-e4973a9ea723"
      },
      "execution_count": null,
      "outputs": [
        {
          "output_type": "stream",
          "name": "stdout",
          "text": [
            "79.0\n"
          ]
        }
      ]
    },
    {
      "cell_type": "markdown",
      "source": [
        "## **문제 6. 리스트 컴프리헨션 사용하기**\n",
        "\n",
        "다음 소스 코드는 리스트의 요소 중에서 홀수만 골라 2를 곱한 값을 result 리스트에 담는 예제이다.\n",
        "\n",
        "```\n",
        "numbers = [1, 2, 3, 4, 5]\n",
        "result = []\n",
        "for n in numbers:\n",
        "  if n % 2 == 1:\n",
        "    result.append(n * 2)\n",
        "```\n",
        "이 코드를 리스트 컴프리헨션을 사용하여 표현해보자"
      ],
      "metadata": {
        "id": "3TH_wekHCIG1"
      }
    },
    {
      "cell_type": "code",
      "source": [
        "numbers = [1, 2, 3, 4, 5]\n",
        "result = [n*2 for n in numbers if n % 2 == 1]\n",
        "print(result)"
      ],
      "metadata": {
        "colab": {
          "base_uri": "https://localhost:8080/"
        },
        "id": "2DPNSIvZCZJ9",
        "outputId": "4d5d0cf6-dc0e-4d64-ef82-d8b2a1c4725c"
      },
      "execution_count": null,
      "outputs": [
        {
          "output_type": "stream",
          "name": "stdout",
          "text": [
            "[2, 6, 10]\n"
          ]
        }
      ]
    },
    {
      "cell_type": "markdown",
      "source": [
        "# **반복문 문제 풀이**"
      ],
      "metadata": {
        "id": "eHU6kGXvX-YB"
      }
    },
    {
      "cell_type": "markdown",
      "source": [
        "## **while 반복문 1. 제곱 출력하기**\n",
        "\n",
        "**요구사항**\n",
        "\n",
        "- 사용자로부터 하나의 정수를 입력받는다\n",
        "- 입력된 정수 num까지의 숫자에 대해 다음을 수행한다\n",
        "  - while문을 이용하여 1부터 num까지 각 수의 제곱을 출력한다\n",
        "  - for문을 이용하여 1부터 num까지 각 수의 제곱을 출력한다\n",
        "- 두 반복문 모두 1^2, 2^2, ..., num^2까지의 결과를 출력해야 한다"
      ],
      "metadata": {
        "id": "YVBMocsoYFEh"
      }
    },
    {
      "cell_type": "code",
      "source": [
        "number = int(input(\"정수를 입력해주세요: \"))\n",
        "n = 1\n",
        "\n",
        "print('\\n============== while문 ==============\\n')\n",
        "while n <= number:\n",
        "  print('%d의 제곱은 %d입니다' %(n, n**2))\n",
        "  n += 1\n",
        "\n",
        "print('\\n============== for문 ==============\\n')\n",
        "for i in range(1, number+1, 1):\n",
        "  print('%d의 제곱은 %d입니다' %(i, i**2))"
      ],
      "metadata": {
        "colab": {
          "base_uri": "https://localhost:8080/"
        },
        "id": "7SmixS-ZYdES",
        "outputId": "c354e27f-02cd-4c25-b897-fbdfd8a7ef12"
      },
      "execution_count": null,
      "outputs": [
        {
          "output_type": "stream",
          "name": "stdout",
          "text": [
            "정수를 입력해주세요: 5\n",
            "\n",
            "============== while문 ==============\n",
            "\n",
            "1의 제곱은 1입니다\n",
            "2의 제곱은 4입니다\n",
            "3의 제곱은 9입니다\n",
            "4의 제곱은 16입니다\n",
            "5의 제곱은 25입니다\n",
            "\n",
            "============== for문 ==============\n",
            "\n",
            "1의 제곱은 1입니다\n",
            "2의 제곱은 4입니다\n",
            "3의 제곱은 9입니다\n",
            "4의 제곱은 16입니다\n",
            "5의 제곱은 25입니다\n"
          ]
        }
      ]
    },
    {
      "cell_type": "markdown",
      "source": [
        "## **while 반복문 2. 공 튕기기 시뮬레이션**\n",
        "\n",
        "**요구사항**\n",
        "\n",
        "- 사용자로부터 하나의 정수를 입력받는다\n",
        "- 공의 초기 높이는 100cm이다\n",
        "- 공은 한 번 튈 때마다 이전 높이의 3/5만큼 튄다\n",
        "- 입력한 횟수만큼 공이 튄 후, 최종 높이를 출력한다\n",
        "- 최종 출력 형식은 \"최종 높이: 00\"와 같이 표시한다"
      ],
      "metadata": {
        "id": "lCc7jOOUZFHy"
      }
    },
    {
      "cell_type": "code",
      "source": [
        "number = int(input('공을 튕길 횟수를 입력해주세요: '))\n",
        "ballHeight = 100\n",
        "hopCount = 1\n",
        "\n",
        "while hopCount <= number:\n",
        "  ballHeight = ballHeight * 0.6\n",
        "  hopCount += 1\n",
        "\n",
        "print('최종 높이: %f' %ballHeight)"
      ],
      "metadata": {
        "colab": {
          "base_uri": "https://localhost:8080/"
        },
        "id": "kFE6MVBcZbJK",
        "outputId": "68d3094d-fdef-4b33-9803-a411cc7d3602"
      },
      "execution_count": null,
      "outputs": [
        {
          "output_type": "stream",
          "name": "stdout",
          "text": [
            "공을 튕길 횟수를 입력해주세요: 5\n",
            "최종 높이: 7.776000\n"
          ]
        }
      ]
    },
    {
      "cell_type": "markdown",
      "source": [
        "## **while 반복문 3. 별 찍기**\n",
        "\n",
        "**요구사항**\n",
        "\n",
        "- 패턴 1: 정방향 삼각형\n",
        "- 패턴 2: 오른쪽 정렬 정방향 삼각형\n",
        "- 패턴 3: 역삼각형\n",
        "- 패턴 4: 오른쪽 정렬 역삼각형\n",
        "- 패턴 5: 피라미드\n",
        "\n"
      ],
      "metadata": {
        "id": "Fu5wEZeQZ4Ny"
      }
    },
    {
      "cell_type": "markdown",
      "source": [
        "### **패턴 1: 정방향 삼각형**\n",
        "\n",
        "```\n",
        "*\n",
        "**\n",
        "***\n",
        "****\n",
        "```\n",
        "\n"
      ],
      "metadata": {
        "id": "Wra0fLdCaHKi"
      }
    },
    {
      "cell_type": "code",
      "source": [
        "count = 1\n",
        "\n",
        "while count <= 4:\n",
        "  print('*' * count)\n",
        "  count += 1"
      ],
      "metadata": {
        "colab": {
          "base_uri": "https://localhost:8080/"
        },
        "id": "NRgs8nibaL7S",
        "outputId": "484bf6ba-a616-4c81-e15e-c4c63d92d947"
      },
      "execution_count": null,
      "outputs": [
        {
          "output_type": "stream",
          "name": "stdout",
          "text": [
            "*\n",
            "**\n",
            "***\n",
            "****\n"
          ]
        }
      ]
    },
    {
      "cell_type": "markdown",
      "source": [
        "### **패턴 2: 오른쪽 정렬 정방향 삼각형**\n",
        "\n",
        "```\n",
        "    *\n",
        "   **\n",
        "  ***\n",
        " ****\n",
        "```\n",
        "\n"
      ],
      "metadata": {
        "id": "Pwl0K72qaW56"
      }
    },
    {
      "cell_type": "code",
      "source": [
        "count = 1\n",
        "\n",
        "while count <= 4:\n",
        "  print(' ' * (4 - count), end ='')\n",
        "  print('*' * count)\n",
        "  count += 1"
      ],
      "metadata": {
        "colab": {
          "base_uri": "https://localhost:8080/"
        },
        "id": "2oBEQ1WMah_D",
        "outputId": "da2bd8ee-fd18-41f6-99c7-2fccd89d738a"
      },
      "execution_count": null,
      "outputs": [
        {
          "output_type": "stream",
          "name": "stdout",
          "text": [
            "   *\n",
            "  **\n",
            " ***\n",
            "****\n"
          ]
        }
      ]
    },
    {
      "cell_type": "markdown",
      "source": [
        "### **패턴 3: 역삼각형**\n",
        "\n",
        "```\n",
        "****\n",
        "***\n",
        "**\n",
        "*\n",
        "```\n",
        "\n"
      ],
      "metadata": {
        "id": "E8WqC3c0a2S6"
      }
    },
    {
      "cell_type": "code",
      "source": [
        "count = 4\n",
        "\n",
        "while count >= 1:\n",
        "  print('*' * count)\n",
        "  count -= 1"
      ],
      "metadata": {
        "colab": {
          "base_uri": "https://localhost:8080/"
        },
        "id": "2bgkGfeHa2hL",
        "outputId": "635b8308-8dbd-4edb-deac-968106878287"
      },
      "execution_count": null,
      "outputs": [
        {
          "output_type": "stream",
          "name": "stdout",
          "text": [
            "****\n",
            "***\n",
            "**\n",
            "*\n"
          ]
        }
      ]
    },
    {
      "cell_type": "markdown",
      "source": [
        "### **패턴 4: 오른쪽 정렬 역삼각형**\n",
        "\n",
        "```\n",
        "****\n",
        " ***\n",
        "  **\n",
        "   *\n",
        "```\n",
        "\n"
      ],
      "metadata": {
        "id": "GLkNlZtMa_2S"
      }
    },
    {
      "cell_type": "code",
      "source": [
        "count = 4\n",
        "\n",
        "while count >= 1:\n",
        "  print(' ' * (4 - count), end ='')\n",
        "  print('*' * count)\n",
        "  count -= 1"
      ],
      "metadata": {
        "colab": {
          "base_uri": "https://localhost:8080/"
        },
        "id": "-wSd33JtbVnK",
        "outputId": "71efc008-b076-40f5-ac7d-3ce75a2dc692"
      },
      "execution_count": null,
      "outputs": [
        {
          "output_type": "stream",
          "name": "stdout",
          "text": [
            "****\n",
            " ***\n",
            "  **\n",
            "   *\n"
          ]
        }
      ]
    },
    {
      "cell_type": "markdown",
      "source": [
        "### **패턴 5: 피라미드**\n",
        "\n",
        "```\n",
        "   *\n",
        "  ***\n",
        " *****\n",
        "*******\n",
        "```\n",
        "\n"
      ],
      "metadata": {
        "id": "J7qOBbu6bgiq"
      }
    },
    {
      "cell_type": "code",
      "source": [
        "count = 1\n",
        "\n",
        "while count <= 4:\n",
        "  print(' ' * (4 - count), end='')\n",
        "  print('*' * count, end='')\n",
        "  print('*' * (count-1))\n",
        "  count += 1"
      ],
      "metadata": {
        "colab": {
          "base_uri": "https://localhost:8080/"
        },
        "id": "TTJuJjukbeez",
        "outputId": "d3ac687d-8a5b-40bc-9c95-a4d0c4b81bc1"
      },
      "execution_count": null,
      "outputs": [
        {
          "output_type": "stream",
          "name": "stdout",
          "text": [
            "   *\n",
            "  ***\n",
            " *****\n",
            "*******\n"
          ]
        }
      ]
    },
    {
      "cell_type": "markdown",
      "source": [
        "## **while 반복문 4. 커피 자판기 시뮬레이션**\n",
        "\n",
        "\n",
        "**요구사항**\n",
        "\n",
        "- 사용자에게 커피 개수를 입력받는다.\n",
        "- 사용자가 돈을 넣으면 다음 조건에 따라 처리한다\n",
        "  - 커피 값은 300원이다\n",
        "  - 300원을 넣으면 \"커피를 줍니다\"를 출력하고 커피를 1개 줄인다\n",
        "  - 300원보다 많이 넣으면 \"거스름돈 00원을 주고 커피를 줍니다\"를 출력하고 커피를 1개 줄인다.\n",
        "  - 300원보다 적게 넣으면 \"돈을 다시 돌려주고 커피를 주지 않습니다\"를 출력하고, 남은 커피 수를 출력한다.\n",
        "- 커피가 0개가 되면 \"커피가 다 떨여졌습니다. 판매를 중지합니다\"를 출력하고 반복을 종료한다."
      ],
      "metadata": {
        "id": "cUchdchFdGF7"
      }
    },
    {
      "cell_type": "code",
      "source": [
        "coffee = int(input('커피의 개수를 입력해주세요: '))\n",
        "\n",
        "print('\\n================ 커피 판매 시작================\\n')\n",
        "while True:\n",
        "  if coffee == 0:\n",
        "    print('커피가 다 떨어졌습니다. 판매를 중지합니다')\n",
        "    break\n",
        "\n",
        "  money = int(input('돈을 입력해주세요: '))\n",
        "\n",
        "  if money > 300:\n",
        "    money -= 300\n",
        "    print('거스름돈 %d원을 주고 커피를 줍니다' %money)\n",
        "    coffee -= 1\n",
        "  elif money == 300:\n",
        "    print('커피를 줍니다')\n",
        "    coffee -= 1\n",
        "  else:\n",
        "    print('돈을 다시 돌려주고 커피를 주지 않습니다')\n",
        "    print('현재 남은 커피는 %d개입니다' %coffee)\n",
        "\n",
        "  print()"
      ],
      "metadata": {
        "colab": {
          "base_uri": "https://localhost:8080/"
        },
        "id": "-7W5O1yIdjU7",
        "outputId": "d4d0d2ac-1430-4917-ad44-d77f314e7c5e"
      },
      "execution_count": null,
      "outputs": [
        {
          "output_type": "stream",
          "name": "stdout",
          "text": [
            "커피의 개수를 입력해주세요: 3\n",
            "\n",
            "================ 커피 판매 시작================\n",
            "\n",
            "돈을 입력해주세요: 500\n",
            "거스름돈 200원을 주고 커피를 줍니다\n",
            "\n",
            "돈을 입력해주세요: 100\n",
            "돈을 다시 돌려주고 커피를 주지 않습니다\n",
            "현재 남은 커피는 2개입니다\n",
            "\n",
            "돈을 입력해주세요: 100\n",
            "돈을 다시 돌려주고 커피를 주지 않습니다\n",
            "현재 남은 커피는 2개입니다\n",
            "\n",
            "돈을 입력해주세요: 200\n",
            "돈을 다시 돌려주고 커피를 주지 않습니다\n",
            "현재 남은 커피는 2개입니다\n",
            "\n",
            "돈을 입력해주세요: 300\n",
            "커피를 줍니다\n",
            "\n",
            "돈을 입력해주세요: 400\n",
            "거스름돈 100원을 주고 커피를 줍니다\n",
            "\n",
            "커피가 다 떨어졌습니다. 판매를 중지합니다\n"
          ]
        }
      ]
    },
    {
      "cell_type": "markdown",
      "source": [
        "## **for 반복문 1. 문자열 내 알파벳 빈도수 출력**\n",
        "\n",
        "**요구사항**\n",
        "\n",
        "- 사용자로부터 문자열을 입력받는다\n",
        "- 입력된 문자열에서 알파벳(az,AZ)의 빈도수를 출력한다\n",
        "- 대소문자는 구분하지 않는다\n",
        "- 알파벳이 아닌 문자는 무시한다\n",
        "- 알파벳은 오름차순으로 정렬하여 출력한다\n",
        "\n",
        "예시 입력\n",
        "Hello, Python!\n",
        "\n",
        "예시 출력\n",
        "- e: 1\n",
        "- h: 2\n",
        "- l: 2\n",
        "- n: 1\n",
        "- o: 2\n",
        "- p: 1\n",
        "- t: 1\n",
        "- y: 1"
      ],
      "metadata": {
        "id": "ZJGsOYpHeajr"
      }
    },
    {
      "cell_type": "code",
      "source": [
        "import re\n",
        "\n",
        "comp = re.compile('[a-zA-Z]')\n",
        "\n",
        "string = input('영어로된 문자열을 입력해주세요: ')\n",
        "charDict = {}\n",
        "dictKeys = []\n",
        "\n",
        "print('\\n=============== 결과 출력 ===============\\n')\n",
        "\n",
        "for char in string:\n",
        "  lowerChar = char.lower()\n",
        "\n",
        "  re = comp.match(lowerChar)\n",
        "\n",
        "  if re:\n",
        "    if lowerChar in charDict:\n",
        "      charDict[lowerChar] = charDict.get(lowerChar) + 1\n",
        "    else:\n",
        "      charDict[lowerChar] = 1\n",
        "\n",
        "for key in charDict.keys():\n",
        "  dictKeys.append(key)\n",
        "\n",
        "dictKeys.sort()\n",
        "\n",
        "for key in dictKeys:\n",
        "  print('%s: %s' %(key, charDict.get(key)))\n"
      ],
      "metadata": {
        "colab": {
          "base_uri": "https://localhost:8080/"
        },
        "id": "xU2uHcXZe1Ls",
        "outputId": "f7b0ace2-fce4-46d4-a214-26e3a5c2dea6"
      },
      "execution_count": null,
      "outputs": [
        {
          "output_type": "stream",
          "name": "stdout",
          "text": [
            "영어로된 문자열을 입력해주세요: afasfasfㅐㅇㅁㄹ\n",
            "\n",
            "=============== 결과 출력 ===============\n",
            "\n",
            "a: 3\n",
            "f: 3\n",
            "s: 2\n"
          ]
        }
      ]
    },
    {
      "cell_type": "markdown",
      "source": [
        "## **for 반복문 2. 계단식 숫자 출력**\n",
        "\n",
        "**요구사항**\n",
        "\n",
        "- 사용자로부터 정수 n을 입력받는다\n",
        "- for 반복문을 이용해 다음과 같은 숫자 계단을 출력한다\n",
        "- 각 줄에는 1부터 해당 줄 번호까지의 숫자를 공백과 함께 출력한다\n",
        "- 단, 마지막에는 공백이 있어선 안된다\n",
        "- 줄 수는 입력한 정수만큼 출력한다\n",
        "\n",
        "예시 출력 (입력: 5)\n",
        "- 1\n",
        "- 1 2\n",
        "- 1 2 3\n",
        "- 1 2 3 4\n",
        "- 1 2 3 4 5"
      ],
      "metadata": {
        "id": "9P-8qhOfjSNM"
      }
    },
    {
      "cell_type": "code",
      "source": [
        "number = int(input('정수를 입력해주세요: '))\n",
        "\n",
        "for i in range(1, number+1, 1):\n",
        "  print()\n",
        "  for j in range(1, i+1, 1):\n",
        "    if j == i:\n",
        "      print(j, end='')\n",
        "    else:\n",
        "      print(j, end=' ')\n"
      ],
      "metadata": {
        "colab": {
          "base_uri": "https://localhost:8080/"
        },
        "id": "3s4GM2v2jkQE",
        "outputId": "729e0a41-43de-4b75-cf84-d6f50012ca4d"
      },
      "execution_count": null,
      "outputs": [
        {
          "output_type": "stream",
          "name": "stdout",
          "text": [
            "정수를 입력해주세요: 5\n",
            "\n",
            "1\n",
            "1 2\n",
            "1 2 3\n",
            "1 2 3 4\n",
            "1 2 3 4 5"
          ]
        }
      ]
    },
    {
      "cell_type": "markdown",
      "source": [
        "## **for 반복문 3. 1부터 500까지의 3과 5의 공배수 출력**\n",
        "\n",
        "**요구사항**\n",
        "\n",
        "- 1부터 500까지의 숫자 중에서 3과 5의 공배수만 출력한다\n",
        "- 출력 결과는 한 줄에 5개씩 출력되도록 한다\n",
        "- 줄바꿈은 5개를 출력할 때마다 적용한다\n",
        "- 각 숫자는 가독성을 위해 일정한 간격으로 정렬한다\n",
        "\n",
        "예시 출력\n",
        "\n",
        "```\n",
        "15 30 45 60 75\n",
        "90 ...\n",
        "```\n",
        "\n"
      ],
      "metadata": {
        "id": "49EiJSKvkoRc"
      }
    },
    {
      "cell_type": "code",
      "source": [
        "count = 0\n",
        "\n",
        "for i in range(1, 501, 1):\n",
        "  if i % 3 == 0 and i % 5 == 0:\n",
        "    print(i, end=' ')\n",
        "    count += 1\n",
        "\n",
        "  if count == 5:\n",
        "    count = 0\n",
        "    print()"
      ],
      "metadata": {
        "colab": {
          "base_uri": "https://localhost:8080/"
        },
        "id": "jZ6_dCtTk7nM",
        "outputId": "7167b8f6-5588-4ee9-aac2-bbfc05d376ec"
      },
      "execution_count": null,
      "outputs": [
        {
          "output_type": "stream",
          "name": "stdout",
          "text": [
            "15 30 45 60 75 \n",
            "90 105 120 135 150 \n",
            "165 180 195 210 225 \n",
            "240 255 270 285 300 \n",
            "315 330 345 360 375 \n",
            "390 405 420 435 450 \n",
            "465 480 495 "
          ]
        }
      ]
    },
    {
      "cell_type": "markdown",
      "source": [
        "## **for 반복문 4. 구구단 2단부터 9단까지 출력한다**\n",
        "\n",
        "**요구사항**\n",
        "\n",
        "- for 반복문을 중첩 사용하여 2단부터 9단까지의 구구단을 출력한다\n",
        "- 각 단은 단 제목을 먼저 출력한 후, 그 단의 곱셈 결과를 1부터 9까지 출력한다\n",
        "- 출력 형식은 2 X 1 = 2, 3 X 2 = 6과 같은 형태로 출력한다"
      ],
      "metadata": {
        "id": "L6Wy8v2XlRT8"
      }
    },
    {
      "cell_type": "code",
      "source": [
        "for i in range (2, 10, 1):\n",
        "  print('\\n=== %d단 ===\\n' %i)\n",
        "  for j in range (1, 10, 1):\n",
        "    print('%d X %d = %d' %(i, j, i*j))"
      ],
      "metadata": {
        "colab": {
          "base_uri": "https://localhost:8080/"
        },
        "id": "0_Y0HoGFljs8",
        "outputId": "becb6936-c779-4bb5-ae42-7f425c8a73bc"
      },
      "execution_count": null,
      "outputs": [
        {
          "output_type": "stream",
          "name": "stdout",
          "text": [
            "\n",
            "=== 2단 ===\n",
            "\n",
            "2 X 1 = 2\n",
            "2 X 2 = 4\n",
            "2 X 3 = 6\n",
            "2 X 4 = 8\n",
            "2 X 5 = 10\n",
            "2 X 6 = 12\n",
            "2 X 7 = 14\n",
            "2 X 8 = 16\n",
            "2 X 9 = 18\n",
            "\n",
            "=== 3단 ===\n",
            "\n",
            "3 X 1 = 3\n",
            "3 X 2 = 6\n",
            "3 X 3 = 9\n",
            "3 X 4 = 12\n",
            "3 X 5 = 15\n",
            "3 X 6 = 18\n",
            "3 X 7 = 21\n",
            "3 X 8 = 24\n",
            "3 X 9 = 27\n",
            "\n",
            "=== 4단 ===\n",
            "\n",
            "4 X 1 = 4\n",
            "4 X 2 = 8\n",
            "4 X 3 = 12\n",
            "4 X 4 = 16\n",
            "4 X 5 = 20\n",
            "4 X 6 = 24\n",
            "4 X 7 = 28\n",
            "4 X 8 = 32\n",
            "4 X 9 = 36\n",
            "\n",
            "=== 5단 ===\n",
            "\n",
            "5 X 1 = 5\n",
            "5 X 2 = 10\n",
            "5 X 3 = 15\n",
            "5 X 4 = 20\n",
            "5 X 5 = 25\n",
            "5 X 6 = 30\n",
            "5 X 7 = 35\n",
            "5 X 8 = 40\n",
            "5 X 9 = 45\n",
            "\n",
            "=== 6단 ===\n",
            "\n",
            "6 X 1 = 6\n",
            "6 X 2 = 12\n",
            "6 X 3 = 18\n",
            "6 X 4 = 24\n",
            "6 X 5 = 30\n",
            "6 X 6 = 36\n",
            "6 X 7 = 42\n",
            "6 X 8 = 48\n",
            "6 X 9 = 54\n",
            "\n",
            "=== 7단 ===\n",
            "\n",
            "7 X 1 = 7\n",
            "7 X 2 = 14\n",
            "7 X 3 = 21\n",
            "7 X 4 = 28\n",
            "7 X 5 = 35\n",
            "7 X 6 = 42\n",
            "7 X 7 = 49\n",
            "7 X 8 = 56\n",
            "7 X 9 = 63\n",
            "\n",
            "=== 8단 ===\n",
            "\n",
            "8 X 1 = 8\n",
            "8 X 2 = 16\n",
            "8 X 3 = 24\n",
            "8 X 4 = 32\n",
            "8 X 5 = 40\n",
            "8 X 6 = 48\n",
            "8 X 7 = 56\n",
            "8 X 8 = 64\n",
            "8 X 9 = 72\n",
            "\n",
            "=== 9단 ===\n",
            "\n",
            "9 X 1 = 9\n",
            "9 X 2 = 18\n",
            "9 X 3 = 27\n",
            "9 X 4 = 36\n",
            "9 X 5 = 45\n",
            "9 X 6 = 54\n",
            "9 X 7 = 63\n",
            "9 X 8 = 72\n",
            "9 X 9 = 81\n"
          ]
        }
      ]
    },
    {
      "cell_type": "markdown",
      "source": [
        "# **반복문 문제 풀이 추가**"
      ],
      "metadata": {
        "id": "l4dWrY1lmzER"
      }
    },
    {
      "cell_type": "markdown",
      "source": [
        "## **1. 달팽이 문제**\n",
        "\n",
        "요구사항\n",
        "\n",
        "- 사용자가 입력한 정수의 크기만큼 배열을 만들어 달팽이 모양으로 출력\n",
        "\n",
        "예시 출력 (입력: 9)\n",
        "\n",
        "```\n",
        "1 2 3\n",
        "8 9 4\n",
        "7 6 5\n",
        "```\n",
        "\n"
      ],
      "metadata": {
        "id": "wyf-ytfvoRwd"
      }
    },
    {
      "cell_type": "code",
      "source": [
        "number = int(input('배열의 크기를 입력해주세요: '))\n",
        "newList = [[0 for col in range(number)] for row in range(number)]\n",
        "\n",
        "xCoordinates = -1\n",
        "yCoordinates = 0\n",
        "count = 0\n",
        "size = number\n",
        "step = 1\n",
        "\n",
        "while size > 0:\n",
        "  for _ in range(size):\n",
        "    xCoordinates += step\n",
        "    count += 1\n",
        "    newList[yCoordinates][xCoordinates] = count\n",
        "\n",
        "  size -= 1\n",
        "\n",
        "  for _ in range(size):\n",
        "    yCoordinates += step\n",
        "    count += 1\n",
        "    newList[yCoordinates][xCoordinates] = count\n",
        "\n",
        "  step *= -1\n",
        "\n",
        "\n",
        "for i in range(number):\n",
        "  for j in range(number):\n",
        "    print('%d' %newList[i][j], end=' ')\n",
        "  print()"
      ],
      "metadata": {
        "colab": {
          "base_uri": "https://localhost:8080/"
        },
        "id": "ZuiHml4Uo4F-",
        "outputId": "a590e7b0-2584-4be0-8391-f3b65944b2da"
      },
      "execution_count": 314,
      "outputs": [
        {
          "output_type": "stream",
          "name": "stdout",
          "text": [
            "배열의 크기를 입력해주세요: 4\n",
            "1 2 3 4 \n",
            "12 13 14 5 \n",
            "11 16 15 6 \n",
            "10 9 8 7 \n"
          ]
        }
      ]
    }
  ]
}