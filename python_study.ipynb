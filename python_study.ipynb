{
  "nbformat": 4,
  "nbformat_minor": 0,
  "metadata": {
    "colab": {
      "provenance": [],
      "collapsed_sections": [
        "RlHoClfyegxi",
        "n4KOAPpTe44S",
        "PRbeppuCfUmU",
        "4_MpX5JEgP1j",
        "z6OLXCishSKr",
        "HngsdNsAhhPr",
        "SJpqyR6kc2yK",
        "mH6AKCcbcbbp",
        "grn5HvHrcMQC",
        "XqbVrd0GdKby",
        "4mqrFGQndmir",
        "JLzGyet-dx1i",
        "q6XmqPqaeHJK",
        "zde-evMCeNhq",
        "xlc5Wu8AeWZS"
      ]
    },
    "kernelspec": {
      "name": "python3",
      "display_name": "Python 3"
    },
    "language_info": {
      "name": "python"
    }
  },
  "cells": [
    {
      "cell_type": "markdown",
      "source": [
        "# **수업 내용 정리 (25/3/17)**\n",
        "\n",
        "- 변수\n",
        "\n",
        "- type() 함수\n",
        "\n",
        "- 사칙연산\n",
        "\n",
        "- 주석 및 문자열 내 \"\", '' 사용\n",
        "\n",
        "- \\n과 \\t\n",
        "\n",
        "- 문자열 내 +와 *의 사용\n",
        "\n",
        "- 문자열 인덱싱과 len() 함수\n",
        "\n",
        "- 문자열의 특정 글자 수 세기, 배열을 하나의 문장으로 만들기 (count(), join()\n",
        "함수)\n",
        "\n",
        "- 문자열을 소문자, 대문자로 만들기 (lower(), upper() 함수)\n",
        "\n",
        "- 문자열의 공백 제거 (stript(), lstrip(), rstrip() 함수)\n",
        "\n",
        "- 문자열 분할 및 제거 (split(), replace() 함수)\n",
        "\n",
        "- 지정 연산자 및 포맷팅 (%d, %s와 f{}, {0:10.4f}, format(변수)"
      ],
      "metadata": {
        "id": "0D678iPXWX2q"
      }
    },
    {
      "cell_type": "markdown",
      "source": [
        "# **변수**\n",
        "\n",
        "- 변수명을 설정하고 =을 이용해 변수에 값 저장\n",
        "\n",
        "- 변수에는 정수, 실수, 문자열, boolean(참, 거짓) 등을 사용 가능\n",
        "\n",
        "- 변수는 여러번 재활용 가능 → 값을 여러번 재활용 가능\n",
        "\n",
        "- python의 변수는 형변환 없이 자유롭게 사용 가능"
      ],
      "metadata": {
        "id": "RlHoClfyegxi"
      }
    },
    {
      "cell_type": "code",
      "source": [
        "print('안녕하세요')\n",
        "\n",
        "a = 10\n",
        "print(a)\n",
        "\n",
        "a = 20\n",
        "print(a)\n",
        "\n",
        "a = 30\n",
        "print(a)"
      ],
      "metadata": {
        "colab": {
          "base_uri": "https://localhost:8080/"
        },
        "id": "vgTBeT9L2lmC",
        "outputId": "9f7d1945-a169-4b44-d70b-99ffc4e3101d"
      },
      "execution_count": null,
      "outputs": [
        {
          "output_type": "stream",
          "name": "stdout",
          "text": [
            "안녕하세요\n",
            "10\n",
            "20\n",
            "30\n",
            "ABC\n"
          ]
        }
      ]
    },
    {
      "cell_type": "markdown",
      "source": [
        "# **type() 함수**\n",
        "\n",
        "- 각 변수의 type을 알려주는 함수\n",
        "\n",
        "- 정수(int)와 실수(float), 문자열(str), boolean형 등으로 type 분류\n",
        "\n",
        "- 8진수 16진수는 정수를 표현하는 다른 방식이기 때문에 int형으로 출력"
      ],
      "metadata": {
        "id": "n4KOAPpTe44S"
      }
    },
    {
      "cell_type": "code",
      "source": [
        "# type() → 변수 또는 값의 type을 알려주는 함수\n",
        "\n",
        "a = 10        # 정수\n",
        "b = 10.123    # 실수\n",
        "c = 0o111     # 8진수\n",
        "d = 0x8BF     # 16진수\n",
        "\n",
        "print(a)\n",
        "print(b)\n",
        "print(c)\n",
        "print(d)\n",
        "print('')\n",
        "\n",
        "print(type(a)) # int → 정수형\n",
        "print(type(b)) # float → 실수형\n",
        "print(type(c)) # int → 정수형\n",
        "print(type(d)) # int → 정수형"
      ],
      "metadata": {
        "colab": {
          "base_uri": "https://localhost:8080/"
        },
        "id": "o4kMBARu3hmT",
        "outputId": "a2e2b517-b948-4754-8a18-e75c75514285"
      },
      "execution_count": null,
      "outputs": [
        {
          "output_type": "stream",
          "name": "stdout",
          "text": [
            "10\n",
            "10.123\n",
            "73\n",
            "2239\n",
            "\n",
            "<class 'int'>\n",
            "<class 'float'>\n",
            "<class 'int'>\n",
            "<class 'int'>\n"
          ]
        }
      ]
    },
    {
      "cell_type": "markdown",
      "source": [
        "# **사칙연산**\n",
        "\n",
        "- 더하기(+): 2개 이상의 변수 또는 숫자(정수, 실수)를 더한 값\n",
        "ex) 2 + 5 = 7\n",
        "\n",
        "- 빼기(-): 2개 이상의 변수 또는 숫자(정수, 실수)를 뺀 값\n",
        "ex) 5 - 2 = 3\n",
        "\n",
        "- 곱하기(*): 2개 이상의 변수 또는 숫자(정수, 실수)를 곱한 값\n",
        "ex) 2 * 5 = 10\n",
        "\n",
        "- 나누기(/): 2개 이상의 변수 또는 숫자(정수, 실수)를 나눈 값\n",
        "ex) 5 / 2 = 2.5\n",
        "\n",
        "- 몫(%): 2개 이상의 변수 또는 숫자(정수, 실수)를 나눈 후 나머지를 제외한 값\n",
        "ex) 5 % 2 = 2\n",
        "\n",
        "- 제곱(`**`): 1개 이상의 값을 제곱한 값, 제곱 앞의 값을 뒤의 값으로 제곱\n",
        "ex) 2 `**` 2 = 4"
      ],
      "metadata": {
        "id": "PRbeppuCfUmU"
      }
    },
    {
      "cell_type": "code",
      "source": [
        "# 사칙연산\n",
        "\n",
        "a = 4\n",
        "b = 3\n",
        "\n",
        "print(a)    # 변수 a의 값\n",
        "print(b)    # 변수 b의 값\n",
        "print('')\n",
        "\n",
        "print(a+b)  # 더하기(+): 변수 a ＋ b의 값 → 4 (변수 a의 값) ＋ 3 (변수 b의 값) = 7 (출력값)\n",
        "print(a*b)  # 곱하기(*): 변수 a × b의 값 → 4 (변수 a의 값) × 3 (변수 b의 값) = 12 (출력값)\n",
        "print(a-b)  # 빼기(-): 변수 a － b의 값 → 4 (변수 a의 값) － 3 (변수 b의 값) = 1 (출력값)\n",
        "print(a/b)  # 나누기(/): 변수 a ÷ b의 값 → 4 (변수 a의 값) ÷ 3 (변수 b의 값) = 1.33333333... (출력값)\n",
        "print(a**b) # 제곱(**): 변수 a 제곱 b의 값 → 4 (변수 a의 값)의 3 (변수 b의 값)제곱 = 64 (출력값)\n",
        "print(7%3)  # 나눈 몫(%): 변수 a ÷ b의 값 중 나머지를 제외한 값 → 4 (변수 a의 값) ÷ 3 (변수 b의 값) = 1(.3333[생략]) (출력값)"
      ],
      "metadata": {
        "colab": {
          "base_uri": "https://localhost:8080/"
        },
        "id": "uJY1ihJQ4XC0",
        "outputId": "f6242b3a-71eb-4c55-84be-34adc9255321"
      },
      "execution_count": null,
      "outputs": [
        {
          "output_type": "stream",
          "name": "stdout",
          "text": [
            "4\n",
            "3\n",
            "\n",
            "7\n",
            "12\n",
            "1\n",
            "1.3333333333333333\n",
            "64\n",
            "1\n"
          ]
        }
      ]
    },
    {
      "cell_type": "markdown",
      "source": [
        "# **주석 및 따옴표 사용**\n",
        "\n",
        "- 주석을 사용하기 위해선 ''' '''와 # 사용\n",
        "\n",
        "- 한줄 주석은 # 뒤에 주석 내용 작성\n",
        "\n",
        "- 여러 줄 주석은 ''' 내용 '''으로 작성\n",
        "\n",
        "- 문자열 안에서 쌍따옴표(\"\")를 사용하고 싶으면 문자열을 홀따옴표('')로 묶고 문자열 내부에 쌍따옴표 사용\n",
        "ex) 'Computer: \"Hello, World\"' → Computer: \"Hello, World\"\n",
        "\n",
        "- 문자열 안에서 홀따옴표('')를 사용하고 싶으면 문자열을 쌍따옴표(\"\")로 묶고 문자열 내부에 홀따옴표 사용\n",
        "ex) \"Computer: 'Hello, World'\" → Computer: 'Hello, World'\n",
        "\n",
        "- 변수에 ''' 내용 '''를 사용할 경우 주석이 아니라 지정한 띄어쓰기, 줄 바꿈까지 모두 출력"
      ],
      "metadata": {
        "id": "4_MpX5JEgP1j"
      }
    },
    {
      "cell_type": "code",
      "source": [
        "'문장을 적으면 안되요.'\n",
        "\n",
        "'''\n",
        "이 부분도 주석입니다\n",
        "여러 줄을 주석으로 구성하고 싶을 때에는\n",
        "문자열을 사용하면 됩니다\n",
        "'''\n",
        "\n",
        "\n",
        "a = 'A: 누구는 말했다 \"최선을 다해라\"\\n'\n",
        "print(a)\n",
        "\n",
        "b = \"B: 누구는 말했다 '최선을 다해라'\\n\"\n",
        "print(b)\n",
        "\n",
        "\n",
        "c = '''안녕\n",
        "            하세\n",
        "            요\n",
        "'''\n",
        "print(c)"
      ],
      "metadata": {
        "colab": {
          "base_uri": "https://localhost:8080/"
        },
        "id": "t0DDMJKQ9sel",
        "outputId": "b19ab04f-6e44-4caa-abb5-0f5edb9dc8bd"
      },
      "execution_count": null,
      "outputs": [
        {
          "output_type": "stream",
          "name": "stdout",
          "text": [
            "A: 누구는 말했다 \"최선을 다해라\"\n",
            "\n",
            "B: 누구는 말했다 '최선을 다해라'\n",
            "\n",
            "안녕\n",
            "            하세\n",
            "            요\n",
            "\n"
          ]
        }
      ]
    },
    {
      "cell_type": "markdown",
      "source": [
        "# **\\n과 \\t의 사용**\n",
        "\n",
        "- \\n은 문자열 내 줄바꿈(엔터)를 위해 사용\n",
        "\n",
        "- \\t는 문자열 내 간격 띄우기 (탭)을 위해 사용"
      ],
      "metadata": {
        "id": "z6OLXCishSKr"
      }
    },
    {
      "cell_type": "code",
      "source": [
        "a = '누구는 말했다 \\n최선을 다하라'\n",
        "print(a)\n",
        "\n",
        "b = '115\\t23\\t2516'                 # 결과값: 115  23  2516\n",
        "c = '1\\t31255\\t456'                 # 결과값: 1  31255 456\n",
        "\n",
        "print(b)\n",
        "print(c)"
      ],
      "metadata": {
        "colab": {
          "base_uri": "https://localhost:8080/"
        },
        "id": "H2ACpkf3-iFV",
        "outputId": "4eadea17-b3d7-4fcd-a75e-d64b1fe2cf2a"
      },
      "execution_count": null,
      "outputs": [
        {
          "output_type": "stream",
          "name": "stdout",
          "text": [
            "누구는 말했다 \n",
            " 최선을 다하라\n",
            "115\t23\t2516\n"
          ]
        }
      ]
    },
    {
      "cell_type": "markdown",
      "source": [
        "# **문자열의 + 사용**\n",
        "\n",
        "- 2개 이상의 문자열을 하나의 문자열로 연결하기 위해 사용\n",
        "\n",
        "- 문자열 + 문자열, 정수 + 정수, 실수 + 실수, 정수 + 실수는 사용 가능\n",
        "\n",
        "- 문자열 + 숫자 (정수 or 실수), 문자열 + boolean은 에러 발생\n",
        "\n",
        "- 숫자 + boolean은 boolean이 True면 1, False면 0으로 계산되서 숫자로 더해진 값으로 출력"
      ],
      "metadata": {
        "id": "HngsdNsAhhPr"
      }
    },
    {
      "cell_type": "code",
      "source": [
        "a = 'python'\n",
        "b = ' is good'\n",
        "\n",
        "text = a + b\n",
        "print(text)\n",
        "\n",
        "print(5 + True)"
      ],
      "metadata": {
        "colab": {
          "base_uri": "https://localhost:8080/"
        },
        "id": "OldxPmTD_EAH",
        "outputId": "5ab11bad-bd66-4eee-bfc6-324bd249bee3"
      },
      "execution_count": null,
      "outputs": [
        {
          "output_type": "stream",
          "name": "stdout",
          "text": [
            "python is good\n",
            "6\n"
          ]
        }
      ]
    },
    {
      "cell_type": "markdown",
      "source": [
        "# **문자열의 반복 출력**\n",
        "\n",
        "- 문자열에 곱하기 숫자를 하면 설정한 숫자만큼 반복 실행\n",
        "ex) print('Hello' * 3)를 할 경우 Hello 3번 출력"
      ],
      "metadata": {
        "id": "SJpqyR6kc2yK"
      }
    },
    {
      "cell_type": "code",
      "source": [
        "text = 'python good\\n'\n",
        "print(text * 2)\n",
        "\n",
        "print('=' * 30)\n",
        "print('Python')\n",
        "print('=' * 30)"
      ],
      "metadata": {
        "colab": {
          "base_uri": "https://localhost:8080/"
        },
        "id": "Vl_Mk9eO_cGn",
        "outputId": "ceaaea66-d6b3-42bf-bd3d-1fc8ca7d8f1d"
      },
      "execution_count": null,
      "outputs": [
        {
          "output_type": "stream",
          "name": "stdout",
          "text": [
            "python good\n",
            "python good\n",
            "\n",
            "==============================\n",
            "Python\n",
            "==============================\n"
          ]
        }
      ]
    },
    {
      "cell_type": "markdown",
      "source": [
        "# **문자열 인덱싱 (Indexing)**\n",
        "\n",
        "- 문자열에서 지정한 index번째의 글자를 출력\n",
        "\n",
        "- index 번호는 0부터 시작\n",
        "\n",
        "ex)\n",
        "Text = 'Hello, world'\n",
        "Text[2] → l (전체의 3번째 위치의 글자 출력)"
      ],
      "metadata": {
        "id": "mH6AKCcbcbbp"
      }
    },
    {
      "cell_type": "code",
      "source": [
        "text = 'python is good'\n",
        "\n",
        "print(text[3])"
      ],
      "metadata": {
        "colab": {
          "base_uri": "https://localhost:8080/"
        },
        "id": "9_IxZCTg_2ey",
        "outputId": "7bde6115-8369-454e-cf89-243e082b53f8"
      },
      "execution_count": null,
      "outputs": [
        {
          "output_type": "stream",
          "name": "stdout",
          "text": [
            "h\n"
          ]
        }
      ]
    },
    {
      "cell_type": "markdown",
      "source": [
        "# **len() 함수**\n",
        "\n",
        "- 변수 또는 문자열의 길이를 출력\n",
        "\n",
        "- 문자열이나 변수에 저장된 띄어쓰기까지 포함한 길이를 출력\n",
        "\n",
        "- 문자열만 사용 가능"
      ],
      "metadata": {
        "id": "grn5HvHrcMQC"
      }
    },
    {
      "cell_type": "code",
      "source": [
        "text = 'I love python'\n",
        "\n",
        "print(text)\n",
        "print(len(text))"
      ],
      "metadata": {
        "colab": {
          "base_uri": "https://localhost:8080/"
        },
        "id": "2OBM014aAFFo",
        "outputId": "5f981b65-eb25-4245-9218-6a7861e7802e"
      },
      "execution_count": null,
      "outputs": [
        {
          "output_type": "stream",
          "name": "stdout",
          "text": [
            "I love python\n",
            "13\n"
          ]
        }
      ]
    },
    {
      "cell_type": "markdown",
      "source": [
        "# **count() 함수**\n",
        "\n",
        "- 변수 또는 문자열에서 사용자가 설정한 특정 키워드의 개수 세기\n",
        "\n",
        "- list에서도 사용 가능"
      ],
      "metadata": {
        "id": "XqbVrd0GdKby"
      }
    },
    {
      "cell_type": "code",
      "execution_count": null,
      "metadata": {
        "colab": {
          "base_uri": "https://localhost:8080/"
        },
        "id": "dYQA-hGcu46p",
        "outputId": "f2541975-4e64-491c-d30b-6c2c5de8f445"
      },
      "outputs": [
        {
          "output_type": "stream",
          "name": "stdout",
          "text": [
            "3\n",
            "0\n"
          ]
        }
      ],
      "source": [
        "text = 'python is good'\n",
        "\n",
        "print(text.count('o')) # text 변수 중 'o'의 개수 세기\n",
        "print(text.count('a')) # text 변수 중 'a'의 개수 세기"
      ]
    },
    {
      "cell_type": "code",
      "source": [
        "text = 'python is good'\n",
        "\n",
        "print(','.join(text)) # text 변수 의 모든 글자 사이에 ','을 넣어서 한 문장으로 만들기"
      ],
      "metadata": {
        "colab": {
          "base_uri": "https://localhost:8080/"
        },
        "id": "eI6HSdLrvMcz",
        "outputId": "4dd136ad-7150-408b-ec71-38c03badfbb7"
      },
      "execution_count": null,
      "outputs": [
        {
          "output_type": "stream",
          "name": "stdout",
          "text": [
            "p.y.t.h.o.n. .i.s. .g.o.o.d\n"
          ]
        }
      ]
    },
    {
      "cell_type": "code",
      "source": [
        "text1 = 'python is good'\n",
        "text2 = 'Python is Good'\n",
        "\n",
        "print(text1.lower()) # text1을 모두 소문자로 변경 → 기존에 모두 소문자여서 변환 X\n",
        "print(text2.lower()) # text1을 모두 소문자로 변경 → Python의 'P', Good의 'G'가 소문자로 변환\n",
        "\n",
        "print(text1.upper()) # text1을 모두 대문자로 변경 → 기존에 모두 소문자여서 모든 글자를 대문자로 변환\n",
        "print(text2.upper()) # text1을 모두 소문자로 변경 → Python의 'P', Good의 'G'를 제외한 모든 글자를 대문자로 변환"
      ],
      "metadata": {
        "colab": {
          "base_uri": "https://localhost:8080/"
        },
        "id": "UECSc00rvZOg",
        "outputId": "c224991c-75cc-4cb4-9cc6-8d1b9fab19a0"
      },
      "execution_count": null,
      "outputs": [
        {
          "output_type": "stream",
          "name": "stdout",
          "text": [
            "python is good\n",
            "python is good\n",
            "PYTHON IS GOOD\n",
            "PYTHON IS GOOD\n"
          ]
        }
      ]
    },
    {
      "cell_type": "code",
      "source": [
        "text = ' hi '\n",
        "\n",
        "print(text)\n",
        "print(text.strip()) # text 변수 중 공백 제거 → 앞뒤 공백 모두 제거\n",
        "print(text.lstrip()) # text 변수 중 공백 제거 → 왼쪽(앞) 공백 제거\n",
        "print(text.rstrip()) # text 변수 중 공백 제거 → 오른쪽(뒤) 공백 제거"
      ],
      "metadata": {
        "colab": {
          "base_uri": "https://localhost:8080/"
        },
        "id": "FNq6fMJSvuUV",
        "outputId": "f49dbfc6-688d-4e1b-8b4b-823c7333e6f5"
      },
      "execution_count": null,
      "outputs": [
        {
          "output_type": "stream",
          "name": "stdout",
          "text": [
            " hi \n",
            "hi\n",
            "hi \n",
            " hi\n"
          ]
        }
      ]
    },
    {
      "cell_type": "code",
      "source": [
        "text = 'python is good'\n",
        "\n",
        "print(text.split()) # text 변수 중 공백을 기준으로 배열 자르기\n",
        "\n",
        "text1 = 'a, b, c, d e'\n",
        "print(text1.split(',')) # text 변수 중 ','를 기준으로 배열 자르기"
      ],
      "metadata": {
        "colab": {
          "base_uri": "https://localhost:8080/"
        },
        "id": "6RgPPETbwLQB",
        "outputId": "18ab927d-7362-451d-d4e1-223ea73d1f9c"
      },
      "execution_count": null,
      "outputs": [
        {
          "output_type": "stream",
          "name": "stdout",
          "text": [
            "['python', 'is', 'good']\n",
            "['a', ' b', ' c', ' d e']\n"
          ]
        }
      ]
    },
    {
      "cell_type": "code",
      "source": [
        "text = 'python is good'\n",
        "\n",
        "print('원래 단어: ' + text + ' / 바뀐 단어: ' + text.replace('good', 'bad'))          # 변수(값).replace('기존 단어', '변경할 단어')를 이용해 'python is good'이라는 문장을 'python is bad'로 변경\n",
        "print('원래 단어: ' + text + ' / 바뀐 단어: ' + text.replace('python is', 'I am'))    # 변수(값).replace('기존 단어', '변경할 단어')를 이용해 'python is good'이라는 문장을 'I am good'으로 변경"
      ],
      "metadata": {
        "colab": {
          "base_uri": "https://localhost:8080/"
        },
        "id": "qyJAJu0ywc7j",
        "outputId": "91ee6da0-b6cc-4d08-95d0-caa77752ae5e"
      },
      "execution_count": null,
      "outputs": [
        {
          "output_type": "stream",
          "name": "stdout",
          "text": [
            "원래 단어: python is good / 바뀐 단어: python is bad\n",
            "원래 단어: python is good / 바뀐 단어: I am good\n"
          ]
        }
      ]
    },
    {
      "cell_type": "code",
      "source": [
        "print('사과 10개가 있습니다')\n",
        "\n",
        "print('사과 %d개가 있습니다' %3)            # 지정 연산자 중 정수형 지정 연산자 → 문장 중 %d 부분에 3을 넣기 위해 사용 / 3 대신 변수 사용 가능\n",
        "\n",
        "print('제 이름은 %s입니다' %'조병준')       # 지정 연산자 중 문자열 지정 연산자 → 문장 중 %s 부분에 조병준을 넣기 위해 사용 / 조병준 대신 변수 사용 가능\n",
        "\n",
        "number = 5\n",
        "print('사과 %d개가 있습니다' %number)       # 지정 연산자 중 정수형 지정 연산자 → 문장 중 %d 부분에 5를 넣기 위해 변수 number에 정수 5를 저장해 사용\n",
        "\n",
        "fruit = '감귤'\n",
        "number = 3\n",
        "\n",
        "print('%s %d개가 있습니다' %(fruit,number))\n",
        "# 지정 연산자 중 정수형/문자열 지정 연산자 → 2개 이상의 지정 연산자를 사용하기 위해선 %(변수(값), 변수(값))안에 값을 지정\n",
        "# 문장 중 %d 부분에 3을 넣기 위해 변수 number에 정수 3를 저장해 사용 / 문장 중 %s 부분에 감귤을 넣기 위해 변수 fruit에 문자열 감귤을 저장해 사용"
      ],
      "metadata": {
        "colab": {
          "base_uri": "https://localhost:8080/"
        },
        "id": "aK-Nnd1Fw5nD",
        "outputId": "431dafd2-719e-43ee-c0ce-e670801a8103"
      },
      "execution_count": null,
      "outputs": [
        {
          "output_type": "stream",
          "name": "stdout",
          "text": [
            "사과 10개가 있습니다\n",
            "사과 3개가 있습니다\n",
            "제 이름은 조병준입니다\n",
            "사과 5개가 있습니다\n",
            "감귤 3개가 있습니다\n"
          ]
        }
      ]
    },
    {
      "cell_type": "code",
      "source": [
        "text = 'python is good'\n",
        "\n",
        "print('{0:<20}'.format(text))         # text를 포함한 총 글자수 20 안에서 text를 왼쪽 정렬 / 남는 칸은 공백\n",
        "print('{0:>20}'.format(text))         # text를 포함한 총 글자수 20 안에서 text를 오른쪽 정렬 / 남는 칸은 공백\n",
        "print('{0:^20}'.format(text))         # text를 포함한 총 글자수 20 안에서 text를 가운데 정렬 / 남는 칸은 공백\n",
        "print('{0:=^20}'.format(text))        # text를 포함한 총 글자수 20 안에서 text를 가운데 정렬 / 남는 칸은 =로 대체\n",
        "\n",
        "pi = 3.141592\n",
        "print('{0:0.4f}'.format(pi))          # 변수 pi에 저장된 값을 실수형으로 변환하고 pi 포함 글자수 설정 없이 소수점 4자리까지 출력\n",
        "print('{0:10.4f}'.format(pi))          # 변수 pi에 저장된 값을 실수형으로 변환하고 pi 포함 글자수 10 안에서 소수점 4자리까지 출력 (오른쪽 정렬)\n",
        "print('%d.2f' %pi)                    # 변수 pi에 저장된 값을 실수형으로 변환하고 소수점 2자리까지 출력"
      ],
      "metadata": {
        "colab": {
          "base_uri": "https://localhost:8080/"
        },
        "id": "O6Zbqlva0VFW",
        "outputId": "f1ad2479-1dcb-48fb-a52c-456daab41002"
      },
      "execution_count": null,
      "outputs": [
        {
          "output_type": "stream",
          "name": "stdout",
          "text": [
            "python is good      \n",
            "python is good      \n",
            "      python is good\n",
            "   python is good   \n",
            "===python is good===\n",
            "3.1416\n",
            "    3.1416\n",
            "3.2f\n"
          ]
        }
      ]
    },
    {
      "cell_type": "code",
      "source": [
        "name = '조병준'\n",
        "age = 25\n",
        "print(f'나의 이름은 {name}입니다. 나이는 {age}세입니다.') # 문자열 포맷팅을 위해 사용 / 문자열 앞에 f을 붙여서 사용 / 문자열 내 {변수}를 통해 변수 직접 사용 가능"
      ],
      "metadata": {
        "colab": {
          "base_uri": "https://localhost:8080/"
        },
        "id": "sMu8XaZn0mvp",
        "outputId": "892a18a1-43f3-40fd-f3aa-bc034201a929"
      },
      "execution_count": null,
      "outputs": [
        {
          "output_type": "stream",
          "name": "stdout",
          "text": [
            "나의 이름은 조병준입니다. 나이는 25세입니다.\n"
          ]
        }
      ]
    },
    {
      "cell_type": "code",
      "source": [
        "a = input('내용을 입력해주세요: ');                       # 문자열을 입력받기 위해 사용 / input 내의 문자열이나 변수를 출력하고 사용자에게 문자열 입력값을 받아서 변수 a에 저장\n",
        "b = int(input('정수를 입력해주세요: '))                   # 정수값을 입력받기 위해 사용 / input 내의 문자열이나 변수를 출력하고 사용자에게 문자열 입력값을 받아서 정수형으로 변환해 변수 b에 저장\n",
        "c = float(input('실수를 입력해주세요: '))                 # 실수값을 입력받기 위해 사용 / input 내의 문자열이나 변수를 출력하고 사용자에게 문자열 입력값을 받아서 실수형으로 변환해 변수 c에 저장\n",
        "\n",
        "print(a)                                                  # 입력받은 변수 a의 값 출력\n",
        "print(b + c)                                              # 입력받은 변수 b와 c의 값을 더하여 출력 / 정수 + 실수인 경우 최종 결과는 추가적인 설정없이 실수형으로 설정"
      ],
      "metadata": {
        "colab": {
          "base_uri": "https://localhost:8080/"
        },
        "id": "0adPsKQW0xt1",
        "outputId": "57c35c0e-655f-49b9-dbae-f8733561fc14"
      },
      "execution_count": null,
      "outputs": [
        {
          "output_type": "stream",
          "name": "stdout",
          "text": [
            "내용을 입력해주세요: aaa\n",
            "정수를 입력해주세요: 1\n",
            "실수를 입력해주세요: 2.4\n",
            "aaa\n",
            "3.4\n",
            "<class 'float'>\n"
          ]
        }
      ]
    },
    {
      "cell_type": "markdown",
      "source": [
        "# **2. 문제 풀이**\n",
        "\n",
        "- 입력 값 제곱값 출력\n",
        "\n",
        "- 문자열 인덱싱 및 슬라이싱\n",
        "\n",
        "- 전화번호 형식 변경\n",
        "\n",
        "- 입력받은 문자열의 첫번째 글자 대문자 변환\n",
        "\n",
        "- 문자열의 값 분할"
      ],
      "metadata": {
        "id": "5Qhx7izhX3Vi"
      }
    },
    {
      "cell_type": "markdown",
      "source": [
        "# **문제 1. 사용자에게 입력받은 수의 제곱을 계산하여 출력하는 코드를 작성하시오**\n",
        "\n",
        "- 값 입력시 제곱을 출력"
      ],
      "metadata": {
        "id": "4mqrFGQndmir"
      }
    },
    {
      "cell_type": "code",
      "source": [
        "number = int(input('정수를 입력하세요: '))\n",
        "print(f'입력하신 정수의 제곱값은: {number ** 2}입니다')"
      ],
      "metadata": {
        "colab": {
          "base_uri": "https://localhost:8080/"
        },
        "id": "JAqaPbQ-SuhL",
        "outputId": "b2f00be3-1ac2-4059-e2da-f1796e4688d6"
      },
      "execution_count": null,
      "outputs": [
        {
          "output_type": "stream",
          "name": "stdout",
          "text": [
            "정수를 입력하세요: 5\n",
            "입력하신 정수의 제곱값은: 25입니다\n"
          ]
        }
      ]
    },
    {
      "cell_type": "markdown",
      "source": [
        "# **문제 2. 문자열 인덱싱 또는 슬라이싱을 사용하여 년 월 일 날씨를 출력하시오**\n",
        "\n",
        "- '20230601sunny'를 다음과 같은 형식으로 변경\n",
        "\n",
        "- year = '2023'\n",
        "- month = '06'\n",
        "- day = '01'\n",
        "- weather = 'sunny'"
      ],
      "metadata": {
        "id": "JLzGyet-dx1i"
      }
    },
    {
      "cell_type": "code",
      "source": [
        "text = '20230601sunny'\n",
        "\n",
        "year = text[:4]\n",
        "print('년: ' + year)\n",
        "month = text[4:6]\n",
        "print('월: ' + month)\n",
        "day = text[6:8]\n",
        "print('일: ' + day)\n",
        "weather = text[8:]\n",
        "print('날씨: ' + weather)\n",
        "\n",
        "print(year, month, day, weather)"
      ],
      "metadata": {
        "colab": {
          "base_uri": "https://localhost:8080/"
        },
        "id": "AJxX41NwSM97",
        "outputId": "16a51f1b-8fa5-4cfa-b484-712913397ce6"
      },
      "execution_count": null,
      "outputs": [
        {
          "output_type": "stream",
          "name": "stdout",
          "text": [
            "년: 2023\n",
            "월: 06\n",
            "일: 01\n",
            "날씨: sunny\n",
            "2023 06 01 sunny\n"
          ]
        }
      ]
    },
    {
      "cell_type": "markdown",
      "source": [
        "# **문제 3. 전화번호 형식 변경**\n",
        "\n",
        "- 010-1234-5678의 형식으로 저장된 전화번호를 '-'를 제거해 01012345678의 형식으로 바꾸어서 저장"
      ],
      "metadata": {
        "id": "q6XmqPqaeHJK"
      }
    },
    {
      "cell_type": "code",
      "source": [
        "phone = input('전화번호를 입력하세요: ')\n",
        "print('변경된 전화번호: ' + phone.replace('-', ''))"
      ],
      "metadata": {
        "colab": {
          "base_uri": "https://localhost:8080/"
        },
        "id": "Sb-Tl6bfRN_t",
        "outputId": "d4c589ee-d40f-43a9-d7be-d4d4ceb9e99d"
      },
      "execution_count": null,
      "outputs": [
        {
          "output_type": "stream",
          "name": "stdout",
          "text": [
            "전화번호를 입력하세요: 010-3537-2370\n",
            "변경된 전화번호: 01035372370\n"
          ]
        }
      ]
    },
    {
      "cell_type": "markdown",
      "source": [
        "# **문제 4. 사용자에게 영어로된 문자열을 입력받고, 첫 문자만 대문자로 변경하시오**\n",
        "\n",
        "- 예시: i am a boy → I am a boy"
      ],
      "metadata": {
        "id": "zde-evMCeNhq"
      }
    },
    {
      "cell_type": "code",
      "source": [
        "text = input('영어로된 문자열을 입력하세요: ')\n",
        "print('첫 문자를 대문자로 변경한 문자열: ' + text.capitalize())"
      ],
      "metadata": {
        "colab": {
          "base_uri": "https://localhost:8080/"
        },
        "id": "unlMz-wGR3cw",
        "outputId": "73690516-53ce-49fe-96ae-0b498a97aa89"
      },
      "execution_count": null,
      "outputs": [
        {
          "output_type": "stream",
          "name": "stdout",
          "text": [
            "영어로된 문자열을 입력하세요: python is good\n",
            "첫 문자를 대문자로 변경한 문자열: Python is good\n"
          ]
        }
      ]
    },
    {
      "cell_type": "markdown",
      "source": [
        "# **문제 5. 카카오톡에 대한 정보는 다음과 같이 저장된다. 다음 문장을 날짜, 시간, 이름, 내용별로 분할**\n",
        "\n",
        "- 예시문장 '2023년 1월 2일 오후 9:52, 조병준: 일단'"
      ],
      "metadata": {
        "id": "xlc5Wu8AeWZS"
      }
    },
    {
      "cell_type": "code",
      "source": [
        "text = '2023년 1월 2일 오후 9:52, 조병준: 일단'\n",
        "\n",
        "# 쉼표와 콜론을 기준으로 문자열 분할\n",
        "date_time, name_content = text.split(', ')\n",
        "name, content = name_content.split(': ')\n",
        "\n",
        "# 날짜와 시간 분할\n",
        "date, time = date_time.split(' 오후 ')\n",
        "\n",
        "print(f\"날짜: {date}\")\n",
        "print(f\"시간: {time}\")\n",
        "print(f\"이름: {name}\")\n",
        "print(f\"내용: {content}\")"
      ],
      "metadata": {
        "colab": {
          "base_uri": "https://localhost:8080/"
        },
        "id": "TEq2AzRtTiF9",
        "outputId": "49fea745-dc03-40ea-9742-20731e0aebf3"
      },
      "execution_count": null,
      "outputs": [
        {
          "output_type": "stream",
          "name": "stdout",
          "text": [
            "날짜: 2023년 1월 2일\n",
            "시간: 9:52\n",
            "이름: 조병준\n",
            "내용: 일단\n"
          ]
        }
      ]
    },
    {
      "cell_type": "markdown",
      "source": [
        "# **============================================================================**"
      ],
      "metadata": {
        "id": "Eiv62JnRzTTq"
      }
    },
    {
      "cell_type": "markdown",
      "source": [
        "# **수업 내용 정리 (25/3/24)**\n",
        "\n",
        "- **리스트 자료형 (list)**\n",
        "\n",
        "- **튜플 자료형 (tuple)**\n",
        "\n",
        "- **딕셔너리 자료형 (dictonary)**\n",
        "\n",
        "- **집합 자료형 (set)**\n",
        "\n",
        "- **불 자료형 (bool)**"
      ],
      "metadata": {
        "id": "vYXYNtfMkj7w"
      }
    },
    {
      "cell_type": "markdown",
      "source": [
        "# **리스트 자료형 (list)**\n",
        "\n",
        "- **모든 조율의 자료형을 자유롭게 묶어서 사용할 수 있는 자료형의 묶음**\n",
        "\n",
        "- **대괄호 []로 정의**\n",
        "\n",
        "- **[] 또는 list()를 이용해 생성**\n",
        "\n",
        "- **어떤 값이 저장되도 상관 X -> 숫자와 문자열 등 혼재 가능**"
      ],
      "metadata": {
        "id": "OoPUd9LAkqK-"
      }
    },
    {
      "cell_type": "code",
      "source": [
        "# 비어 있는 리스트 생성 -> []로 생성\n",
        "a = list()\n",
        "\n",
        "# 리스트를 직접 선언 -> [1, '문자열', 0.5, '안녕']로 생성\n",
        "b = [1, '문자열', 0.5, '안녕']\n",
        "\n",
        "# b 리스트를 c에 복사 -> [1, '문자열', 0.5, '안녕']로 생성 (복사)\n",
        "c = list(b)\n",
        "\n",
        "print(a)\n",
        "print(b)\n",
        "print(c)"
      ],
      "metadata": {
        "id": "xVBEWKgWkvrm"
      },
      "execution_count": null,
      "outputs": []
    },
    {
      "cell_type": "markdown",
      "source": [
        "**리스트 인덱싱**\n",
        "\n",
        "- 리스트도 문자열과 유사하게 인덱싱 및 슬라이싱 가능\n",
        "\n",
        "- 문자열이나, 리스트 내부의 리스트도 하나의 요소로 취급\n",
        "\n",
        "- ex) a = [1, '문자열', 0.5, '안녕'] -> a[0]: 1, a[1]: '문자열'"
      ],
      "metadata": {
        "id": "1pKJAtfKlGPO"
      }
    },
    {
      "cell_type": "code",
      "source": [
        "a = [1, '문자열', 0.5, '안녕']\n",
        "\n",
        "print('a[0]: ', a[0])                                 # 1 출력\n",
        "print('a[1]: ', a[1])                                 # '문자열' 출력\n",
        "print('a[2]: ', a[2])                                 # 0.5 출력\n",
        "print('a[3]: ', a[3])                                 # '안녕' 출력\n",
        "print('a[-1]: ', a[-1])                               # '안녕' 출력\n",
        "\n",
        "print('\\n===============\\n')\n",
        "\n",
        "# a[1] = '문자열'\n",
        "print('a[1][0]: ', a[1][0])                           # 문 출력\n",
        "print('a[1][1]: ', a[1][1])                           # 자 출력\n",
        "print('a[1][2]: ', a[1][2])                           # 열 출력\n",
        "\n",
        "print('\\n===============\\n')\n",
        "\n",
        "b = [1, 2, [3, 4, 5]]\n",
        "\n",
        "print('b[0]: ', b[0])                                 # 1 출력\n",
        "print('b[1]: ', b[1])                                 # 2 출력\n",
        "print('b[2]: ', b[2])                                 # [3, 4, 5] 출력\n",
        "\n",
        "print('\\n===============\\n')\n",
        "\n",
        "# b[2] = [3, 4, 5]\n",
        "print('b[2][0]: ', b[2][0])                           # 3 출력\n",
        "print('b[2][1]: ', b[2][1])                           # 4 출력\n",
        "print('b[2][2]: ', b[2][2])                           # 5 출력\n",
        "\n",
        "print('\\n===============\\n')\n",
        "\n",
        "# c 리스트 안에 있는 요소 'b'에 접근하는 방법\n",
        "c = [1, 2, 3, ['python', 'is', 'good', ['a', 'b', 'c']]]\n",
        "\n",
        "print(c[3][3][1])"
      ],
      "metadata": {
        "colab": {
          "base_uri": "https://localhost:8080/"
        },
        "id": "imMP6NVdlW1-",
        "outputId": "8c26a4d8-a7e7-4709-d758-c3e4b180dfcc"
      },
      "execution_count": 48,
      "outputs": [
        {
          "output_type": "stream",
          "name": "stdout",
          "text": [
            "a[0]:  1\n",
            "a[1]:  문자열\n",
            "a[2]:  0.5\n",
            "a[3]:  안녕\n",
            "a[-1]:  안녕\n",
            "\n",
            "===============\n",
            "\n",
            "a[1][0]:  문\n",
            "a[1][1]:  자\n",
            "a[1][2]:  열\n",
            "\n",
            "===============\n",
            "\n",
            "b[0]:  1\n",
            "b[1]:  2\n",
            "b[2]:  [3, 4, 5]\n",
            "\n",
            "===============\n",
            "\n",
            "b[2][0]:  3\n",
            "b[2][1]:  4\n",
            "b[2][2]:  5\n",
            "\n",
            "===============\n",
            "\n",
            "b\n"
          ]
        }
      ]
    },
    {
      "cell_type": "markdown",
      "source": [
        "**슬라이싱**\n",
        "\n",
        "- 문자열과 동일한 방법으로 리스트 슬라이싱 가능\n",
        "\n",
        "- 리스트가 중첩되었을 때에는 인덱싱한 후 슬라이싱 필요"
      ],
      "metadata": {
        "id": "pManjMc_mt7P"
      }
    },
    {
      "cell_type": "code",
      "source": [
        "a = [1, 2, 3, 4, 5]\n",
        "\n",
        "print(a[0:2])               # [1, 2] 출력\n",
        "print(a[:2])                # [1, 2] 출력 → 0부터 시작할 경우 0은 생략 가능\n",
        "print(a[3:5])               # [4, 5] 출력\n",
        "print(a[3:])                # [4, 5] 출력 → 마지막까지할 경우 마지막 숫자는 생략 가능\n",
        "\n",
        "b = [1, 2, 3, ['a', 'b', 'c'], 4, 5]\n",
        "print(b[2:5])               # [3, ['a', 'b', 'c'], 4] 출력 → ['a', 'b', 'c']를 하나의 요소로 인식\n",
        "print(b[3][:2])             # ['a', 'b'] 출력 → ['a', 'b', 'c']를 하나의 요소로 인식 후 슬라이싱"
      ],
      "metadata": {
        "colab": {
          "base_uri": "https://localhost:8080/"
        },
        "id": "gH_JbHVU0ahy",
        "outputId": "1ab11d51-6c39-48a4-e6d1-92b9fc2307a9"
      },
      "execution_count": 54,
      "outputs": [
        {
          "output_type": "stream",
          "name": "stdout",
          "text": [
            "[1, 2]\n",
            "[1, 2]\n",
            "[4, 5]\n",
            "[4, 5]\n",
            "[3, ['a', 'b', 'c'], 4]\n",
            "['a', 'b']\n"
          ]
        }
      ]
    },
    {
      "cell_type": "markdown",
      "source": [
        "**리스트 덧셈과 곱셈**\n",
        "\n",
        "- 리스트 덧셈: 더하는 리스트가 하나로 합쳐짐\n",
        "\n",
        "- 리스트 곱셈: 곱하는 수 만큼 인덱스가 반복 실행됨"
      ],
      "metadata": {
        "id": "nVW91Ktbm5fG"
      }
    },
    {
      "cell_type": "code",
      "source": [
        "a = [1, 2, 3]\n",
        "b = [4, 5, 6]\n",
        "\n",
        "c = a + b                         # a 리스트와 b 리스트가 합쳐져 c에 저장\n",
        "print('a + b = ', c)              # [1, 2, 3, 4, 5, 6] 출력\n",
        "\n",
        "print('a * 3 = ', a * 3)          # [1, 2, 3, 1, 2, 3, 1, 2, 3] 출력 → a를 3회 반복해서 출력\n",
        "print('b * 2 = ', b * 2)          # [4, 5, 6, 4, 5, 6] 출력 → b를 2회 반복해서 출력"
      ],
      "metadata": {
        "colab": {
          "base_uri": "https://localhost:8080/"
        },
        "id": "2hDUMuoSnBa2",
        "outputId": "08a0c70c-c2c9-4e29-a69a-138e8ce28ef8"
      },
      "execution_count": 9,
      "outputs": [
        {
          "output_type": "stream",
          "name": "stdout",
          "text": [
            "a + b =  [1, 2, 3, 4, 5, 6]\n",
            "a * 3 =  [1, 2, 3, 1, 2, 3, 1, 2, 3]\n",
            "b * 2 =  [4, 5, 6, 4, 5, 6]\n"
          ]
        }
      ]
    },
    {
      "cell_type": "markdown",
      "source": [
        "**len()**\n",
        "\n",
        "- 리스트의 길이를 구하는 함수"
      ],
      "metadata": {
        "id": "7j1MhhsinbbH"
      }
    },
    {
      "cell_type": "code",
      "source": [
        "b = [1, 2, 3, ['python', 'is', 'good', ['a', 'b', 'c']]]\n",
        "\n",
        "print(len(b))           # 4 출력 → ['python', 'is', 'good', ['a', 'b', 'c']]를 하나의 요소로 취급\n",
        "print(len(b[3]))        # 4 출력 → ['a', 'b', 'c']를 하나의 요소로 취급\n",
        "print(len(b[3][0]))     # 6 출력 → 문자열 'python'의 길이를 출력"
      ],
      "metadata": {
        "colab": {
          "base_uri": "https://localhost:8080/"
        },
        "id": "E9hoXXPynezv",
        "outputId": "70fefe44-4637-40ff-9c45-990cefba32f1"
      },
      "execution_count": 12,
      "outputs": [
        {
          "output_type": "stream",
          "name": "stdout",
          "text": [
            "4\n",
            "4\n",
            "6\n"
          ]
        }
      ]
    },
    {
      "cell_type": "markdown",
      "source": [
        "**리스트의 수정과 삭제**\n",
        "\n",
        "- 수정하기 위해선 변수명[인덱스] = 값으로 가능 → arry[2] = 5\n",
        "\n",
        "- 기존에 인덱스가 존재할 경우 기존 인덱스의 값을 수정\n",
        "\n",
        "- 삭제하기 위해선 del 변수명[인덱스]로 가능 → del arry[2]\n",
        "\n",
        "**리스트의 값 추가**\n",
        "\n",
        "- 변수명.append(x)를 통해 리스트의 가장 마지막에 값 추가"
      ],
      "metadata": {
        "id": "jJ4IVufVrAQ6"
      }
    },
    {
      "cell_type": "code",
      "source": [
        "a = [1, 2, 3, 4, 6]\n",
        "print(a)                                  # [1, 2, 3, 4, 6] 출력\n",
        "\n",
        "print('\\n===============\\n')\n",
        "\n",
        "a[4] = 5                                  # a 리스트의 index 4의 값을 5로 수정 (index는 0부터 시작이므로 5번째)\n",
        "print(a)                                  # [1, 2, 3, 4, 5] 출력\n",
        "\n",
        "print('\\n===============\\n')\n",
        "\n",
        "del a[2:]                                 # a 리스트의 2번째 인덱스부터 삭제\n",
        "print(a)                                  # [1, 2] 출력\n",
        "\n",
        "print('\\n===============\\n')\n",
        "\n",
        "a.append(4)                               # a 리스트의 가장 마지막에 4 추가\n",
        "print(a)                                  # [1, 2, 4] 출력\n",
        "a.append([5, 6, 7, 8])                    # a 리스트의 가장 마지막에 [5, 6, 7, 8] 추가\n",
        "print(a)                                  # [1, 2, 4, [5, 6, 7, 8]] 출력"
      ],
      "metadata": {
        "colab": {
          "base_uri": "https://localhost:8080/"
        },
        "id": "p2GqrXyXrCoV",
        "outputId": "33d875da-b59f-4964-fa8e-17cc656d8605"
      },
      "execution_count": 56,
      "outputs": [
        {
          "output_type": "stream",
          "name": "stdout",
          "text": [
            "[1, 2, 3, 4, 6]\n",
            "\n",
            "===============\n",
            "\n",
            "[1, 2, 3, 4, 5]\n",
            "\n",
            "===============\n",
            "\n",
            "[1, 2]\n",
            "\n",
            "===============\n",
            "\n",
            "[1, 2, 4]\n",
            "[1, 2, 4, [5, 6, 7, 8]]\n"
          ]
        }
      ]
    },
    {
      "cell_type": "markdown",
      "source": [
        "**sort()**\n",
        "\n",
        "- 리스트를 오름차순으로 정렬하는 함수\n",
        "\n",
        "**reverse()**\n",
        "\n",
        "- 순서를 뒤집는 함수"
      ],
      "metadata": {
        "id": "0qDOfnKKrZQv"
      }
    },
    {
      "cell_type": "code",
      "source": [
        "a = [2, 5, 7, 6, 3, 4, 1]\n",
        "print(a)            # [2, 5, 7, 6, 3, 4, 1] 출력\n",
        "\n",
        "a.sort()            # a를 오름차순으로 정렬\n",
        "print(a)            # [1, 2, 3, 4, 5, 6, 7] 출력\n",
        "\n",
        "a.reverse()         # 오름차순 정렬된 a의 순서를 반대로 변경 → 내림차순 효과\n",
        "print(a)            # [7, 6, 5, 4, 3, 2, 1] 출력"
      ],
      "metadata": {
        "colab": {
          "base_uri": "https://localhost:8080/"
        },
        "id": "VzuDis2OrbuH",
        "outputId": "a9737447-956b-4820-f714-58379536048f"
      },
      "execution_count": 30,
      "outputs": [
        {
          "output_type": "stream",
          "name": "stdout",
          "text": [
            "[2, 5, 7, 6, 3, 4, 1]\n",
            "[1, 2, 3, 4, 5, 6, 7]\n",
            "[7, 6, 5, 4, 3, 2, 1]\n"
          ]
        }
      ]
    },
    {
      "cell_type": "markdown",
      "source": [
        "**index(x)**\n",
        "\n",
        "- 리스트의 x값이 가장 먼저 존재하는 index 반환\n",
        "\n",
        "**insert(i, x)**\n",
        "\n",
        "- 리스트에 원하는 위치에 값 추가\n",
        "\n",
        "**remove(x)**\n",
        "\n",
        "- 리스트의 원하는 요소(값) 제거\n",
        "\n",
        "- 중복값이 있을 경우, 첫번째 값만 제거"
      ],
      "metadata": {
        "id": "OwoxvQcHsbmI"
      }
    },
    {
      "cell_type": "code",
      "source": [
        "a = [1, 2, 3, 1, 4, 5]\n",
        "print(a)                    # [1, 2, 3, 1, 4, 5]  출력\n",
        "\n",
        "print(a.index(3))           # 2 출력 → 0부터 index가 시작이므로 3번째에 위치한 3의 index를 2로 출력\n",
        "\n",
        "a.insert(3, 5)              # a의 3번째 index에 5 추가\n",
        "print(a)                    # [1, 2, 3, 5, 1, 4, 5] 출력\n",
        "\n",
        "a.remove(1)                 # a의 가장 먼저 나오는 1 제거\n",
        "print(a)                    # [2, 3, 5, 1, 4, 5] 출력"
      ],
      "metadata": {
        "colab": {
          "base_uri": "https://localhost:8080/"
        },
        "id": "QqbWrRsjsmX_",
        "outputId": "cf771917-c549-46bb-a5aa-b044fd4ae798"
      },
      "execution_count": 57,
      "outputs": [
        {
          "output_type": "stream",
          "name": "stdout",
          "text": [
            "[1, 2, 3, 1, 4, 5]\n",
            "2\n",
            "[1, 2, 3, 5, 1, 4, 5]\n",
            "[2, 3, 5, 1, 4, 5]\n"
          ]
        }
      ]
    },
    {
      "cell_type": "markdown",
      "source": [
        "**pop(i)**\n",
        "\n",
        "- 리스트의 원하는 위치에 있는 요소 추출"
      ],
      "metadata": {
        "id": "ogvRBYnks7EA"
      }
    },
    {
      "cell_type": "code",
      "source": [
        "a = [1, 2, 3, 4, 5]\n",
        "print(a)\n",
        "\n",
        "b = a.pop(2)\n",
        "print(a)"
      ],
      "metadata": {
        "colab": {
          "base_uri": "https://localhost:8080/"
        },
        "id": "o58aWMmstLIX",
        "outputId": "1500cddc-168b-4403-8d7c-1818f5b20cab"
      },
      "execution_count": 34,
      "outputs": [
        {
          "output_type": "stream",
          "name": "stdout",
          "text": [
            "[1, 2, 3, 4, 5]\n",
            "[1, 2, 4, 5]\n"
          ]
        }
      ]
    },
    {
      "cell_type": "markdown",
      "source": [
        "**count(x)**\n",
        "\n",
        "- 리스트에 있는 원하는 요소의 개수 세기"
      ],
      "metadata": {
        "id": "AYzIrEg_tSe4"
      }
    },
    {
      "cell_type": "code",
      "source": [
        "a = [1, 2, 3, 1, 2, 3, 1, 2, 3]\n",
        "\n",
        "print(a.count(2))           # 3 출력\n",
        "print(a.count(4))           # 0 출력 → 리스트에 없는 값을 넣어도 에러 발생 X"
      ],
      "metadata": {
        "colab": {
          "base_uri": "https://localhost:8080/"
        },
        "id": "_wQW87h_tXeo",
        "outputId": "9fb3c8cc-870b-4a30-fb2b-06fe4ad575ed"
      },
      "execution_count": 35,
      "outputs": [
        {
          "output_type": "stream",
          "name": "stdout",
          "text": [
            "3\n"
          ]
        }
      ]
    },
    {
      "cell_type": "markdown",
      "source": [
        "# **튜플 자료형 (tuple)**\n",
        "\n",
        "- 리스트와 마찬가지로, 모든 자료형을 담을 수 있는 자료형\n",
        "\n",
        "- 튜플은 한번 생성하면 값의 변경, 삭제가 불가능"
      ],
      "metadata": {
        "id": "k6OmII94tmx4"
      }
    },
    {
      "cell_type": "code",
      "source": [
        "t1 = (1, 2, 3, ('python', 'is', 'good', ('a', 'b', 'c')))\n",
        "print(t1)\n",
        "\n",
        "# 튜플 내부에 요소가 하나면 맨 뒤에 ,를 붙여서 사용 / ()에 값 하나만 사용시 연산자 우선을 위한 강조의 의미로 사용\n",
        "t2 = (2, )\n",
        "print(t2)\n",
        "\n",
        "# 튜플 생성시 () 괄호를 생략 가능\n",
        "t3 = 1, 2, 3\n",
        "print(t3)"
      ],
      "metadata": {
        "colab": {
          "base_uri": "https://localhost:8080/"
        },
        "id": "u9QI52n-ts9o",
        "outputId": "4cecd163-5963-48af-f0d1-1d8154ebd0fe"
      },
      "execution_count": 40,
      "outputs": [
        {
          "output_type": "stream",
          "name": "stdout",
          "text": [
            "(1, 2, 3, ('python', 'is', 'good', ('a', 'b', 'c')))\n",
            "(2,)\n",
            "(1, 2, 3)\n"
          ]
        }
      ]
    },
    {
      "cell_type": "markdown",
      "source": [
        "**튜플의 인덱싱 및 슬라이싱**\n",
        "\n",
        "- 인덱싱과 슬라이싱은 문자열 리스트와 마찬가지로 가능하며 사용 방식도 동일"
      ],
      "metadata": {
        "id": "1OCSNuI-3iLz"
      }
    },
    {
      "cell_type": "code",
      "source": [
        "t1 = (1, 2, 3)\n",
        "\n",
        "print(t1[0])              # 1 출력 → t1의 0번째 값 인덱싱\n",
        "print(t1[1:])             # (2, 3) 출력 → t1의 1번째 부터 슬라이싱"
      ],
      "metadata": {
        "colab": {
          "base_uri": "https://localhost:8080/"
        },
        "id": "2_mzxpfW3sXF",
        "outputId": "cab0ee6b-d84c-4c4c-8d00-af65cd51b2f4"
      },
      "execution_count": 59,
      "outputs": [
        {
          "output_type": "stream",
          "name": "stdout",
          "text": [
            "1\n",
            "(2, 3)\n"
          ]
        }
      ]
    },
    {
      "cell_type": "markdown",
      "source": [
        "**튜플의 더하기와 곱하기**\n",
        "\n",
        "- 튜플끼리 더하면 2개의 튜플이 합쳐짐\n",
        "\n",
        "- 튜플의 곱하기는 리스트의 곱하기처럼 여러번 반복\n",
        "\n",
        "**튜플의 길이 구하기**\n",
        "\n",
        "- 튜플의 길이를 구하기 위해선 리스트 처럼 len() 함수를 사용\n",
        "\n",
        "**튜플은 요소값 변경이 불가능하므로 리스트에 존재하는 sort, insert, remove, pop과 같은 내장 함수 사용 불가**"
      ],
      "metadata": {
        "id": "eB12S65N3-Ha"
      }
    },
    {
      "cell_type": "code",
      "source": [
        "t1 = (1, 2, 3)\n",
        "t2 = (4, 5)\n",
        "\n",
        "t3 = t1 + t2                # t3라는 변수에 t1과 t2를 합쳐서 새로운 튜플 생성\n",
        "print(t3)                   # (1, 2, 3, 4, 5) 출력\n",
        "\n",
        "t4 = t2 * 3                 # t4라는 변수에 t2를 3번 반복해서 저장\n",
        "print(t4)                   # (4, 5, 4, 5, 4, 5) 출력\n",
        "\n",
        "print(len(t4))              # 6 출력"
      ],
      "metadata": {
        "colab": {
          "base_uri": "https://localhost:8080/"
        },
        "id": "9e2sGBxu4SCC",
        "outputId": "5b26f084-2f8e-4e47-fdf8-e388a713ecb0"
      },
      "execution_count": 63,
      "outputs": [
        {
          "output_type": "stream",
          "name": "stdout",
          "text": [
            "(1, 2, 3, 4, 5)\n",
            "(4, 5, 4, 5, 4, 5)\n",
            "6\n"
          ]
        }
      ]
    },
    {
      "cell_type": "markdown",
      "source": [
        "# **딕셔너리 자료형 (dictionary)**\n",
        "\n",
        "- 사전과 같이 key와 value를 한쌍으로 가지는 자료형\n",
        "\n",
        "- 순차적으로 접근하지 않고, 오직 key를 통해서 value에 접근\n",
        "\n",
        "- 순서가 없기 때문에, 인덱싱 및 슬라이싱 불가능\n",
        "\n",
        "- key값은 고유한 값이므로 중복되는 key값 존재 시 마지막 설정된 key 값으로 저장, 리스트로 key 사용 불가\n",
        "\n",
        "- {}를 사용해서 생성"
      ],
      "metadata": {
        "id": "qjcO93OxuqFA"
      }
    },
    {
      "cell_type": "markdown",
      "source": [
        "**딕셔너리 요소 추가와 수정**\n",
        "\n",
        "- 딕셔너리의 키와 값을 변수에 그대로 대입\n",
        "\n",
        "- 기존의 key가 존재할 경우 값 수정, 미존재 시 값 생성\n",
        "\n",
        "- 변수명[key] = value\n",
        "\n",
        "**딕셔너리 요소 삭제**\n",
        "\n",
        "- del 키워드를 사용하여 삭제\n",
        "\n",
        "- 해당하는 key의 value와 함께 삭제\n",
        "\n",
        "- del 변수명[key]"
      ],
      "metadata": {
        "id": "k-N9Iu6yvKJw"
      }
    },
    {
      "cell_type": "code",
      "source": [
        "dic = {1: 'one', 2: 'two'}\n",
        "print(dic)                        # {1: 'one', 2: 'two'} 출력\n",
        "\n",
        "dic[3] = '삼'                     # 3 이라는 key가 없어서 값 생성\n",
        "print(dic)                        # {1: 'one', 2: 'two', 3: '삼'} 출력\n",
        "\n",
        "dic[3] = 'three'                  # 3 이라는 key가 있어서 값 수정\n",
        "print(dic)                        # {1: 'one', 2: 'two', 3: 'three'} 출력\n",
        "\n",
        "del dic[3]                        # key가 3인 값 삭제\n",
        "print(dic)                        # {1: 'one', 2: 'two'} 출력\n",
        "\n",
        "# key값이 중복될 경우 마지막으로 설정된 key값으로 설정\n",
        "b = {1: 'one', 1: '하나', 2: 'two', 2: '둘'}\n",
        "print(b)                          # {1: '하나', 2: '둘'} 출력"
      ],
      "metadata": {
        "colab": {
          "base_uri": "https://localhost:8080/"
        },
        "id": "3i2bzlpCvhHA",
        "outputId": "8aa4d14a-da9d-4b5b-f6f0-460dfd4f4c52"
      },
      "execution_count": 39,
      "outputs": [
        {
          "output_type": "stream",
          "name": "stdout",
          "text": [
            "{1: 'one', 2: 'two'}\n",
            "{1: 'one', 2: 'two', 3: '삼'}\n",
            "{1: 'one', 2: 'two', 3: 'three'}\n",
            "{1: 'one', 2: 'two'}\n",
            "{1: '하나', 2: '둘'}\n"
          ]
        }
      ]
    },
    {
      "cell_type": "markdown",
      "source": [
        "**딕서녀리 자료형 함수**\n",
        "\n",
        "- keys(): key값들 호출\n",
        "\n",
        "- values(): value값들 호출\n",
        "\n",
        "- items(): key와 value 쌍들을 호출\n",
        "\n",
        "- get[key]: 설정한 key의 값을 호출 / dic[key]로도 사용 가능\n",
        "\n",
        "- key in 변수명: key가 변수에 존재하는지 여부 호출 (True, False로 출력)\n",
        "\n",
        "- clear(): 딕셔너리에 있는 모든 key, value 쌍 지우기"
      ],
      "metadata": {
        "id": "7YJNwueswMvQ"
      }
    },
    {
      "cell_type": "code",
      "source": [
        "dic = {'사과': 'apple', '바나나': 'banana', '멜론': 'melon'}\n",
        "\n",
        "print(dic.keys())                 # dict_keys(['사과', '바나나', '멜론']) 출력\n",
        "print(dic.values())               # dict_values(['apple', 'banana', 'melon']) 출력\n",
        "print(dic.items())                # dict_items([('사과', 'apple'), ('바나나', 'banana'), ('멜론', 'melon')]) 출력\n",
        "\n",
        "print(dic.get('사과'))            # apple 출력\n",
        "print(dic['사과'])                # apple 출력\n",
        "\n",
        "print('사과' in dic)              # True 출력\n",
        "print('딸기' in dic)              # False 출력\n",
        "\n",
        "dic.clear()                       # 딕셔너리에 있는 모든 key, value 쌍 지우기\n",
        "print(dic)                        # {} 출력"
      ],
      "metadata": {
        "colab": {
          "base_uri": "https://localhost:8080/"
        },
        "id": "WN1vv0bkwMbx",
        "outputId": "e99a5e8d-c2dc-494f-eabd-b671db52db9d"
      },
      "execution_count": 64,
      "outputs": [
        {
          "output_type": "stream",
          "name": "stdout",
          "text": [
            "dict_keys(['사과', '바나나', '멜론'])\n",
            "dict_values(['apple', 'banana', 'melon'])\n",
            "dict_items([('사과', 'apple'), ('바나나', 'banana'), ('멜론', 'melon')])\n",
            "apple\n",
            "apple\n",
            "True\n",
            "False\n",
            "{}\n"
          ]
        }
      ]
    },
    {
      "cell_type": "markdown",
      "source": [
        "# **집합 자료형 (Set)**\n",
        "\n",
        "- 집합(set)과 관련된 것을 처리하기 위해 만든 자료형\n",
        "\n",
        "- 중복을 허용하지 않으며 순서가 없음"
      ],
      "metadata": {
        "id": "mMJKI22nx0Lq"
      }
    },
    {
      "cell_type": "code",
      "source": [
        "s1 = set([1, 2, 2, 3, 3])\n",
        "s2 = set('i am a boy')\n",
        "s3 = set([1, 5, 6])\n",
        "\n",
        "print(s1)                                     # {1, 2, 3} 출력 → 딕셔너리처럼 {} 괄호로 표시하지만, key와 value가 있으면 딕셔너리, 없으면 집합\n",
        "print(s2)                                     # {'m', 'b', ' ', 'a', 'i', 'o', 'y'} 출력 → am과 a에서의 a는 중복되기 때문에 a는 1번만 출력 / 글자 순서는 무작위여서 매번 변경\n",
        "print(s3)                                     # {1, 5, 6} 출력\n",
        "\n",
        "l1 = list(s1)\n",
        "print(l1)                                     # [1, 2, 3] 출력 → 집합을 리스트로 변경\n",
        "t1 = tuple(s1)\n",
        "print(t1)                                     # (1, 2, 3) 출력 → 집합을 튜플로 변경"
      ],
      "metadata": {
        "colab": {
          "base_uri": "https://localhost:8080/"
        },
        "id": "Mpe9SDaQyDFR",
        "outputId": "a2b90435-a3d8-410b-ad05-8a7b0f9b8f51"
      },
      "execution_count": 67,
      "outputs": [
        {
          "output_type": "stream",
          "name": "stdout",
          "text": [
            "{1, 2, 3}\n",
            "{'m', 'b', ' ', 'a', 'i', 'o', 'y'}\n",
            "{1, 5, 6}\n",
            "[1, 2, 3]\n",
            "(1, 2, 3)\n"
          ]
        }
      ]
    },
    {
      "cell_type": "markdown",
      "source": [
        "**교집합**\n",
        "\n",
        "- 2개 이상의 집합 중 모두에 있는 값만 출력\n",
        "\n",
        "- 집합1 & 집합2, 집합1.intersection(집합2)로 사용 가능\n",
        "\n",
        "**합집합**\n",
        "\n",
        "- 2개 이상의 집합을 하나로 합쳐진 값을 출력, 집합이기에 모든 집합에 있는 경우 중복되는 값은 1개만 유지\n",
        "\n",
        "- 집합1 | 집합2, 집합1.union(집합2)로 사용 가능\n",
        "\n",
        "**차집합**\n",
        "\n",
        "- 2개 이상의 집합에서 뺀 값을 사용, 기존 집합에서 중복되는 값을 제외한 값만 출력\n",
        "\n",
        "- 집합1 - 집합2, 집합1.difference(집합2)로 사용 가능"
      ],
      "metadata": {
        "id": "6oqz9SDs6CFM"
      }
    },
    {
      "cell_type": "code",
      "source": [
        "s1 = set([1, 2, 3, 4, 5, 6])\n",
        "s2 = set([4, 5, 6, 7, 8, 9])\n",
        "\n",
        "# 교집합\n",
        "print(s1 & s2)                  # {4, 5, 6} 출력\n",
        "print(s1.intersection(s2))      # {4, 5, 6} 출력\n",
        "\n",
        "# 합집합\n",
        "print(s1 | s2)                  # {1, 2, 3, 4, 5, 6, 7, 8, 9} 출력\n",
        "print(s1.union(s2))             # {1, 2, 3, 4, 5, 6, 7, 8, 9} 출력\n",
        "\n",
        "# 차집합\n",
        "print(s1 - s2)                  # {1, 2, 3} 출력\n",
        "print(s1.difference(s2))        # {1, 2, 3} 출력"
      ],
      "metadata": {
        "colab": {
          "base_uri": "https://localhost:8080/"
        },
        "id": "GBesaeRA6F_D",
        "outputId": "7c97e927-65d6-4ef6-ce96-119954b80232"
      },
      "execution_count": 72,
      "outputs": [
        {
          "output_type": "stream",
          "name": "stdout",
          "text": [
            "{4, 5, 6}\n",
            "{4, 5, 6}\n",
            "{1, 2, 3, 4, 5, 6, 7, 8, 9}\n",
            "{1, 2, 3, 4, 5, 6, 7, 8, 9}\n",
            "{1, 2, 3}\n",
            "{1, 2, 3}\n"
          ]
        }
      ]
    },
    {
      "cell_type": "markdown",
      "source": [
        "**집합의 자료형**\n",
        "\n",
        "- **집합의 값 추가: add(x)**\n",
        "  - add(x) 함수를 사용해 1개의 값을 추가\n",
        "\n",
        "  - add(x) 함수 사용 시 집합의 가장 마지막에 값 추가\n",
        "\n",
        "- **집합의 여러 값 추가: update(리스트)**\n",
        "  - update(리스트)함수를 사용해 여러개의 값을 추가\n",
        "\n",
        "  - add(x) 함수와 마찬가지로 집합의 가장 마지막에 값들 추가\n",
        "\n",
        "- **집합의 특정 값 삭제: remove(x)**\n",
        "  - remove(x)를 통해 특정 값을 제거"
      ],
      "metadata": {
        "id": "iV8JsEHm8lr7"
      }
    },
    {
      "cell_type": "code",
      "source": [
        "s1 = set([1, 2, 3])\n",
        "\n",
        "s1.add(4)                   # s1 집합 마지막에 4 추가\n",
        "print(s1)                   # {1, 2, 3, 4} 출력\n",
        "\n",
        "s1.update([5, 6, 7])        # s1 집합 마지막에 5, 6, 7 추가\n",
        "print(s1)                   # {1, 2, 3, 4, 5, 6, 7} 출력\n",
        "\n",
        "s1.remove(2)                # s1 집합 중 2의 값 제거\n",
        "print(s1)                   # {1, 3, 4, 5, 6, 7} 출력"
      ],
      "metadata": {
        "colab": {
          "base_uri": "https://localhost:8080/"
        },
        "id": "__PfmilX8xdk",
        "outputId": "fea9cdcc-0337-46dc-877c-1a376ca8bea8"
      },
      "execution_count": 75,
      "outputs": [
        {
          "output_type": "stream",
          "name": "stdout",
          "text": [
            "{1, 2, 3, 4}\n",
            "{1, 2, 3, 4, 5, 6, 7}\n",
            "{1, 3, 4, 5, 6, 7}\n"
          ]
        }
      ]
    },
    {
      "cell_type": "markdown",
      "source": [
        "# **불 자료형 (bool)**\n",
        "\n",
        "- 참과 거짓을 나타내기 위한 자료형\n",
        "\n",
        "- 불 자료형의 첫글자는 무조건 대문자로 사용"
      ],
      "metadata": {
        "id": "ny1KDmJ49l1s"
      }
    },
    {
      "cell_type": "markdown",
      "source": [
        "**불 자료형과 비교 연산자**\n",
        "\n",
        "- 불 자료형은 비교연산자와 사용 가능\n",
        "\n",
        "**비교 연산자의 종류**\n",
        "\n",
        "- **==** : 동일 여부, Python에서 =는 대입 연산자이므로 양쪽의 값이 같은지 확인하기 위해선 =을 2개 사용\n",
        "\n",
        "- **!=** : 양쪽이 동일하지 않은지 여부, Python에서 !는 not과 같이 부정의 의미로 사용하므로 양쪽의 값이 같지 않은지 확인하기 위해 사용\n",
        "\n",
        "- **>** : 왼쪽의 값이 오른쪽보다 큰지 확인하기 위한 여부, >=을 하면 양쪽의 값이 같아도 True를 출력\n",
        "\n",
        "- **<** : 오른쪽의 값이 왼쪽보다 큰지 확인하기 위한 여부, <=를 하면 양쪽의 값이 같아도 True를 출력\n",
        "\n",
        "**자료형의 참과 거짓**\n",
        "\n",
        "- 문자열: \"\"안에 값이 있으면 True, 없으면 False\n",
        "\n",
        "- 리스트: []안에 값이 있으면 True, 없으면 False\n",
        "\n",
        "- 튜플: ()안에 값이 있으면 True, 없으면 False\n",
        "\n",
        "- 딕셔너리: {}안에 값이 있으면 True, 없으면 False\n",
        "\n",
        "- 정수: 1이면 True, 0이면 False\n",
        "\n",
        "- None: 거짓"
      ],
      "metadata": {
        "id": "4bW99oO7-Ens"
      }
    },
    {
      "cell_type": "code",
      "source": [
        "a = 3\n",
        "b = 2\n",
        "\n",
        "print(a == b)       # False 출력\n",
        "print(a != b)       # True 출력\n",
        "\n",
        "print(a > b)        # True 출력\n",
        "print(3 >= 3)       # True 출력\n",
        "\n",
        "print(a < b)       # False 출력\n",
        "print(3 <= 3)       # True 출력"
      ],
      "metadata": {
        "colab": {
          "base_uri": "https://localhost:8080/"
        },
        "id": "ytDRLhYS-rHs",
        "outputId": "d52e6027-97e5-4149-e653-997c876ef9cf"
      },
      "execution_count": 80,
      "outputs": [
        {
          "output_type": "stream",
          "name": "stdout",
          "text": [
            "False\n",
            "True\n",
            "True\n",
            "True\n",
            "False\n",
            "True\n"
          ]
        }
      ]
    }
  ]
}