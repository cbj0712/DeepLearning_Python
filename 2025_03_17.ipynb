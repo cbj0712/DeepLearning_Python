{
  "nbformat": 4,
  "nbformat_minor": 0,
  "metadata": {
    "colab": {
      "provenance": [],
      "collapsed_sections": [
        "SJpqyR6kc2yK",
        "mH6AKCcbcbbp",
        "grn5HvHrcMQC",
        "XqbVrd0GdKby",
        "4mqrFGQndmir",
        "JLzGyet-dx1i",
        "q6XmqPqaeHJK",
        "zde-evMCeNhq",
        "xlc5Wu8AeWZS"
      ]
    },
    "kernelspec": {
      "name": "python3",
      "display_name": "Python 3"
    },
    "language_info": {
      "name": "python"
    }
  },
  "cells": [
    {
      "cell_type": "markdown",
      "source": [
        "# **1. 수업 내용 정리**\n",
        "\n",
        "- 변수\n",
        "\n",
        "- type() 함수\n",
        "\n",
        "- 사칙연산\n",
        "\n",
        "- 주석 및 문자열 내 \"\", '' 사용\n",
        "\n",
        "- \\n과 \\t\n",
        "\n",
        "- 문자열 내 +와 *의 사용\n",
        "\n",
        "- 문자열 인덱싱과 len() 함수\n",
        "\n",
        "- 문자열의 특정 글자 수 세기, 배열을 하나의 문장으로 만들기 (count(), join()\n",
        "함수)\n",
        "\n",
        "- 문자열을 소문자, 대문자로 만들기 (lower(), upper() 함수)\n",
        "\n",
        "- 문자열의 공백 제거 (stript(), lstrip(), rstrip() 함수)\n",
        "\n",
        "- 문자열 분할 및 제거 (split(), replace() 함수)\n",
        "\n",
        "- 지정 연산자 및 포맷팅 (%d, %s와 f{}, {0:10.4f}, format(변수)"
      ],
      "metadata": {
        "id": "0D678iPXWX2q"
      }
    },
    {
      "cell_type": "markdown",
      "source": [
        "# **변수**\n",
        "\n",
        "- 변수명을 설정하고 =을 이용해 변수에 값 저장\n",
        "\n",
        "- 변수에는 정수, 실수, 문자열, boolean(참, 거짓) 등을 사용 가능\n",
        "\n",
        "- 변수는 여러번 재활용 가능 → 값을 여러번 재활용 가능\n",
        "\n",
        "- python의 변수는 형변환 없이 자유롭게 사용 가능"
      ],
      "metadata": {
        "id": "RlHoClfyegxi"
      }
    },
    {
      "cell_type": "code",
      "source": [
        "print('안녕하세요')\n",
        "\n",
        "a = 10\n",
        "print(a)\n",
        "\n",
        "a = 20\n",
        "print(a)\n",
        "\n",
        "a = 30\n",
        "print(a)"
      ],
      "metadata": {
        "colab": {
          "base_uri": "https://localhost:8080/"
        },
        "id": "vgTBeT9L2lmC",
        "outputId": "9f7d1945-a169-4b44-d70b-99ffc4e3101d"
      },
      "execution_count": 111,
      "outputs": [
        {
          "output_type": "stream",
          "name": "stdout",
          "text": [
            "안녕하세요\n",
            "10\n",
            "20\n",
            "30\n",
            "ABC\n"
          ]
        }
      ]
    },
    {
      "cell_type": "markdown",
      "source": [
        "# **type() 함수**\n",
        "\n",
        "- 각 변수의 type을 알려주는 함수\n",
        "\n",
        "- 정수(int)와 실수(float), 문자열(str), boolean형 등으로 type 분류\n",
        "\n",
        "- 8진수 16진수는 정수를 표현하는 다른 방식이기 때문에 int형으로 출력"
      ],
      "metadata": {
        "id": "n4KOAPpTe44S"
      }
    },
    {
      "cell_type": "code",
      "source": [
        "# type() → 변수 또는 값의 type을 알려주는 함수\n",
        "\n",
        "a = 10        # 정수\n",
        "b = 10.123    # 실수\n",
        "c = 0o111     # 8진수\n",
        "d = 0x8BF     # 16진수\n",
        "\n",
        "print(a)\n",
        "print(b)\n",
        "print(c)\n",
        "print(d)\n",
        "print('')\n",
        "\n",
        "print(type(a)) # int → 정수형\n",
        "print(type(b)) # float → 실수형\n",
        "print(type(c)) # int → 정수형\n",
        "print(type(d)) # int → 정수형"
      ],
      "metadata": {
        "colab": {
          "base_uri": "https://localhost:8080/"
        },
        "id": "o4kMBARu3hmT",
        "outputId": "a2e2b517-b948-4754-8a18-e75c75514285"
      },
      "execution_count": 113,
      "outputs": [
        {
          "output_type": "stream",
          "name": "stdout",
          "text": [
            "10\n",
            "10.123\n",
            "73\n",
            "2239\n",
            "\n",
            "<class 'int'>\n",
            "<class 'float'>\n",
            "<class 'int'>\n",
            "<class 'int'>\n"
          ]
        }
      ]
    },
    {
      "cell_type": "markdown",
      "source": [
        "# **사칙연산**\n",
        "\n",
        "- 더하기(+): 2개 이상의 변수 또는 숫자(정수, 실수)를 더한 값\n",
        "ex) 2 + 5 = 7\n",
        "\n",
        "- 빼기(-): 2개 이상의 변수 또는 숫자(정수, 실수)를 뺀 값\n",
        "ex) 5 - 2 = 3\n",
        "\n",
        "- 곱하기(*): 2개 이상의 변수 또는 숫자(정수, 실수)를 곱한 값\n",
        "ex) 2 * 5 = 10\n",
        "\n",
        "- 나누기(/): 2개 이상의 변수 또는 숫자(정수, 실수)를 나눈 값\n",
        "ex) 5 / 2 = 2.5\n",
        "\n",
        "- 몫(%): 2개 이상의 변수 또는 숫자(정수, 실수)를 나눈 후 나머지를 제외한 값\n",
        "ex) 5 % 2 = 2\n",
        "\n",
        "- 제곱(`**`): 1개 이상의 값을 제곱한 값, 제곱 앞의 값을 뒤의 값으로 제곱\n",
        "ex) 2 `**` 2 = 4"
      ],
      "metadata": {
        "id": "PRbeppuCfUmU"
      }
    },
    {
      "cell_type": "code",
      "source": [
        "# 사칙연산\n",
        "\n",
        "a = 4\n",
        "b = 3\n",
        "\n",
        "print(a)    # 변수 a의 값\n",
        "print(b)    # 변수 b의 값\n",
        "print('')\n",
        "\n",
        "print(a+b)  # 더하기(+): 변수 a ＋ b의 값 → 4 (변수 a의 값) ＋ 3 (변수 b의 값) = 7 (출력값)\n",
        "print(a*b)  # 곱하기(*): 변수 a × b의 값 → 4 (변수 a의 값) × 3 (변수 b의 값) = 12 (출력값)\n",
        "print(a-b)  # 빼기(-): 변수 a － b의 값 → 4 (변수 a의 값) － 3 (변수 b의 값) = 1 (출력값)\n",
        "print(a/b)  # 나누기(/): 변수 a ÷ b의 값 → 4 (변수 a의 값) ÷ 3 (변수 b의 값) = 1.33333333... (출력값)\n",
        "print(a**b) # 제곱(**): 변수 a 제곱 b의 값 → 4 (변수 a의 값)의 3 (변수 b의 값)제곱 = 64 (출력값)\n",
        "print(7%3)  # 나눈 몫(%): 변수 a ÷ b의 값 중 나머지를 제외한 값 → 4 (변수 a의 값) ÷ 3 (변수 b의 값) = 1(.3333[생략]) (출력값)"
      ],
      "metadata": {
        "colab": {
          "base_uri": "https://localhost:8080/"
        },
        "id": "uJY1ihJQ4XC0",
        "outputId": "f6242b3a-71eb-4c55-84be-34adc9255321"
      },
      "execution_count": 115,
      "outputs": [
        {
          "output_type": "stream",
          "name": "stdout",
          "text": [
            "4\n",
            "3\n",
            "\n",
            "7\n",
            "12\n",
            "1\n",
            "1.3333333333333333\n",
            "64\n",
            "1\n"
          ]
        }
      ]
    },
    {
      "cell_type": "markdown",
      "source": [
        "# **주석 및 따옴표 사용**\n",
        "\n",
        "- 주석을 사용하기 위해선 ''' '''와 # 사용\n",
        "\n",
        "- 한줄 주석은 # 뒤에 주석 내용 작성\n",
        "\n",
        "- 여러 줄 주석은 ''' 내용 '''으로 작성\n",
        "\n",
        "- 문자열 안에서 쌍따옴표(\"\")를 사용하고 싶으면 문자열을 홀따옴표('')로 묶고 문자열 내부에 쌍따옴표 사용\n",
        "ex) 'Computer: \"Hello, World\"' → Computer: \"Hello, World\"\n",
        "\n",
        "- 문자열 안에서 홀따옴표('')를 사용하고 싶으면 문자열을 쌍따옴표(\"\")로 묶고 문자열 내부에 홀따옴표 사용\n",
        "ex) \"Computer: 'Hello, World'\" → Computer: 'Hello, World'\n",
        "\n",
        "- 변수에 ''' 내용 '''를 사용할 경우 주석이 아니라 지정한 띄어쓰기, 줄 바꿈까지 모두 출력"
      ],
      "metadata": {
        "id": "4_MpX5JEgP1j"
      }
    },
    {
      "cell_type": "code",
      "source": [
        "'문장을 적으면 안되요.'\n",
        "\n",
        "'''\n",
        "이 부분도 주석입니다\n",
        "여러 줄을 주석으로 구성하고 싶을 때에는\n",
        "문자열을 사용하면 됩니다\n",
        "'''\n",
        "\n",
        "\n",
        "a = 'A: 누구는 말했다 \"최선을 다해라\"\\n'\n",
        "print(a)\n",
        "\n",
        "b = \"B: 누구는 말했다 '최선을 다해라'\\n\"\n",
        "print(b)\n",
        "\n",
        "\n",
        "c = '''안녕\n",
        "            하세\n",
        "            요\n",
        "'''\n",
        "print(c)"
      ],
      "metadata": {
        "colab": {
          "base_uri": "https://localhost:8080/"
        },
        "id": "t0DDMJKQ9sel",
        "outputId": "b19ab04f-6e44-4caa-abb5-0f5edb9dc8bd"
      },
      "execution_count": 47,
      "outputs": [
        {
          "output_type": "stream",
          "name": "stdout",
          "text": [
            "A: 누구는 말했다 \"최선을 다해라\"\n",
            "\n",
            "B: 누구는 말했다 '최선을 다해라'\n",
            "\n",
            "안녕\n",
            "            하세\n",
            "            요\n",
            "\n"
          ]
        }
      ]
    },
    {
      "cell_type": "markdown",
      "source": [
        "# **\\n과 \\t의 사용**\n",
        "\n",
        "- \\n은 문자열 내 줄바꿈(엔터)를 위해 사용\n",
        "\n",
        "- \\t는 문자열 내 간격 띄우기 (탭)을 위해 사용"
      ],
      "metadata": {
        "id": "z6OLXCishSKr"
      }
    },
    {
      "cell_type": "code",
      "source": [
        "a = '누구는 말했다 \\n최선을 다하라'\n",
        "print(a)\n",
        "\n",
        "b = '115\\t23\\t2516'                 # 결과값: 115  23  2516\n",
        "c = '1\\t31255\\t456'                 # 결과값: 1  31255 456\n",
        "\n",
        "print(b)\n",
        "print(c)"
      ],
      "metadata": {
        "colab": {
          "base_uri": "https://localhost:8080/"
        },
        "id": "H2ACpkf3-iFV",
        "outputId": "4eadea17-b3d7-4fcd-a75e-d64b1fe2cf2a"
      },
      "execution_count": 48,
      "outputs": [
        {
          "output_type": "stream",
          "name": "stdout",
          "text": [
            "누구는 말했다 \n",
            " 최선을 다하라\n",
            "115\t23\t2516\n"
          ]
        }
      ]
    },
    {
      "cell_type": "markdown",
      "source": [
        "# **문자열의 + 사용**\n",
        "\n",
        "- 2개 이상의 문자열을 하나의 문자열로 연결하기 위해 사용\n",
        "\n",
        "- 문자열 + 문자열, 정수 + 정수, 실수 + 실수, 정수 + 실수는 사용 가능\n",
        "\n",
        "- 문자열 + 숫자 (정수 or 실수), 문자열 + boolean은 에러 발생\n",
        "\n",
        "- 숫자 + boolean은 boolean이 True면 1, False면 0으로 계산되서 숫자로 더해진 값으로 출력"
      ],
      "metadata": {
        "id": "HngsdNsAhhPr"
      }
    },
    {
      "cell_type": "code",
      "source": [
        "a = 'python'\n",
        "b = ' is good'\n",
        "\n",
        "text = a + b\n",
        "print(text)\n",
        "\n",
        "print(5 + True)"
      ],
      "metadata": {
        "colab": {
          "base_uri": "https://localhost:8080/"
        },
        "id": "OldxPmTD_EAH",
        "outputId": "5ab11bad-bd66-4eee-bfc6-324bd249bee3"
      },
      "execution_count": 118,
      "outputs": [
        {
          "output_type": "stream",
          "name": "stdout",
          "text": [
            "python is good\n",
            "6\n"
          ]
        }
      ]
    },
    {
      "cell_type": "markdown",
      "source": [
        "# **문자열의 반복 출력**\n",
        "\n",
        "- 문자열에 곱하기 숫자를 하면 설정한 숫자만큼 반복 실행\n",
        "ex) print('Hello' * 3)를 할 경우 Hello 3번 출력"
      ],
      "metadata": {
        "id": "SJpqyR6kc2yK"
      }
    },
    {
      "cell_type": "code",
      "source": [
        "text = 'python good\\n'\n",
        "print(text * 2)\n",
        "\n",
        "print('=' * 30)\n",
        "print('Python')\n",
        "print('=' * 30)"
      ],
      "metadata": {
        "colab": {
          "base_uri": "https://localhost:8080/"
        },
        "id": "Vl_Mk9eO_cGn",
        "outputId": "ceaaea66-d6b3-42bf-bd3d-1fc8ca7d8f1d"
      },
      "execution_count": 54,
      "outputs": [
        {
          "output_type": "stream",
          "name": "stdout",
          "text": [
            "python good\n",
            "python good\n",
            "\n",
            "==============================\n",
            "Python\n",
            "==============================\n"
          ]
        }
      ]
    },
    {
      "cell_type": "markdown",
      "source": [
        "# **문자열 인덱싱 (Indexing)**\n",
        "\n",
        "- 문자열에서 지정한 index번째의 글자를 출력\n",
        "\n",
        "- index 번호는 0부터 시작\n",
        "\n",
        "ex)\n",
        "Text = 'Hello, world'\n",
        "Text[2] → l (전체의 3번째 위치의 글자 출력)"
      ],
      "metadata": {
        "id": "mH6AKCcbcbbp"
      }
    },
    {
      "cell_type": "code",
      "source": [
        "text = 'python is good'\n",
        "\n",
        "print(text[3])"
      ],
      "metadata": {
        "colab": {
          "base_uri": "https://localhost:8080/"
        },
        "id": "9_IxZCTg_2ey",
        "outputId": "7bde6115-8369-454e-cf89-243e082b53f8"
      },
      "execution_count": 56,
      "outputs": [
        {
          "output_type": "stream",
          "name": "stdout",
          "text": [
            "h\n"
          ]
        }
      ]
    },
    {
      "cell_type": "markdown",
      "source": [
        "# **len() 함수**\n",
        "\n",
        "- 변수 또는 문자열의 길이를 출력\n",
        "\n",
        "- 문자열이나 변수에 저장된 띄어쓰기까지 포함한 길이를 출력\n",
        "\n",
        "- 문자열만 사용 가능"
      ],
      "metadata": {
        "id": "grn5HvHrcMQC"
      }
    },
    {
      "cell_type": "code",
      "source": [
        "text = 'I love python'\n",
        "\n",
        "print(text)\n",
        "print(len(text))"
      ],
      "metadata": {
        "colab": {
          "base_uri": "https://localhost:8080/"
        },
        "id": "2OBM014aAFFo",
        "outputId": "5f981b65-eb25-4245-9218-6a7861e7802e"
      },
      "execution_count": 60,
      "outputs": [
        {
          "output_type": "stream",
          "name": "stdout",
          "text": [
            "I love python\n",
            "13\n"
          ]
        }
      ]
    },
    {
      "cell_type": "markdown",
      "source": [
        "# **count() 함수**\n",
        "\n",
        "- 변수 또는 문자열에서 사용자가 설정한 특정 키워드의 개수 세기\n",
        "\n",
        "- list에서도 사용 가능"
      ],
      "metadata": {
        "id": "XqbVrd0GdKby"
      }
    },
    {
      "cell_type": "code",
      "execution_count": 4,
      "metadata": {
        "colab": {
          "base_uri": "https://localhost:8080/"
        },
        "id": "dYQA-hGcu46p",
        "outputId": "f2541975-4e64-491c-d30b-6c2c5de8f445"
      },
      "outputs": [
        {
          "output_type": "stream",
          "name": "stdout",
          "text": [
            "3\n",
            "0\n"
          ]
        }
      ],
      "source": [
        "text = 'python is good'\n",
        "\n",
        "print(text.count('o')) # text 변수 중 'o'의 개수 세기\n",
        "print(text.count('a')) # text 변수 중 'a'의 개수 세기"
      ]
    },
    {
      "cell_type": "code",
      "source": [
        "text = 'python is good'\n",
        "\n",
        "print(','.join(text)) # text 변수 의 모든 글자 사이에 ','을 넣어서 한 문장으로 만들기"
      ],
      "metadata": {
        "colab": {
          "base_uri": "https://localhost:8080/"
        },
        "id": "eI6HSdLrvMcz",
        "outputId": "4dd136ad-7150-408b-ec71-38c03badfbb7"
      },
      "execution_count": 5,
      "outputs": [
        {
          "output_type": "stream",
          "name": "stdout",
          "text": [
            "p.y.t.h.o.n. .i.s. .g.o.o.d\n"
          ]
        }
      ]
    },
    {
      "cell_type": "code",
      "source": [
        "text1 = 'python is good'\n",
        "text2 = 'Python is Good'\n",
        "\n",
        "print(text1.lower()) # text1을 모두 소문자로 변경 → 기존에 모두 소문자여서 변환 X\n",
        "print(text2.lower()) # text1을 모두 소문자로 변경 → Python의 'P', Good의 'G'가 소문자로 변환\n",
        "\n",
        "print(text1.upper()) # text1을 모두 대문자로 변경 → 기존에 모두 소문자여서 모든 글자를 대문자로 변환\n",
        "print(text2.upper()) # text1을 모두 소문자로 변경 → Python의 'P', Good의 'G'를 제외한 모든 글자를 대문자로 변환"
      ],
      "metadata": {
        "colab": {
          "base_uri": "https://localhost:8080/"
        },
        "id": "UECSc00rvZOg",
        "outputId": "c224991c-75cc-4cb4-9cc6-8d1b9fab19a0"
      },
      "execution_count": 61,
      "outputs": [
        {
          "output_type": "stream",
          "name": "stdout",
          "text": [
            "python is good\n",
            "python is good\n",
            "PYTHON IS GOOD\n",
            "PYTHON IS GOOD\n"
          ]
        }
      ]
    },
    {
      "cell_type": "code",
      "source": [
        "text = ' hi '\n",
        "\n",
        "print(text)\n",
        "print(text.strip()) # text 변수 중 공백 제거 → 앞뒤 공백 모두 제거\n",
        "print(text.lstrip()) # text 변수 중 공백 제거 → 왼쪽(앞) 공백 제거\n",
        "print(text.rstrip()) # text 변수 중 공백 제거 → 오른쪽(뒤) 공백 제거"
      ],
      "metadata": {
        "colab": {
          "base_uri": "https://localhost:8080/"
        },
        "id": "FNq6fMJSvuUV",
        "outputId": "f49dbfc6-688d-4e1b-8b4b-823c7333e6f5"
      },
      "execution_count": 9,
      "outputs": [
        {
          "output_type": "stream",
          "name": "stdout",
          "text": [
            " hi \n",
            "hi\n",
            "hi \n",
            " hi\n"
          ]
        }
      ]
    },
    {
      "cell_type": "code",
      "source": [
        "text = 'python is good'\n",
        "\n",
        "print(text.split()) # text 변수 중 공백을 기준으로 배열 자르기\n",
        "\n",
        "text1 = 'a, b, c, d e'\n",
        "print(text1.split(',')) # text 변수 중 ','를 기준으로 배열 자르기"
      ],
      "metadata": {
        "colab": {
          "base_uri": "https://localhost:8080/"
        },
        "id": "6RgPPETbwLQB",
        "outputId": "18ab927d-7362-451d-d4e1-223ea73d1f9c"
      },
      "execution_count": 10,
      "outputs": [
        {
          "output_type": "stream",
          "name": "stdout",
          "text": [
            "['python', 'is', 'good']\n",
            "['a', ' b', ' c', ' d e']\n"
          ]
        }
      ]
    },
    {
      "cell_type": "code",
      "source": [
        "text = 'python is good'\n",
        "\n",
        "print('원래 단어: ' + text + ' / 바뀐 단어: ' + text.replace('good', 'bad'))          # 변수(값).replace('기존 단어', '변경할 단어')를 이용해 'python is good'이라는 문장을 'python is bad'로 변경\n",
        "print('원래 단어: ' + text + ' / 바뀐 단어: ' + text.replace('python is', 'I am'))    # 변수(값).replace('기존 단어', '변경할 단어')를 이용해 'python is good'이라는 문장을 'I am good'으로 변경"
      ],
      "metadata": {
        "colab": {
          "base_uri": "https://localhost:8080/"
        },
        "id": "qyJAJu0ywc7j",
        "outputId": "91ee6da0-b6cc-4d08-95d0-caa77752ae5e"
      },
      "execution_count": 13,
      "outputs": [
        {
          "output_type": "stream",
          "name": "stdout",
          "text": [
            "원래 단어: python is good / 바뀐 단어: python is bad\n",
            "원래 단어: python is good / 바뀐 단어: I am good\n"
          ]
        }
      ]
    },
    {
      "cell_type": "code",
      "source": [
        "print('사과 10개가 있습니다')\n",
        "\n",
        "print('사과 %d개가 있습니다' %3)            # 지정 연산자 중 정수형 지정 연산자 → 문장 중 %d 부분에 3을 넣기 위해 사용 / 3 대신 변수 사용 가능\n",
        "\n",
        "print('제 이름은 %s입니다' %'조병준')       # 지정 연산자 중 문자열 지정 연산자 → 문장 중 %s 부분에 조병준을 넣기 위해 사용 / 조병준 대신 변수 사용 가능\n",
        "\n",
        "number = 5\n",
        "print('사과 %d개가 있습니다' %number)       # 지정 연산자 중 정수형 지정 연산자 → 문장 중 %d 부분에 5를 넣기 위해 변수 number에 정수 5를 저장해 사용\n",
        "\n",
        "fruit = '감귤'\n",
        "number = 3\n",
        "\n",
        "print('%s %d개가 있습니다' %(fruit,number))\n",
        "# 지정 연산자 중 정수형/문자열 지정 연산자 → 2개 이상의 지정 연산자를 사용하기 위해선 %(변수(값), 변수(값))안에 값을 지정\n",
        "# 문장 중 %d 부분에 3을 넣기 위해 변수 number에 정수 3를 저장해 사용 / 문장 중 %s 부분에 감귤을 넣기 위해 변수 fruit에 문자열 감귤을 저장해 사용"
      ],
      "metadata": {
        "colab": {
          "base_uri": "https://localhost:8080/"
        },
        "id": "aK-Nnd1Fw5nD",
        "outputId": "431dafd2-719e-43ee-c0ce-e670801a8103"
      },
      "execution_count": 18,
      "outputs": [
        {
          "output_type": "stream",
          "name": "stdout",
          "text": [
            "사과 10개가 있습니다\n",
            "사과 3개가 있습니다\n",
            "제 이름은 조병준입니다\n",
            "사과 5개가 있습니다\n",
            "감귤 3개가 있습니다\n"
          ]
        }
      ]
    },
    {
      "cell_type": "code",
      "source": [
        "text = 'python is good'\n",
        "\n",
        "print('{0:<20}'.format(text))         # text를 포함한 총 글자수 20 안에서 text를 왼쪽 정렬 / 남는 칸은 공백\n",
        "print('{0:>20}'.format(text))         # text를 포함한 총 글자수 20 안에서 text를 오른쪽 정렬 / 남는 칸은 공백\n",
        "print('{0:^20}'.format(text))         # text를 포함한 총 글자수 20 안에서 text를 가운데 정렬 / 남는 칸은 공백\n",
        "print('{0:=^20}'.format(text))        # text를 포함한 총 글자수 20 안에서 text를 가운데 정렬 / 남는 칸은 =로 대체\n",
        "\n",
        "pi = 3.141592\n",
        "print('{0:0.4f}'.format(pi))          # 변수 pi에 저장된 값을 실수형으로 변환하고 pi 포함 글자수 설정 없이 소수점 4자리까지 출력\n",
        "print('{0:10.4f}'.format(pi))          # 변수 pi에 저장된 값을 실수형으로 변환하고 pi 포함 글자수 10 안에서 소수점 4자리까지 출력 (오른쪽 정렬)\n",
        "print('%d.2f' %pi)                    # 변수 pi에 저장된 값을 실수형으로 변환하고 소수점 2자리까지 출력"
      ],
      "metadata": {
        "colab": {
          "base_uri": "https://localhost:8080/"
        },
        "id": "O6Zbqlva0VFW",
        "outputId": "f1ad2479-1dcb-48fb-a52c-456daab41002"
      },
      "execution_count": 42,
      "outputs": [
        {
          "output_type": "stream",
          "name": "stdout",
          "text": [
            "python is good      \n",
            "python is good      \n",
            "      python is good\n",
            "   python is good   \n",
            "===python is good===\n",
            "3.1416\n",
            "    3.1416\n",
            "3.2f\n"
          ]
        }
      ]
    },
    {
      "cell_type": "code",
      "source": [
        "name = '조병준'\n",
        "age = 25\n",
        "print(f'나의 이름은 {name}입니다. 나이는 {age}세입니다.') # 문자열 포맷팅을 위해 사용 / 문자열 앞에 f을 붙여서 사용 / 문자열 내 {변수}를 통해 변수 직접 사용 가능"
      ],
      "metadata": {
        "colab": {
          "base_uri": "https://localhost:8080/"
        },
        "id": "sMu8XaZn0mvp",
        "outputId": "892a18a1-43f3-40fd-f3aa-bc034201a929"
      },
      "execution_count": 20,
      "outputs": [
        {
          "output_type": "stream",
          "name": "stdout",
          "text": [
            "나의 이름은 조병준입니다. 나이는 25세입니다.\n"
          ]
        }
      ]
    },
    {
      "cell_type": "code",
      "source": [
        "a = input('내용을 입력해주세요: ');                       # 문자열을 입력받기 위해 사용 / input 내의 문자열이나 변수를 출력하고 사용자에게 문자열 입력값을 받아서 변수 a에 저장\n",
        "b = int(input('정수를 입력해주세요: '))                   # 정수값을 입력받기 위해 사용 / input 내의 문자열이나 변수를 출력하고 사용자에게 문자열 입력값을 받아서 정수형으로 변환해 변수 b에 저장\n",
        "c = float(input('실수를 입력해주세요: '))                 # 실수값을 입력받기 위해 사용 / input 내의 문자열이나 변수를 출력하고 사용자에게 문자열 입력값을 받아서 실수형으로 변환해 변수 c에 저장\n",
        "\n",
        "print(a)                                                  # 입력받은 변수 a의 값 출력\n",
        "print(b + c)                                              # 입력받은 변수 b와 c의 값을 더하여 출력 / 정수 + 실수인 경우 최종 결과는 추가적인 설정없이 실수형으로 설정"
      ],
      "metadata": {
        "colab": {
          "base_uri": "https://localhost:8080/"
        },
        "id": "0adPsKQW0xt1",
        "outputId": "57c35c0e-655f-49b9-dbae-f8733561fc14"
      },
      "execution_count": 43,
      "outputs": [
        {
          "output_type": "stream",
          "name": "stdout",
          "text": [
            "내용을 입력해주세요: aaa\n",
            "정수를 입력해주세요: 1\n",
            "실수를 입력해주세요: 2.4\n",
            "aaa\n",
            "3.4\n",
            "<class 'float'>\n"
          ]
        }
      ]
    },
    {
      "cell_type": "markdown",
      "source": [
        "# **2. 문제 풀이**\n",
        "\n",
        "- 입력 값 제곱값 출력\n",
        "\n",
        "- 문자열 인덱싱 및 슬라이싱\n",
        "\n",
        "- 전화번호 형식 변경\n",
        "\n",
        "- 입력받은 문자열의 첫번째 글자 대문자 변환\n",
        "\n",
        "- 문자열의 값 분할"
      ],
      "metadata": {
        "id": "5Qhx7izhX3Vi"
      }
    },
    {
      "cell_type": "markdown",
      "source": [
        "# **문제 1. 사용자에게 입력받은 수의 제곱을 계산하여 출력하는 코드를 작성하시오**\n",
        "\n",
        "- 값 입력시 제곱을 출력"
      ],
      "metadata": {
        "id": "4mqrFGQndmir"
      }
    },
    {
      "cell_type": "code",
      "source": [
        "number = int(input('정수를 입력하세요: '))\n",
        "print(f'입력하신 정수의 제곱값은: {number ** 2}입니다')"
      ],
      "metadata": {
        "colab": {
          "base_uri": "https://localhost:8080/"
        },
        "id": "JAqaPbQ-SuhL",
        "outputId": "b2f00be3-1ac2-4059-e2da-f1796e4688d6"
      },
      "execution_count": 70,
      "outputs": [
        {
          "output_type": "stream",
          "name": "stdout",
          "text": [
            "정수를 입력하세요: 5\n",
            "입력하신 정수의 제곱값은: 25입니다\n"
          ]
        }
      ]
    },
    {
      "cell_type": "markdown",
      "source": [
        "# **문제 2. 문자열 인덱싱 또는 슬라이싱을 사용하여 년 월 일 날씨를 출력하시오**\n",
        "\n",
        "- '20230601sunny'를 다음과 같은 형식으로 변경\n",
        "\n",
        "- year = '2023'\n",
        "- month = '06'\n",
        "- day = '01'\n",
        "- weather = 'sunny'"
      ],
      "metadata": {
        "id": "JLzGyet-dx1i"
      }
    },
    {
      "cell_type": "code",
      "source": [
        "text = '20230601sunny'\n",
        "\n",
        "year = text[:4]\n",
        "print('년: ' + year)\n",
        "month = text[4:6]\n",
        "print('월: ' + month)\n",
        "day = text[6:8]\n",
        "print('일: ' + day)\n",
        "weather = text[8:]\n",
        "print('날씨: ' + weather)\n",
        "\n",
        "print(year, month, day, weather)"
      ],
      "metadata": {
        "colab": {
          "base_uri": "https://localhost:8080/"
        },
        "id": "AJxX41NwSM97",
        "outputId": "16a51f1b-8fa5-4cfa-b484-712913397ce6"
      },
      "execution_count": 106,
      "outputs": [
        {
          "output_type": "stream",
          "name": "stdout",
          "text": [
            "년: 2023\n",
            "월: 06\n",
            "일: 01\n",
            "날씨: sunny\n",
            "2023 06 01 sunny\n"
          ]
        }
      ]
    },
    {
      "cell_type": "markdown",
      "source": [
        "# **문제 3. 전화번호 형식 변경**\n",
        "\n",
        "- 010-1234-5678의 형식으로 저장된 전화번호를 '-'를 제거해 01012345678의 형식으로 바꾸어서 저장"
      ],
      "metadata": {
        "id": "q6XmqPqaeHJK"
      }
    },
    {
      "cell_type": "code",
      "source": [
        "phone = input('전화번호를 입력하세요: ')\n",
        "print('변경된 전화번호: ' + phone.replace('-', ''))"
      ],
      "metadata": {
        "colab": {
          "base_uri": "https://localhost:8080/"
        },
        "id": "Sb-Tl6bfRN_t",
        "outputId": "d4c589ee-d40f-43a9-d7be-d4d4ceb9e99d"
      },
      "execution_count": 105,
      "outputs": [
        {
          "output_type": "stream",
          "name": "stdout",
          "text": [
            "전화번호를 입력하세요: 010-3537-2370\n",
            "변경된 전화번호: 01035372370\n"
          ]
        }
      ]
    },
    {
      "cell_type": "markdown",
      "source": [
        "# **문제 4. 사용자에게 영어로된 문자열을 입력받고, 첫 문자만 대문자로 변경하시오**\n",
        "\n",
        "- 예시: i am a boy → I am a boy"
      ],
      "metadata": {
        "id": "zde-evMCeNhq"
      }
    },
    {
      "cell_type": "code",
      "source": [
        "text = input('영어로된 문자열을 입력하세요: ')\n",
        "print('첫 문자를 대문자로 변경한 문자열: ' + text.capitalize())"
      ],
      "metadata": {
        "colab": {
          "base_uri": "https://localhost:8080/"
        },
        "id": "unlMz-wGR3cw",
        "outputId": "73690516-53ce-49fe-96ae-0b498a97aa89"
      },
      "execution_count": 107,
      "outputs": [
        {
          "output_type": "stream",
          "name": "stdout",
          "text": [
            "영어로된 문자열을 입력하세요: python is good\n",
            "첫 문자를 대문자로 변경한 문자열: Python is good\n"
          ]
        }
      ]
    },
    {
      "cell_type": "markdown",
      "source": [
        "# **문제 5. 카카오톡에 대한 정보는 다음과 같이 저장된다. 다음 문장을 날짜, 시간, 이름, 내용별로 분할**\n",
        "\n",
        "- 예시문장 '2023년 1월 2일 오후 9:52, 조병준: 일단'"
      ],
      "metadata": {
        "id": "xlc5Wu8AeWZS"
      }
    },
    {
      "cell_type": "code",
      "source": [
        "text = '2023년 1월 2일 오후 9:52, 조병준: 일단'\n",
        "\n",
        "# 쉼표와 콜론을 기준으로 문자열 분할\n",
        "date_time, name_content = text.split(', ')\n",
        "name, content = name_content.split(': ')\n",
        "\n",
        "# 날짜와 시간 분할\n",
        "date, time = date_time.split(' 오후 ')\n",
        "\n",
        "print(f\"날짜: {date}\")\n",
        "print(f\"시간: {time}\")\n",
        "print(f\"이름: {name}\")\n",
        "print(f\"내용: {content}\")"
      ],
      "metadata": {
        "colab": {
          "base_uri": "https://localhost:8080/"
        },
        "id": "TEq2AzRtTiF9",
        "outputId": "49fea745-dc03-40ea-9742-20731e0aebf3"
      },
      "execution_count": 110,
      "outputs": [
        {
          "output_type": "stream",
          "name": "stdout",
          "text": [
            "날짜: 2023년 1월 2일\n",
            "시간: 9:52\n",
            "이름: 조병준\n",
            "내용: 일단\n"
          ]
        }
      ]
    }
  ]
}