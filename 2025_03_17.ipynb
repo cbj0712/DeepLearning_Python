{
  "nbformat": 4,
  "nbformat_minor": 0,
  "metadata": {
    "colab": {
      "provenance": []
    },
    "kernelspec": {
      "name": "python3",
      "display_name": "Python 3"
    },
    "language_info": {
      "name": "python"
    }
  },
  "cells": [
    {
      "cell_type": "code",
      "source": [
        "# 변수 사용\n",
        "\n",
        "print('안녕하세요') # print() 안에 ''를 통해 문자열을 넣어 사용, 정수, 실수 등은 숫자를 입력해 출력\n",
        "\n",
        "a = 10        # 변수 a에 10의 값을 저장 → 정수인 10을 저장했기 때문에 정수형 변수\n",
        "print(a)\n",
        "\n",
        "a = 20        # 변수 a에 기존 저장된 10이라는 값을 20으로 변경\n",
        "print(a)\n",
        "\n",
        "a = 30        # 변수 a에 기존 저장된 20이라는 값을 30으로 변경\n",
        "print(a)"
      ],
      "metadata": {
        "colab": {
          "base_uri": "https://localhost:8080/"
        },
        "id": "vgTBeT9L2lmC",
        "outputId": "ff6c3f1e-41a1-4827-abd7-f9ae7ae6b042"
      },
      "execution_count": 23,
      "outputs": [
        {
          "output_type": "stream",
          "name": "stdout",
          "text": [
            "안녕하세요\n",
            "10\n",
            "20\n",
            "30\n"
          ]
        }
      ]
    },
    {
      "cell_type": "code",
      "source": [
        "# type() → 변수 또는 값의 type을 알려주는 함수\n",
        "\n",
        "a = 10        # 정수\n",
        "b = 10.123    # 실수\n",
        "c = 0o111     # 8진수\n",
        "d = 0x8BF     # 16진수\n",
        "\n",
        "print(a)\n",
        "print(b)\n",
        "print(c)\n",
        "print(d)\n",
        "print('')\n",
        "\n",
        "print(type(a)) # int → 정수형\n",
        "print(type(b)) # float → 실수형\n",
        "print(type(c)) # int → 정수형 / 8진수는 정수를 표현하는 다른 방식이기 때문\n",
        "print(type(d)) # int → 정수형 / 16진수는 정수를 표현하는 다른 방식이기 때문"
      ],
      "metadata": {
        "colab": {
          "base_uri": "https://localhost:8080/"
        },
        "id": "o4kMBARu3hmT",
        "outputId": "8cb17196-5901-41d0-c2fc-a36c45e7e361"
      },
      "execution_count": 25,
      "outputs": [
        {
          "output_type": "stream",
          "name": "stdout",
          "text": [
            "10\n",
            "10.123\n",
            "73\n",
            "2239\n",
            "\n",
            "<class 'int'>\n",
            "<class 'float'>\n",
            "<class 'int'>\n",
            "<class 'int'>\n"
          ]
        }
      ]
    },
    {
      "cell_type": "code",
      "source": [
        "# 사칙연산\n",
        "\n",
        "a = 4\n",
        "b = 3\n",
        "\n",
        "print(a)    # 변수 a의 값\n",
        "print(b)    # 변수 b의 값\n",
        "print('')\n",
        "\n",
        "print(a+b)  # 더하기(+): 변수 a ＋ b의 값 → 4 (변수 a의 값) ＋ 3 (변수 b의 값) = 7 (출력값)\n",
        "print(a*b)  # 곱하기(*): 변수 a × b의 값 → 4 (변수 a의 값) × 3 (변수 b의 값) = 12 (출력값)\n",
        "print(a-b)  # 빼기(-): 변수 a － b의 값 → 4 (변수 a의 값) － 3 (변수 b의 값) = 1 (출력값)\n",
        "print(a/b)  # 나누기(/): 변수 a ÷ b의 값 → 4 (변수 a의 값) ÷ 3 (변수 b의 값) = 1.33333333... (출력값)\n",
        "print(a**b) # 제곱(**): 변수 a 제곱 b의 값 → 4 (변수 a의 값)의 3 (변수 b의 값)제곱 = 64 (출력값)\n",
        "print(7%3)  # 나눈 몫(%): 변수 a ÷ b의 값 중 나머지를 제외한 값 → 4 (변수 a의 값) ÷ 3 (변수 b의 값) = 1(.3333[생략]) (출력값)"
      ],
      "metadata": {
        "colab": {
          "base_uri": "https://localhost:8080/"
        },
        "id": "uJY1ihJQ4XC0",
        "outputId": "5fc3125b-daed-4c64-c82d-69d95583ece4"
      },
      "execution_count": 28,
      "outputs": [
        {
          "output_type": "stream",
          "name": "stdout",
          "text": [
            "4\n",
            "3\n",
            "\n",
            "7\n",
            "12\n",
            "1\n",
            "1.3333333333333333\n",
            "64\n",
            "1\n"
          ]
        }
      ]
    },
    {
      "cell_type": "code",
      "source": [
        "'문장을 적으면 안되요.'\n",
        "\n",
        "'''\n",
        "이 부분도 주석입니다\n",
        "여러 줄을 주석으로 구성하고 싶을 때에는\n",
        "문자열을 사용하면 됩니다\n",
        "'''\n",
        "\n",
        "# 문자열 안에 \"\"를 사용하기 위해서 ''로 문자열 구성\n",
        "\n",
        "a = 'A: 누구는 말했다 \"최선을 다해라\"\\n'\n",
        "print(a)\n",
        "\n",
        "# 문자열 안에 ''를 사용하기 위해서 \"\"로 문자열 구성\n",
        "b = \"B: 누구는 말했다 '최선을 다해라'\\n\"\n",
        "print(b)\n",
        "\n",
        "# '''로 묶으면 띄어쓰기, 줄 바꿈까지 같이 출력이 가능\n",
        "\n",
        "c = '''안녕\n",
        "            하세\n",
        "            요\n",
        "'''\n",
        "print(c)"
      ],
      "metadata": {
        "colab": {
          "base_uri": "https://localhost:8080/"
        },
        "id": "t0DDMJKQ9sel",
        "outputId": "b19ab04f-6e44-4caa-abb5-0f5edb9dc8bd"
      },
      "execution_count": 47,
      "outputs": [
        {
          "output_type": "stream",
          "name": "stdout",
          "text": [
            "A: 누구는 말했다 \"최선을 다해라\"\n",
            "\n",
            "B: 누구는 말했다 '최선을 다해라'\n",
            "\n",
            "안녕\n",
            "            하세\n",
            "            요\n",
            "\n"
          ]
        }
      ]
    },
    {
      "cell_type": "code",
      "source": [
        "a = '누구는 말했다 \\n최선을 다하라' # \\n은 문자열 내 엔터(줄바꿈)를 위해 사용\n",
        "print(a)\n",
        "\n",
        "b = '115\\t23\\t2516'                 # \\t는 문자열 내 탭(간격 띄우기)을 위해 사용 → 결과값: 115  23  2516\n",
        "c = '1\\t31255\\t456'                 # \\t는 문자열 내 탭(간격 띄우기)을 위해 사용 → 결과값: 1  31255 456\n",
        "\n",
        "print(b)\n",
        "print(c)"
      ],
      "metadata": {
        "colab": {
          "base_uri": "https://localhost:8080/"
        },
        "id": "H2ACpkf3-iFV",
        "outputId": "4eadea17-b3d7-4fcd-a75e-d64b1fe2cf2a"
      },
      "execution_count": 48,
      "outputs": [
        {
          "output_type": "stream",
          "name": "stdout",
          "text": [
            "누구는 말했다 \n",
            " 최선을 다하라\n",
            "115\t23\t2516\n"
          ]
        }
      ]
    },
    {
      "cell_type": "code",
      "source": [
        "a = 'python'\n",
        "b = ' is good'\n",
        "\n",
        "text = a + b      # 2개 이상의 문자열을 하나의 문자열로 연결하기 위해 사용 / 문자열 + 문자열, 정수 + 정수, 실수 + 실수, 정수 + 실수만 사용 가능 / 문자열 + 정수 or 실수는 에러 발생\n",
        "print(text)"
      ],
      "metadata": {
        "colab": {
          "base_uri": "https://localhost:8080/"
        },
        "id": "OldxPmTD_EAH",
        "outputId": "4b04c4c9-1d5a-4646-ecd4-2e64f656dff0"
      },
      "execution_count": 52,
      "outputs": [
        {
          "output_type": "stream",
          "name": "stdout",
          "text": [
            "python is good\n"
          ]
        }
      ]
    },
    {
      "cell_type": "code",
      "source": [
        "text = 'python good\\n'\n",
        "print(text * 2)           # 문자열에 곱셈(*)을 주면 설정한 숫자만큼 반복해서 실행\n",
        "\n",
        "print('=' * 30)\n",
        "print('Python')\n",
        "print('=' * 30)"
      ],
      "metadata": {
        "colab": {
          "base_uri": "https://localhost:8080/"
        },
        "id": "Vl_Mk9eO_cGn",
        "outputId": "ceaaea66-d6b3-42bf-bd3d-1fc8ca7d8f1d"
      },
      "execution_count": 54,
      "outputs": [
        {
          "output_type": "stream",
          "name": "stdout",
          "text": [
            "python good\n",
            "python good\n",
            "\n",
            "==============================\n",
            "Python\n",
            "==============================\n"
          ]
        }
      ]
    },
    {
      "cell_type": "code",
      "source": [
        "text = 'python is good'\n",
        "\n",
        "print(text[3])     # 문자열에서 지정한 index 번호의 글자를 출력 / 시작은 0부터이기 때문에 4번째 글자인 h 출력"
      ],
      "metadata": {
        "colab": {
          "base_uri": "https://localhost:8080/"
        },
        "id": "9_IxZCTg_2ey",
        "outputId": "7bde6115-8369-454e-cf89-243e082b53f8"
      },
      "execution_count": 56,
      "outputs": [
        {
          "output_type": "stream",
          "name": "stdout",
          "text": [
            "h\n"
          ]
        }
      ]
    },
    {
      "cell_type": "code",
      "source": [
        "text = 'I love python'\n",
        "\n",
        "print(text)\n",
        "print(len(text))    # 변수 text의 길이를 출력 / 띄어쓰기까지 포함해 출력 / 문자열만 가능하고 정수형, 실수형은 불가"
      ],
      "metadata": {
        "colab": {
          "base_uri": "https://localhost:8080/"
        },
        "id": "2OBM014aAFFo",
        "outputId": "5f981b65-eb25-4245-9218-6a7861e7802e"
      },
      "execution_count": 60,
      "outputs": [
        {
          "output_type": "stream",
          "name": "stdout",
          "text": [
            "I love python\n",
            "13\n"
          ]
        }
      ]
    },
    {
      "cell_type": "code",
      "execution_count": 4,
      "metadata": {
        "colab": {
          "base_uri": "https://localhost:8080/"
        },
        "id": "dYQA-hGcu46p",
        "outputId": "f2541975-4e64-491c-d30b-6c2c5de8f445"
      },
      "outputs": [
        {
          "output_type": "stream",
          "name": "stdout",
          "text": [
            "3\n",
            "0\n"
          ]
        }
      ],
      "source": [
        "text = 'python is good'\n",
        "\n",
        "print(text.count('o')) # text 변수 중 'o'의 개수 세기\n",
        "print(text.count('a')) # text 변수 중 'a'의 개수 세기"
      ]
    },
    {
      "cell_type": "code",
      "source": [
        "text = 'python is good'\n",
        "\n",
        "print(','.join(text)) # text 변수 의 모든 글자 사이에 ','을 넣어서 한 문장으로 만들기"
      ],
      "metadata": {
        "colab": {
          "base_uri": "https://localhost:8080/"
        },
        "id": "eI6HSdLrvMcz",
        "outputId": "4dd136ad-7150-408b-ec71-38c03badfbb7"
      },
      "execution_count": 5,
      "outputs": [
        {
          "output_type": "stream",
          "name": "stdout",
          "text": [
            "p.y.t.h.o.n. .i.s. .g.o.o.d\n"
          ]
        }
      ]
    },
    {
      "cell_type": "code",
      "source": [
        "text1 = 'python is good'\n",
        "text2 = 'Python is Good'\n",
        "\n",
        "print(text1.lower()) # text1을 모두 소문자로 변경 → 기존에 모두 소문자여서 변환 X\n",
        "print(text2.lower()) # text1을 모두 소문자로 변경 → Python의 'P', Good의 'G'가 소문자로 변환\n",
        "\n",
        "print(text1.upper()) # text1을 모두 대문자로 변경 → 기존에 모두 소문자여서 모든 글자를 대문자로 변환\n",
        "print(text2.upper()) # text1을 모두 소문자로 변경 → Python의 'P', Good의 'G'를 제외한 모든 글자를 대문자로 변환"
      ],
      "metadata": {
        "colab": {
          "base_uri": "https://localhost:8080/"
        },
        "id": "UECSc00rvZOg",
        "outputId": "c224991c-75cc-4cb4-9cc6-8d1b9fab19a0"
      },
      "execution_count": 61,
      "outputs": [
        {
          "output_type": "stream",
          "name": "stdout",
          "text": [
            "python is good\n",
            "python is good\n",
            "PYTHON IS GOOD\n",
            "PYTHON IS GOOD\n"
          ]
        }
      ]
    },
    {
      "cell_type": "code",
      "source": [
        "text = ' hi '\n",
        "\n",
        "print(text)\n",
        "print(text.strip()) # text 변수 중 공백 제거 → 앞뒤 공백 모두 제거\n",
        "print(text.lstrip()) # text 변수 중 공백 제거 → 왼쪽(앞) 공백 제거\n",
        "print(text.rstrip()) # text 변수 중 공백 제거 → 오른쪽(뒤) 공백 제거"
      ],
      "metadata": {
        "colab": {
          "base_uri": "https://localhost:8080/"
        },
        "id": "FNq6fMJSvuUV",
        "outputId": "f49dbfc6-688d-4e1b-8b4b-823c7333e6f5"
      },
      "execution_count": 9,
      "outputs": [
        {
          "output_type": "stream",
          "name": "stdout",
          "text": [
            " hi \n",
            "hi\n",
            "hi \n",
            " hi\n"
          ]
        }
      ]
    },
    {
      "cell_type": "code",
      "source": [
        "text = 'python is good'\n",
        "\n",
        "print(text.split()) # text 변수 중 공백을 기준으로 배열 자르기\n",
        "\n",
        "text1 = 'a, b, c, d e'\n",
        "print(text1.split(',')) # text 변수 중 ','를 기준으로 배열 자르기"
      ],
      "metadata": {
        "colab": {
          "base_uri": "https://localhost:8080/"
        },
        "id": "6RgPPETbwLQB",
        "outputId": "18ab927d-7362-451d-d4e1-223ea73d1f9c"
      },
      "execution_count": 10,
      "outputs": [
        {
          "output_type": "stream",
          "name": "stdout",
          "text": [
            "['python', 'is', 'good']\n",
            "['a', ' b', ' c', ' d e']\n"
          ]
        }
      ]
    },
    {
      "cell_type": "code",
      "source": [
        "text = 'python is good'\n",
        "\n",
        "print('원래 단어: ' + text + ' / 바뀐 단어: ' + text.replace('good', 'bad'))          # 변수(값).replace('기존 단어', '변경할 단어')를 이용해 'python is good'이라는 문장을 'python is bad'로 변경\n",
        "print('원래 단어: ' + text + ' / 바뀐 단어: ' + text.replace('python is', 'I am'))    # 변수(값).replace('기존 단어', '변경할 단어')를 이용해 'python is good'이라는 문장을 'I am good'으로 변경"
      ],
      "metadata": {
        "colab": {
          "base_uri": "https://localhost:8080/"
        },
        "id": "qyJAJu0ywc7j",
        "outputId": "91ee6da0-b6cc-4d08-95d0-caa77752ae5e"
      },
      "execution_count": 13,
      "outputs": [
        {
          "output_type": "stream",
          "name": "stdout",
          "text": [
            "원래 단어: python is good / 바뀐 단어: python is bad\n",
            "원래 단어: python is good / 바뀐 단어: I am good\n"
          ]
        }
      ]
    },
    {
      "cell_type": "code",
      "source": [
        "print('사과 10개가 있습니다')\n",
        "\n",
        "print('사과 %d개가 있습니다' %3)            # 지정 연산자 중 정수형 지정 연산자 → 문장 중 %d 부분에 3을 넣기 위해 사용 / 3 대신 변수 사용 가능\n",
        "\n",
        "print('제 이름은 %s입니다' %'조병준')       # 지정 연산자 중 문자열 지정 연산자 → 문장 중 %s 부분에 조병준을 넣기 위해 사용 / 조병준 대신 변수 사용 가능\n",
        "\n",
        "number = 5\n",
        "print('사과 %d개가 있습니다' %number)       # 지정 연산자 중 정수형 지정 연산자 → 문장 중 %d 부분에 5를 넣기 위해 변수 number에 정수 5를 저장해 사용\n",
        "\n",
        "fruit = '감귤'\n",
        "number = 3\n",
        "\n",
        "print('%s %d개가 있습니다' %(fruit,number))\n",
        "# 지정 연산자 중 정수형/문자열 지정 연산자 → 2개 이상의 지정 연산자를 사용하기 위해선 %(변수(값), 변수(값))안에 값을 지정\n",
        "# 문장 중 %d 부분에 3을 넣기 위해 변수 number에 정수 3를 저장해 사용 / 문장 중 %s 부분에 감귤을 넣기 위해 변수 fruit에 문자열 감귤을 저장해 사용"
      ],
      "metadata": {
        "colab": {
          "base_uri": "https://localhost:8080/"
        },
        "id": "aK-Nnd1Fw5nD",
        "outputId": "431dafd2-719e-43ee-c0ce-e670801a8103"
      },
      "execution_count": 18,
      "outputs": [
        {
          "output_type": "stream",
          "name": "stdout",
          "text": [
            "사과 10개가 있습니다\n",
            "사과 3개가 있습니다\n",
            "제 이름은 조병준입니다\n",
            "사과 5개가 있습니다\n",
            "감귤 3개가 있습니다\n"
          ]
        }
      ]
    },
    {
      "cell_type": "code",
      "source": [
        "text = 'python is good'\n",
        "\n",
        "print('{0:<20}'.format(text))         # text를 포함한 총 글자수 20 안에서 text를 왼쪽 정렬 / 남는 칸은 공백\n",
        "print('{0:>20}'.format(text))         # text를 포함한 총 글자수 20 안에서 text를 오른쪽 정렬 / 남는 칸은 공백\n",
        "print('{0:^20}'.format(text))         # text를 포함한 총 글자수 20 안에서 text를 가운데 정렬 / 남는 칸은 공백\n",
        "print('{0:=^20}'.format(text))        # text를 포함한 총 글자수 20 안에서 text를 가운데 정렬 / 남는 칸은 =로 대체\n",
        "\n",
        "pi = 3.141592\n",
        "print('{0:0.4f}'.format(pi))          # 변수 pi에 저장된 값을 실수형으로 변환하고 pi 포함 글자수 설정 없이 소수점 4자리까지 출력\n",
        "print('{0:10.4f}'.format(pi))          # 변수 pi에 저장된 값을 실수형으로 변환하고 pi 포함 글자수 10 안에서 소수점 4자리까지 출력 (오른쪽 정렬)\n",
        "print('%d.2f' %pi)                    # 변수 pi에 저장된 값을 실수형으로 변환하고 소수점 2자리까지 출력"
      ],
      "metadata": {
        "colab": {
          "base_uri": "https://localhost:8080/"
        },
        "id": "O6Zbqlva0VFW",
        "outputId": "f1ad2479-1dcb-48fb-a52c-456daab41002"
      },
      "execution_count": 42,
      "outputs": [
        {
          "output_type": "stream",
          "name": "stdout",
          "text": [
            "python is good      \n",
            "python is good      \n",
            "      python is good\n",
            "   python is good   \n",
            "===python is good===\n",
            "3.1416\n",
            "    3.1416\n",
            "3.2f\n"
          ]
        }
      ]
    },
    {
      "cell_type": "code",
      "source": [
        "name = '조병준'\n",
        "age = 25\n",
        "print(f'나의 이름은 {name}입니다. 나이는 {age}세입니다.') # 문자열 포맷팅을 위해 사용 / 문자열 앞에 f을 붙여서 사용 / 문자열 내 {변수}를 통해 변수 직접 사용 가능"
      ],
      "metadata": {
        "colab": {
          "base_uri": "https://localhost:8080/"
        },
        "id": "sMu8XaZn0mvp",
        "outputId": "892a18a1-43f3-40fd-f3aa-bc034201a929"
      },
      "execution_count": 20,
      "outputs": [
        {
          "output_type": "stream",
          "name": "stdout",
          "text": [
            "나의 이름은 조병준입니다. 나이는 25세입니다.\n"
          ]
        }
      ]
    },
    {
      "cell_type": "code",
      "source": [
        "a = input('내용을 입력해주세요: ');                       # 문자열을 입력받기 위해 사용 / input 내의 문자열이나 변수를 출력하고 사용자에게 문자열 입력값을 받아서 변수 a에 저장\n",
        "b = int(input('정수를 입력해주세요: '))                   # 정수값을 입력받기 위해 사용 / input 내의 문자열이나 변수를 출력하고 사용자에게 문자열 입력값을 받아서 정수형으로 변환해 변수 b에 저장\n",
        "c = float(input('실수를 입력해주세요: '))                 # 실수값을 입력받기 위해 사용 / input 내의 문자열이나 변수를 출력하고 사용자에게 문자열 입력값을 받아서 실수형으로 변환해 변수 c에 저장\n",
        "\n",
        "print(a)                                                  # 입력받은 변수 a의 값 출력\n",
        "print(b + c)                                              # 입력받은 변수 b와 c의 값을 더하여 출력 / 정수 + 실수인 경우 최종 결과는 추가적인 설정없이 실수형으로 설정"
      ],
      "metadata": {
        "colab": {
          "base_uri": "https://localhost:8080/"
        },
        "id": "0adPsKQW0xt1",
        "outputId": "57c35c0e-655f-49b9-dbae-f8733561fc14"
      },
      "execution_count": 43,
      "outputs": [
        {
          "output_type": "stream",
          "name": "stdout",
          "text": [
            "내용을 입력해주세요: aaa\n",
            "정수를 입력해주세요: 1\n",
            "실수를 입력해주세요: 2.4\n",
            "aaa\n",
            "3.4\n",
            "<class 'float'>\n"
          ]
        }
      ]
    }
  ]
}