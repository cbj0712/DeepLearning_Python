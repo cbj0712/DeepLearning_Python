{
  "nbformat": 4,
  "nbformat_minor": 0,
  "metadata": {
    "colab": {
      "provenance": [],
      "collapsed_sections": [
        "z9bEyJ3XoL34",
        "BEOHmo8hqMMy",
        "M9n0_LeArZ0h",
        "I84bnbOHsQIB",
        "NIpzTc7Zs2NS",
        "EUvILeFJtVjK",
        "ZJ1AAYIyzs-L",
        "EtygjpFHzykS",
        "E91_eTaJFF-_",
        "BMEUAUnr0URj",
        "TzuflCssEA6_",
        "ufrxQg1k0-Y0",
        "FP5indE4Dtz-",
        "R2tix-ah1iXL",
        "iIaWCVzEDVbO",
        "Lfm8gVIq2KCL",
        "wj36SfPD22cj",
        "iAZn9zvwDEUW",
        "ukr0viTB4MwM",
        "jy-01dF45ZRt",
        "4P15xKi-7Jvd",
        "evdk0CTU7wE8",
        "xPU3CcV19OFV",
        "OobIcDvD_B6d",
        "_5EbgZzpG_WH"
      ]
    },
    "kernelspec": {
      "name": "python3",
      "display_name": "Python 3"
    },
    "language_info": {
      "name": "python"
    }
  },
  "cells": [
    {
      "cell_type": "markdown",
      "source": [
        "# **함수 (function)**\n",
        "\n",
        "- 독립적으로 정의되어 호출될 수 있는 코드 블록\n",
        "\n",
        "- 이미 정의된 내장함수 사용 가능\n",
        "\n",
        "- def 키워드를 사용하여 정의\n",
        "\n",
        "- 함수를 호출하면 함수 내부의 코드가 실행\n",
        "\n",
        "- 함수는 '특정 작업'을 수행하는 코드의 묶음\n",
        "\n",
        "- 특정한 기능, 입력값을 가지고, '기능'에 맞는 출력값을 반환\n",
        "\n",
        "- 예시) 자판기 버튼을 누르면 음료가 나오는것처럼, 함수를 '호출하면' 결과 출력\n",
        "\n",
        "```\n",
        "def 함수 이름(매개 변수):\n",
        "  실행할 코드\n",
        "  return 반환값\n",
        "\n",
        "# 함수의 매개변수는 여러개 가능\n",
        "\n",
        "def 함수 이름(매개 변수 1, 매개 변수 2, 매개 변수 3, …):\n",
        "  실행할 코드\n",
        "  return 반환값\n",
        "\n",
        "함수 이름(변수 1, 변수 2, 변수 3)\n",
        "# 함수이름과 변수를 넣어서 함수 호출\n",
        "```"
      ],
      "metadata": {
        "id": "zbwJgmGgkfuA"
      }
    },
    {
      "cell_type": "code",
      "source": [
        "# def = define: 함수를 정의하다 / 함수명: 소문자로 시작 / (): 매개변수를 받기 위해 사용, 매개변수는 괄호() 안에 작성\n",
        "def say_hello():\n",
        "  print('Hello!')\n",
        "\n",
        "say_hello()"
      ],
      "metadata": {
        "colab": {
          "base_uri": "https://localhost:8080/"
        },
        "id": "4pxVTxv_nNCo",
        "outputId": "47fd21c0-2997-488b-b2e8-1e95b3b8dcd6"
      },
      "execution_count": null,
      "outputs": [
        {
          "output_type": "stream",
          "name": "stdout",
          "text": [
            "Hello!\n"
          ]
        }
      ]
    },
    {
      "cell_type": "markdown",
      "source": [
        "## **매개 변수 (Parameter)**\n",
        "- 함수 정의 시 괄호 안에 적는 변수\n",
        "\n",
        "## **인자 (Argument)**\n",
        "- 함수를 호출할 때 괄호 아에 넣어주는 실제 값\n",
        "\n",
        "```\n",
        "# helloName 함수의 매개 변수(Parameter)는 name\n",
        "def helloName(name):\n",
        "  print(f'Hello, {name}!')\n",
        "\n",
        "helloName('조병준')\n",
        "# helloName을 호출할 때 인자 (Argument)는 '조병준'\n",
        "```"
      ],
      "metadata": {
        "id": "z9bEyJ3XoL34"
      }
    },
    {
      "cell_type": "code",
      "source": [
        "# name 매개 변수를 전달받아 'Hello, name'을 출력하는 greet 함수 정의\n",
        "def greet(name):\n",
        "  print(f'Hello, {name}!')\n",
        "\n",
        "# greet 함수 호출, 인자는 '조병준'으로 정의\n",
        "greet('조병준')"
      ],
      "metadata": {
        "colab": {
          "base_uri": "https://localhost:8080/"
        },
        "id": "5xrc7JpxojT4",
        "outputId": "0d6e9f9e-3bbc-4524-bc31-5d5dab473075"
      },
      "execution_count": null,
      "outputs": [
        {
          "output_type": "stream",
          "name": "stdout",
          "text": [
            "Hello, 조병준!\n"
          ]
        }
      ]
    },
    {
      "cell_type": "code",
      "source": [
        "# name 매개 변수를 전달받아 'Hello, name'을 출력하는 greet 함수 정의\n",
        "def greet(name):\n",
        "  print(f'Hello, {name}!')\n",
        "\n",
        "# input으로 name을 입력받아 greet 함수 호출, 인자는 입력받은 name으로 정의\n",
        "name = input('이름을 입력하세요: ')\n",
        "greet(name)"
      ],
      "metadata": {
        "colab": {
          "base_uri": "https://localhost:8080/"
        },
        "id": "E9hmNOXdpLTx",
        "outputId": "c3b98012-cd32-4631-f618-5694b9a880c6"
      },
      "execution_count": null,
      "outputs": [
        {
          "output_type": "stream",
          "name": "stdout",
          "text": [
            "이름을 입력하세요: 조병준\n",
            "Hello, 조병준!\n"
          ]
        }
      ]
    },
    {
      "cell_type": "code",
      "source": [
        "# a, b를 입력받아서 두 개의 변수를 더해서 출력하는 함수\n",
        "\n",
        "def sum_two():\n",
        "  a = int(input())\n",
        "  b = int(input())\n",
        "\n",
        "  print(f'{a} + {b} = {a + b}')\n",
        "\n",
        "sum_two()"
      ],
      "metadata": {
        "colab": {
          "base_uri": "https://localhost:8080/"
        },
        "id": "LT0G6wmApV6x",
        "outputId": "4a054cee-9ae1-49ee-d127-5b1b0b54d991"
      },
      "execution_count": 12,
      "outputs": [
        {
          "output_type": "stream",
          "name": "stdout",
          "text": [
            "5\n",
            "10\n",
            "5 + 10 = 15\n"
          ]
        }
      ]
    },
    {
      "cell_type": "markdown",
      "source": [
        "## **함수의 반환값 (return)**\n",
        "\n",
        "- 함수의 결과를 돌려주도록 만들기 가능\n",
        "\n",
        "- return을 쓰지 않으면 결과를 저장하거나 본문에서 활용 불가"
      ],
      "metadata": {
        "id": "BEOHmo8hqMMy"
      }
    },
    {
      "cell_type": "code",
      "source": [
        "# 예시: 두 수를 더해서 결과를 반환하는 함수\n",
        "def add(a, b):\n",
        "  # a + b의 결과 값을 함수 외부로 전달\n",
        "  return a + b\n",
        "\n",
        "# add 함수를 호출하여 반환값을 result 변수에 저장\n",
        "result = add(3, 4)\n",
        "print(result)"
      ],
      "metadata": {
        "colab": {
          "base_uri": "https://localhost:8080/"
        },
        "id": "f-Aenv1TqX5B",
        "outputId": "1fdd6233-9283-419a-e293-245c033150dd"
      },
      "execution_count": 13,
      "outputs": [
        {
          "output_type": "stream",
          "name": "stdout",
          "text": [
            "7\n"
          ]
        }
      ]
    },
    {
      "cell_type": "markdown",
      "source": [
        "## **함수에서 여러개의 값 반환**\n",
        "\n",
        "- 함수는 한번에 여러 개의 값 반환 가능 (튜플 형태로 반환)"
      ],
      "metadata": {
        "id": "M9n0_LeArZ0h"
      }
    },
    {
      "cell_type": "code",
      "source": [
        "# 예시: 이름과 나이를 반환하는 함수\n",
        "def get_person():\n",
        "  name = 'Bob'\n",
        "  age = 22\n",
        "\n",
        "  # 여러개의 자료를 쉼표(,)로 이으면, 튜플로 변경되서  하나의 값을 반환\n",
        "  return name, age\n",
        "\n",
        "# 함수의 반환값을 튜플로 받아 각각 사용 가능\n",
        "n, a = get_person()\n",
        "print(n, a) # Bob 22 출력"
      ],
      "metadata": {
        "colab": {
          "base_uri": "https://localhost:8080/"
        },
        "id": "XNnjWEj1rh8Z",
        "outputId": "3e4d7915-6192-4419-f0b8-6381febaf0d0"
      },
      "execution_count": 14,
      "outputs": [
        {
          "output_type": "stream",
          "name": "stdout",
          "text": [
            "Bob 22\n"
          ]
        }
      ]
    },
    {
      "cell_type": "markdown",
      "source": [
        "## **매개 변수 기본값**\n",
        "\n",
        "- 함수 매개 변수의 기본값 지정 가능\n",
        "\n",
        "- 값을 전달하지 않으면 기본값 사용"
      ],
      "metadata": {
        "id": "I84bnbOHsQIB"
      }
    },
    {
      "cell_type": "code",
      "source": [
        "# greet 함수의 매개 변수 name의 기본값을 'Guest'로 설정\n",
        "def greet(name='Guest'):\n",
        "  print(f'Hello, {name}!')\n",
        "\n",
        "# greet 함수 호출 시 인자를 설정하지 않았으므로 기본값인 Guest로 출력\n",
        "greet()\n",
        "# greet 함수 호출 시 인자를 설정하였으므로 기본값을 입력한 Charlie로 덮어씌어 호출\n",
        "greet('Charlie')"
      ],
      "metadata": {
        "colab": {
          "base_uri": "https://localhost:8080/"
        },
        "id": "4NjTtvIbsYqR",
        "outputId": "81298b1b-8e8d-4032-e4a2-d99823c1ba4a"
      },
      "execution_count": 15,
      "outputs": [
        {
          "output_type": "stream",
          "name": "stdout",
          "text": [
            "Hello, Guest!\n",
            "Hello, Charlie!\n"
          ]
        }
      ]
    },
    {
      "cell_type": "markdown",
      "source": [
        "## **키워드 인자**\n",
        "\n",
        "- 함수를 호출할 때 인자 이름을 써서 전달 가능\n",
        "\n",
        "- 순서가 바뀌어도 정확하게 매칭"
      ],
      "metadata": {
        "id": "NIpzTc7Zs2NS"
      }
    },
    {
      "cell_type": "code",
      "source": [
        "def introduce(name, age):\n",
        "  print(f'My name is {name}, and I am {age} years old')\n",
        "\n",
        "# 키워드 인자를 사용하지 않고, 매개변수의 순서대로 입력\n",
        "introduce('조병준', 25)\n",
        "\n",
        "# 매개변수의 순서대로가 아니라 키워드 인자를 이용해 사용\n",
        "introduce(age=20, name='홍길동')"
      ],
      "metadata": {
        "colab": {
          "base_uri": "https://localhost:8080/"
        },
        "id": "HWJONxaPs9JZ",
        "outputId": "20a70bb2-5c60-4dcd-ce50-feb7956d00c0"
      },
      "execution_count": 16,
      "outputs": [
        {
          "output_type": "stream",
          "name": "stdout",
          "text": [
            "My name is 조병준, and I am 25 years old\n",
            "My name is 홍길동, and I am 20 years old\n"
          ]
        }
      ]
    },
    {
      "cell_type": "markdown",
      "source": [
        "## **가변 인자 (args, *kwargs)**\n",
        "\n",
        "- 입력 값 개수가 정해져 있지 않을때 사용"
      ],
      "metadata": {
        "id": "EUvILeFJtVjK"
      }
    },
    {
      "cell_type": "code",
      "source": [
        "# *args: 개수 상관없이 입력 가능 → 코드를 범용적으로 구성 필요\n",
        "def show_args(*args):\n",
        "  for arg in args:\n",
        "    print(arg)\n",
        "\n",
        "show_args('apple', 'banana', 'cherry')\n",
        "\n",
        "def show_kargs(**kwargs):\n",
        "  for key, value in kwargs.items():\n",
        "    print(f'{key} : {value}')\n",
        "\n",
        "show_kargs(name='Eve', age=28)"
      ],
      "metadata": {
        "colab": {
          "base_uri": "https://localhost:8080/"
        },
        "id": "iGahkEh_tg5p",
        "outputId": "87525d56-cb62-4d01-df3b-c0eb4398b171"
      },
      "execution_count": 18,
      "outputs": [
        {
          "output_type": "stream",
          "name": "stdout",
          "text": [
            "apple\n",
            "banana\n",
            "cherry\n",
            "name : Eve\n",
            "age : 28\n"
          ]
        }
      ]
    },
    {
      "cell_type": "markdown",
      "source": [
        "## **메서드 (method)**\n",
        "\n",
        "- 특정 객체에서 호출\n",
        "\n",
        "- 그 객체의 상태를 변경하거나 동작을 수행\n",
        "\n",
        "- 특정 객체 (클래스 인스턴스)에 종속되어 사용\n",
        "\n",
        "- 객체 이름 뒤에 온점(.)을 붙이고 메서드의 이름을 써서 호출\n",
        "\n",
        "```\n",
        "list.append('a')\n",
        "# append는 list 객체의 종속 메서드 (method)\n",
        "```"
      ],
      "metadata": {
        "id": "RRKTXlh0l3_Y"
      }
    },
    {
      "cell_type": "markdown",
      "source": [
        "## **함수와 메서드 사용 장점**\n",
        "\n",
        "- 코드 재사용성을 높여 개발 시간을 단축\n",
        "\n",
        "- 코드의 가독성과 유지보수성을 향상\n",
        "\n",
        "- 코드의 복잡성을 줄이고 관리 용이\n",
        "\n",
        "## **함수와 메서드 사용 단점**\n",
        "\n",
        "- 함수와 메서드가 너무 많아지면 코드 관리 어려움 증가\n",
        "\n",
        "- 함수와 메서드의 오류는 전체 프로그램에 영향 가능\n",
        "\n",
        "- 복잡한 함수는 이해하기 어려워지고 디버깅 어려움 가능"
      ],
      "metadata": {
        "id": "e3rez5exmPbQ"
      }
    },
    {
      "cell_type": "markdown",
      "source": [
        "# **모듈 (module)**\n",
        "\n",
        "- 관련된 함수, 클래스, 변수 등을 정의하고 하나의 파일로 모아 놓은 것\n",
        "\n",
        "- 모듈은 일반적인 하나의 파이썬 파일 (.py)\n",
        "\n",
        "- 다른 파일에서 불러와 사용 가능\n",
        "\n",
        "- 코드를 기능별로 정리하고 재사용성 증가\n",
        "\n",
        "```\n",
        "# my_module.py\n",
        "\n",
        "def add(a, b):\n",
        "  return a + b\n",
        "```\n",
        "\n",
        "```\n",
        "# main.py\n",
        "\n",
        "import my_module\n",
        "\n",
        "print(my_module.add(1, 2)) # 3 출력\n",
        "\n",
        "# 아래와 같이 사용도 가능\n",
        "\n",
        "from my_module import add\n",
        "\n",
        "print(add(1, 2)) # 3 출력\n",
        "```"
      ],
      "metadata": {
        "id": "P_RxX9vHxwdd"
      }
    },
    {
      "cell_type": "markdown",
      "source": [
        "## **Random 모듈**\n",
        "\n",
        "- 무작위(랜덤) 값을 생성할 때 사용하는 파이썬 표준 라이브러리\n",
        "\n",
        "- 주로 난수 생성, 무작위 선택, 섞기(shuffling) 등에 사용\n",
        "\n",
        "- import random 명령어를 통해 사용"
      ],
      "metadata": {
        "id": "5S9qcCwRdddd"
      }
    },
    {
      "cell_type": "markdown",
      "source": [
        "**내장 함수**\n",
        "\n",
        "- random.random(): 0 ~ 1 사이 실수 반환\n",
        "\n",
        "- random.randint(a, b): a ~ b 사이 정수 반환\n",
        "\n",
        "- random.choice(seq): 시퀀스에서 하나 선택\n",
        "\n",
        "- random.sample(seq, k): 시퀀스에서 k개 샘플 추출 (중복 없음)\n",
        "\n",
        "- random.shuffle(list): 리스트 섞기\n",
        "\n",
        "- random.seed(value): 난수 고정, 동일한 규칙으로 무작위 수 생성"
      ],
      "metadata": {
        "id": "y3UWteDPdrYd"
      }
    },
    {
      "cell_type": "code",
      "source": [
        "import random\n",
        "\n",
        "print(random.random())\n",
        "print(random.random() * 1000)\n",
        "print(random.randint(0, 1000))\n",
        "\n",
        "list_a = [1, 2, 3, 4, 5, 6, 7, 8, 9, 0]\n",
        "print(random.choice(list_a))\n",
        "\n",
        "text = 'iasdsjkdfnqeyibaskdbasd'\n",
        "print(random.choice(text))\n",
        "\n",
        "print(random.sample(list_a, 3))\n",
        "print(random.sample(list_a, 5))\n",
        "\n",
        "print(list_a)\n",
        "random.shuffle(list_a)\n",
        "print(list_a)\n",
        "\n",
        "random.seed(42)\n",
        "print(random.randint(1, 100))"
      ],
      "metadata": {
        "colab": {
          "base_uri": "https://localhost:8080/"
        },
        "id": "BLzBYFv7eFoc",
        "outputId": "721de3af-3615-4600-e4be-d9a27baa260e"
      },
      "execution_count": 173,
      "outputs": [
        {
          "output_type": "stream",
          "name": "stdout",
          "text": [
            "0.11133106816568039\n",
            "741.5504997598329\n",
            "250\n",
            "4\n",
            "s\n",
            "[2, 9, 0]\n",
            "[0, 7, 1, 8, 9]\n",
            "[1, 2, 3, 4, 5, 6, 7, 8, 9, 0]\n",
            "[3, 6, 8, 9, 7, 2, 5, 1, 0, 4]\n",
            "82\n"
          ]
        }
      ]
    },
    {
      "cell_type": "markdown",
      "source": [
        "### **문제 1. 가위 바위 보 게임 만들기**\n",
        "\n",
        "요구사항\n",
        "\n",
        "- random 모듈을 사용하여 컴퓨터가 '가위', '바위', '보' 중 무작위로 하나를 선택하게 만든다.\n",
        "\n",
        "- 사용자로부터 '가위', '바위', '보' 중 하나를 입력받는다\n",
        "\n",
        "- 사용자가 입력한 값이 '가위', '바위', '보'가 아닐 경우 '올바른 문자를 입력해주세요'를 출력한다\n",
        "\n",
        "- 사용자와 컴퓨터의 선택을 비교하여 결과를 출력한다\n",
        "\n",
        "  - 사용자의 승리, 패배, 무승부 출력"
      ],
      "metadata": {
        "id": "ri78znCqfq3d"
      }
    },
    {
      "cell_type": "code",
      "source": [
        "import random\n",
        "\n",
        "def match_win_case(user, computer):\n",
        "  win_case = ['가위_보', '바위_가위', '보_바위']\n",
        "\n",
        "  if user + '_' + computer in win_case:\n",
        "    return '승리'\n",
        "  else:\n",
        "    return '패배'\n",
        "\n",
        "\n",
        "while True:\n",
        "  rsp = ['가위', '바위', '보']\n",
        "\n",
        "  user_choice = input('▶ 가위/바위/보 중 하나를 선택해주세요: ')\n",
        "\n",
        "  if user_choice not in rsp:\n",
        "    print('▶ 잘못된 입력입니다. 다시 입력해주세요\\n')\n",
        "  else:\n",
        "    random_choice = ''.join(random.sample(rsp, 1))\n",
        "    result = ''\n",
        "\n",
        "    if user_choice == random_choice:\n",
        "      result = '무승부'\n",
        "    else:\n",
        "      result = match_win_case(user_choice, random_choice)\n",
        "\n",
        "    print(f'▶ 사용자 선택 {user_choice} VS 컴퓨터 선택 {random_choice}이므로, {result}입니다')\n",
        "\n",
        "    break"
      ],
      "metadata": {
        "colab": {
          "base_uri": "https://localhost:8080/"
        },
        "id": "F82V44H6gDd1",
        "outputId": "50917c2a-db6f-4e44-fe18-1658b4f1e898"
      },
      "execution_count": 186,
      "outputs": [
        {
          "output_type": "stream",
          "name": "stdout",
          "text": [
            "▶ 가위/바위/보 중 하나를 선택해주세요: 주먹\n",
            "▶ 잘못된 입력입니다. 다시 입력해주세요\n",
            "\n",
            "▶ 가위/바위/보 중 하나를 선택해주세요: 주먹\n",
            "▶ 잘못된 입력입니다. 다시 입력해주세요\n",
            "\n",
            "▶ 가위/바위/보 중 하나를 선택해주세요: 보자기\n",
            "▶ 잘못된 입력입니다. 다시 입력해주세요\n",
            "\n",
            "▶ 가위/바위/보 중 하나를 선택해주세요: 보\n",
            "▶ 사용자 선택 보 VS 컴퓨터 선택 가위이므로, 패배입니다\n"
          ]
        }
      ]
    },
    {
      "cell_type": "markdown",
      "source": [
        "### **문제 2. 로또 번호 추첨기 만들기**\n",
        "\n",
        "요구사항\n",
        "\n",
        "- random 모듈을 사용하여 로또 번호를 생성한다\n",
        "\n",
        "- 로또 번호는 1부터 45 사이의 숫자 중 중복 없이 6개를 뽑는다\n",
        "\n",
        "- 6개의 번호를 오름차순으로 정렬하여 출력한다\n",
        "\n",
        "심화) random.sample() 사용 금지\n",
        "\n",
        "- 보너스 번호 1개를 추가로 뽑아 함께 출력한다\n",
        "  (보너스 번호도 1 ~ 45 범위, 기존 6개 번호와 중복 불가)\n",
        "- 번호를 뽑는 과정을 단계별로 출력하여, 뽑힐 때마다 '현재 뽑힌 번호: [번호 목록]' 형식으로 보여준다\n",
        "- 사용자가 로또 번호를 몇 세트 뽑을지 입력할 수 있게 한다"
      ],
      "metadata": {
        "id": "a4zjwYo-j_n3"
      }
    },
    {
      "cell_type": "code",
      "source": [
        "import random\n",
        "\n",
        "lotto_list = []\n",
        "\n",
        "while len(lotto_list) < 6:\n",
        "  random_number = random.randint(1, 45)\n",
        "\n",
        "  if random_number not in lotto_list:\n",
        "    lotto_list.append(random_number)\n",
        "\n",
        "lotto_list.sort()\n",
        "print(lotto_list)"
      ],
      "metadata": {
        "colab": {
          "base_uri": "https://localhost:8080/"
        },
        "id": "htP31KzqkOAu",
        "outputId": "8f3573fc-a676-41b0-a3e7-aeb57905af44"
      },
      "execution_count": 192,
      "outputs": [
        {
          "output_type": "stream",
          "name": "stdout",
          "text": [
            "[3, 7, 17, 23, 25, 39]\n"
          ]
        }
      ]
    },
    {
      "cell_type": "code",
      "source": [
        "import random\n",
        "\n",
        "def make_lotto_list(times):\n",
        "  for i in range(0, times, 1):\n",
        "    lotto_list = []\n",
        "    bonus_num = 0\n",
        "\n",
        "    print(f'\\n▶ {i+1}번째 세트 추첨을 진행합니다\\n')\n",
        "\n",
        "    while len(lotto_list) < 6:\n",
        "      random_number = random.randint(1, 45)\n",
        "\n",
        "      if random_number not in lotto_list:\n",
        "        lotto_list.append(random_number)\n",
        "        print(f'▶ 현재 뽑힌 번호: {random_number} / 번호 목록: {lotto_list}')\n",
        "\n",
        "    lotto_list.sort()\n",
        "\n",
        "    while True:\n",
        "      random_number = random.randint(1, 45)\n",
        "\n",
        "      if random_number not in lotto_list:\n",
        "        bonus_num = random_number\n",
        "        print(f'▶ 보너스 번호: {random_number} / 번호 목록: {lotto_list} + {bonus_num}')\n",
        "        break\n",
        "\n",
        "\n",
        "    result = ' '.join(map(str, lotto_list))\n",
        "    print(f'▶ 출력된 결과: {result} + {bonus_num}')\n",
        "\n",
        "times = int(input('▶ 원하는 세트 횟수를 입력하세요: '))\n",
        "make_lotto_list(times)"
      ],
      "metadata": {
        "colab": {
          "base_uri": "https://localhost:8080/"
        },
        "id": "o2hLgekilOem",
        "outputId": "6c0310e0-1b34-4e97-f314-d94e892a040d"
      },
      "execution_count": 210,
      "outputs": [
        {
          "output_type": "stream",
          "name": "stdout",
          "text": [
            "▶ 원하는 세트 횟수를 입력하세요: 2\n",
            "\n",
            "▶ 1번째 세트 추첨을 진행합니다\n",
            "\n",
            "▶ 현재 뽑힌 번호: 30 / 번호 목록: [30]\n",
            "▶ 현재 뽑힌 번호: 40 / 번호 목록: [30, 40]\n",
            "▶ 현재 뽑힌 번호: 10 / 번호 목록: [30, 40, 10]\n",
            "▶ 현재 뽑힌 번호: 7 / 번호 목록: [30, 40, 10, 7]\n",
            "▶ 현재 뽑힌 번호: 28 / 번호 목록: [30, 40, 10, 7, 28]\n",
            "▶ 현재 뽑힌 번호: 24 / 번호 목록: [30, 40, 10, 7, 28, 24]\n",
            "▶ 보너스 번호: 14 / 번호 목록: [7, 10, 24, 28, 30, 40] + 14\n",
            "▶ 출력된 결과: 7 10 24 28 30 40 + 14\n",
            "\n",
            "▶ 2번째 세트 추첨을 진행합니다\n",
            "\n",
            "▶ 현재 뽑힌 번호: 40 / 번호 목록: [40]\n",
            "▶ 현재 뽑힌 번호: 35 / 번호 목록: [40, 35]\n",
            "▶ 현재 뽑힌 번호: 27 / 번호 목록: [40, 35, 27]\n",
            "▶ 현재 뽑힌 번호: 45 / 번호 목록: [40, 35, 27, 45]\n",
            "▶ 현재 뽑힌 번호: 39 / 번호 목록: [40, 35, 27, 45, 39]\n",
            "▶ 현재 뽑힌 번호: 24 / 번호 목록: [40, 35, 27, 45, 39, 24]\n",
            "▶ 보너스 번호: 7 / 번호 목록: [24, 27, 35, 39, 40, 45] + 7\n",
            "▶ 출력된 결과: 24 27 35 39 40 45 + 7\n"
          ]
        }
      ]
    },
    {
      "cell_type": "markdown",
      "source": [
        "## **패키지 (package)**\n",
        "\n",
        "- 관련된 여러 모듈(.py)을 하나의 디렉터리로 모아 놓은 것\n",
        "\n",
        "- 패키지 디렉터리에는 ```__init__.py``` 파일이 포함되어 있어야 하며, 이 파일은 해당 디렉터리가 패키지임을 알려줌 (최근에는 필수가 아님)\n",
        "\n",
        "- 패키지를 사용하면 코드의 구조화와 조직화가 용이\n",
        "\n",
        "- 모듈 간의 이름 충돌을 방지\n",
        "\n",
        "```\n",
        "mypackage/\n",
        "  __init__.py\n",
        "  math_operation.py\n",
        "main.py\n",
        "```\n",
        "\n",
        "```\n",
        "# main.py\n",
        "\n",
        "import mypackage.math_operation as mo\n",
        "# as를 붙이는 이유는 패키지에서 모듈 호출 시 너무 길기 때문에 줄여서 사용하기 위해 사용\n",
        "\n",
        "```"
      ],
      "metadata": {
        "id": "jkVcxzw2yr46"
      }
    },
    {
      "cell_type": "markdown",
      "source": [
        "# **함수 문제**"
      ],
      "metadata": {
        "id": "ZJ1AAYIyzs-L"
      }
    },
    {
      "cell_type": "markdown",
      "source": [
        "## **문제 1. 두 숫자를 입력받아 더한 결과를 반환하는 함수를 작성**\n",
        "\n",
        "- 함수 이름: add_numbers\n",
        "\n",
        "- 매개 변수: 두 개의 숫자\n",
        "\n",
        "- 반환값: 두 숫자의 합\n",
        "\n",
        "예시\n",
        "\n",
        "- 입력: 3, 5\n",
        "- 출력: 8"
      ],
      "metadata": {
        "id": "EtygjpFHzykS"
      }
    },
    {
      "cell_type": "code",
      "source": [
        "def add_numbers(num1, num2):\n",
        "  return num1 + num2\n",
        "\n",
        "num1 = int(input('▶ 첫번째 숫자를 입력하세요: '))\n",
        "num2 = int(input('▶ 두번째 숫자를 입력하세요: '))\n",
        "\n",
        "result = add_numbers(num1, num2)\n",
        "print(f'\\n▶ 입력하신 두 수의 합은 {result}입니다')"
      ],
      "metadata": {
        "colab": {
          "base_uri": "https://localhost:8080/"
        },
        "id": "RHhEGlvsz-QM",
        "outputId": "ffa747fd-4831-4ab6-94e6-66ae9e86057d"
      },
      "execution_count": 37,
      "outputs": [
        {
          "output_type": "stream",
          "name": "stdout",
          "text": [
            "▶ 첫번째 숫자를 입력하세요: 3\n",
            "▶ 두번째 숫자를 입력하세요: 5\n",
            "\n",
            "▶ 입력하신 두 수의 합은 8입니다\n"
          ]
        }
      ]
    },
    {
      "cell_type": "markdown",
      "source": [
        "### **추가: 사칙연산 모두 구현**"
      ],
      "metadata": {
        "id": "E91_eTaJFF-_"
      }
    },
    {
      "cell_type": "code",
      "source": [
        "def add_numbers(num1, num2):\n",
        "  return num1 + num2\n",
        "\n",
        "def minus_numbers(num1, num2):\n",
        "  return num1 - num2\n",
        "\n",
        "def mul_numbers(num1, num2):\n",
        "  return num1 * num2\n",
        "\n",
        "def divison_numbers(num1, num2):\n",
        "  return num1 / num2\n",
        "\n",
        "num1 = int(input('▶ 첫번째 숫자를 입력하세요: '))\n",
        "symbol = input('▶ 원하시는 사칙연산의 종류를 선택해주세요(+, -, *, /): ')\n",
        "num2 = int(input('▶ 두번째 숫자를 입력하세요: '))\n",
        "\n",
        "result = 0\n",
        "if symbol == '+':\n",
        "  result = add_numbers(num1, num2)\n",
        "elif symbol == '-':\n",
        "  result = minus_numbers(num1, num2)\n",
        "elif symbol == '*':\n",
        "  result = mul_numbers(num1, num2)\n",
        "elif symbol == '/':\n",
        "  result = divison_numbers(num1, num2)\n",
        "\n",
        "print(f'\\n▶ 입력하신 두 수의 계산 값은 {result}입니다')"
      ],
      "metadata": {
        "colab": {
          "base_uri": "https://localhost:8080/"
        },
        "id": "gcAw_3MrFLmx",
        "outputId": "b1ef621c-139c-48d1-aee4-03231dd6e9a5"
      },
      "execution_count": 109,
      "outputs": [
        {
          "output_type": "stream",
          "name": "stdout",
          "text": [
            "▶ 첫번째 숫자를 입력하세요: 4\n",
            "▶ 원하시는 사칙연산의 종류를 선택해주세요(+, -, *, /): /\n",
            "▶ 두번째 숫자를 입력하세요: 2\n",
            "\n",
            "▶ 입력하신 두 수의 계산 값은 2.0입니다\n"
          ]
        }
      ]
    },
    {
      "cell_type": "markdown",
      "source": [
        "## **문제 2. 정수를 입력받아 짝수인지 홀수인지 판별하는 함수를 작성한다**\n",
        "\n",
        "- 함수 이름: check_even_odd\n",
        "\n",
        "- 매개 변수: 정수 하나\n",
        "\n",
        "- 반환값: 문자열 \"짝수입니다.\" 또는 \"홀수입니다.\"\n",
        "\n",
        "예시\n",
        "\n",
        "- 입력: 4\n",
        "- 출력: 짝수입니다\n",
        "- 입력 7:\n",
        "- 출력: 홀수입니다"
      ],
      "metadata": {
        "id": "BMEUAUnr0URj"
      }
    },
    {
      "cell_type": "code",
      "source": [
        "def check_even_odd(num):\n",
        "  return \"짝수입니다\" if num%2 == 0 else \"홀수입니다\"\n",
        "\n",
        "num = int(input(\"▶ 정수를 입력해주세요: \"))\n",
        "result = check_even_odd(num)\n",
        "print(f'\\n▶ 입력하신 숫자 {num}은 {result}')"
      ],
      "metadata": {
        "colab": {
          "base_uri": "https://localhost:8080/"
        },
        "id": "c1g7bG2q0mxD",
        "outputId": "850be52d-14f7-47d1-ea60-e24a1a563191"
      },
      "execution_count": 21,
      "outputs": [
        {
          "output_type": "stream",
          "name": "stdout",
          "text": [
            "정수를 입력해주세요: 4\n",
            "입력하신 숫자 4은 짝수입니다\n"
          ]
        }
      ]
    },
    {
      "cell_type": "markdown",
      "source": [
        "### **추가: 짝수/홀수 구분하여 리스트에 저장**"
      ],
      "metadata": {
        "id": "TzuflCssEA6_"
      }
    },
    {
      "cell_type": "code",
      "source": [
        "def check_even_odd(numbers_list):\n",
        "  odd_list = []\n",
        "  even_list = []\n",
        "\n",
        "  for num in numbers_list:\n",
        "    if num % 2 == 0:\n",
        "      even_list.append(num)\n",
        "    else:\n",
        "      odd_list.append(num)\n",
        "\n",
        "  return odd_list, even_list\n",
        "\n",
        "numbers_list = []\n",
        "while True:\n",
        "  number = input('▶ 숫자를 입력하세요(숫자가 아닌 값을 입력 시 입력이 종료됩니다): ')\n",
        "\n",
        "  if number.isalpha():\n",
        "    break\n",
        "\n",
        "  numbers_list.append(int(number))\n",
        "\n",
        "odd_list, even_list = check_even_odd(numbers_list)\n",
        "print(f'\\n▶ 입력하신 숫자 리스트 {numbers_list} 중 홀수는 {odd_list}, 짝수는 {even_list}입니다')"
      ],
      "metadata": {
        "colab": {
          "base_uri": "https://localhost:8080/"
        },
        "id": "jaEI_7RWEGY-",
        "outputId": "a8622a91-cb5b-462e-dfaf-ad00c6bd1caf"
      },
      "execution_count": 103,
      "outputs": [
        {
          "output_type": "stream",
          "name": "stdout",
          "text": [
            "▶ 숫자를 입력하세요(숫자가 아닌 값을 입력 시 입력이 종료됩니다): 5\n",
            "▶ 숫자를 입력하세요(숫자가 아닌 값을 입력 시 입력이 종료됩니다): 6\n",
            "▶ 숫자를 입력하세요(숫자가 아닌 값을 입력 시 입력이 종료됩니다): 8\n",
            "▶ 숫자를 입력하세요(숫자가 아닌 값을 입력 시 입력이 종료됩니다): 7\n",
            "▶ 숫자를 입력하세요(숫자가 아닌 값을 입력 시 입력이 종료됩니다): 1\n",
            "▶ 숫자를 입력하세요(숫자가 아닌 값을 입력 시 입력이 종료됩니다): 2\n",
            "▶ 숫자를 입력하세요(숫자가 아닌 값을 입력 시 입력이 종료됩니다): 4\n",
            "▶ 숫자를 입력하세요(숫자가 아닌 값을 입력 시 입력이 종료됩니다): 6\n",
            "▶ 숫자를 입력하세요(숫자가 아닌 값을 입력 시 입력이 종료됩니다): ㅇ\n",
            "\n",
            "▶ 입력하신 숫자 리스트 [5, 6, 8, 7, 1, 2, 4, 6] 중 홀수는 [5, 7, 1], 짝수는 [6, 8, 2, 4, 6]입니다\n"
          ]
        }
      ]
    },
    {
      "cell_type": "markdown",
      "source": [
        "## **문제 3. 주어진 세 숫자 중 가장 큰 수를 반환하는 함수를 작성한다**\n",
        "\n",
        "- 함수 이름: max_of_three\n",
        "- 매개 변수: 세 개의 숫자\n",
        "- 반환값: 가장 큰 숫자\n",
        "\n",
        "예시\n",
        "\n",
        "- 입력: 5, 8, 2\n",
        "- 출력: 8"
      ],
      "metadata": {
        "id": "ufrxQg1k0-Y0"
      }
    },
    {
      "cell_type": "code",
      "source": [
        "def max_of_three(num1, num2, num3):\n",
        "  return max(num1, num2, num3)\n",
        "\n",
        "print(max_of_three(5, 8, 2))"
      ],
      "metadata": {
        "colab": {
          "base_uri": "https://localhost:8080/"
        },
        "id": "SBbI1VKx1KGb",
        "outputId": "a0ebc225-9dab-46de-ae0a-548aaa5de75d"
      },
      "execution_count": 25,
      "outputs": [
        {
          "output_type": "stream",
          "name": "stdout",
          "text": [
            "8\n"
          ]
        }
      ]
    },
    {
      "cell_type": "markdown",
      "source": [
        "### **추가: 별도의 내장함수 사용하지 않고 구현**"
      ],
      "metadata": {
        "id": "FP5indE4Dtz-"
      }
    },
    {
      "cell_type": "code",
      "source": [
        "def max_of_three(num1, num2, num3):\n",
        "  new_list = [num1, num2, num3]\n",
        "\n",
        "  max = 0\n",
        "\n",
        "  for i in range(0, len(new_list), 1):\n",
        "    if max < new_list[i]:\n",
        "      max = new_list[i]\n",
        "\n",
        "  return max\n",
        "\n",
        "print(max_of_three(5, 8, 2))"
      ],
      "metadata": {
        "colab": {
          "base_uri": "https://localhost:8080/"
        },
        "id": "YR1EonCoDwom",
        "outputId": "0936e71b-5a66-41a3-f806-dbb18ec94589"
      },
      "execution_count": 99,
      "outputs": [
        {
          "output_type": "stream",
          "name": "stdout",
          "text": [
            "8\n"
          ]
        }
      ]
    },
    {
      "cell_type": "markdown",
      "source": [
        "## **문제 4. 문자열을 입력받아 그 문자열의 길이를 반환하는 함수를 작성한다**\n",
        "\n",
        "- 함수 이름: string_length\n",
        "\n",
        "- 매개 변수: 문자열 하나\n",
        "\n",
        "- 반환값: 문자열의 길이 (정수형)\n",
        "\n",
        "예시\n",
        "\n",
        "- 입력: 'hello'\n",
        "- 출력: 5"
      ],
      "metadata": {
        "id": "R2tix-ah1iXL"
      }
    },
    {
      "cell_type": "code",
      "source": [
        "def string_length(string):\n",
        "  return len(string)\n",
        "\n",
        "input_string = input('▶ 문자열을 입력하세요: ')\n",
        "result = string_length(input_string)\n",
        "\n",
        "print(f'\\n▶ 입력하신 문자열 {input_string}의 길이는 {result}입니다')"
      ],
      "metadata": {
        "colab": {
          "base_uri": "https://localhost:8080/"
        },
        "id": "4Fq2rp0X137D",
        "outputId": "4ab173a6-48e4-4ab6-d345-a68461aad358"
      },
      "execution_count": 36,
      "outputs": [
        {
          "output_type": "stream",
          "name": "stdout",
          "text": [
            "▶ 문자열을 입력하세요: hello\n",
            "\n",
            "▶ 입력하신 문자열 hello의 길이는 5입니다\n"
          ]
        }
      ]
    },
    {
      "cell_type": "markdown",
      "source": [
        "### **추가: 별도의 내장함수 사용하지 않고 구현**"
      ],
      "metadata": {
        "id": "iIaWCVzEDVbO"
      }
    },
    {
      "cell_type": "code",
      "source": [
        "def string_length(string):\n",
        "  count = 0\n",
        "\n",
        "  for char in string:\n",
        "    count += 1\n",
        "\n",
        "  return count\n",
        "\n",
        "input_string = input('▶ 문자열을 입력하세요: ')\n",
        "result = string_length(input_string)\n",
        "\n",
        "print(f'\\n▶ 입력하신 문자열 {input_string}의 길이는 {result}입니다')"
      ],
      "metadata": {
        "colab": {
          "base_uri": "https://localhost:8080/"
        },
        "id": "CVf8yHD5DdX-",
        "outputId": "7be29300-ff53-49b3-88e7-c4ce79ebed2a"
      },
      "execution_count": 98,
      "outputs": [
        {
          "output_type": "stream",
          "name": "stdout",
          "text": [
            "▶ 문자열을 입력하세요: hello\n",
            "\n",
            "▶ 입력하신 문자열 hello의 길이는 5입니다\n"
          ]
        }
      ]
    },
    {
      "cell_type": "markdown",
      "source": [
        "## **문제 5. 여러 개의 과목 점수를 입력받아 평균을 반환하는 함수를 작성한다.**\n",
        "\n",
        "- 함수 이름: average_score\n",
        "\n",
        "- 매개 변수: 여러 개의 점수 (*args 사용)\n",
        "\n",
        "- 반환값: 평균 점수\n",
        "\n",
        "예시\n",
        "\n",
        "- 입력: 80, 90, 100\n",
        "- 출력: 90"
      ],
      "metadata": {
        "id": "Lfm8gVIq2KCL"
      }
    },
    {
      "cell_type": "code",
      "source": [
        "def average_score(*args):\n",
        "  sum = 0\n",
        "\n",
        "  for score in args:\n",
        "    sum += score\n",
        "\n",
        "  return sum / len(args)\n",
        "\n",
        "result = average_score(80, 90, 100)\n",
        "print(f'평균 점수는 {result}점 입니다')"
      ],
      "metadata": {
        "colab": {
          "base_uri": "https://localhost:8080/"
        },
        "id": "ellU63f_2fmV",
        "outputId": "5f19d2eb-9fd3-415c-e4ed-68188e505557"
      },
      "execution_count": 102,
      "outputs": [
        {
          "output_type": "stream",
          "name": "stdout",
          "text": [
            "평균 점수는 90.0점 입니다\n"
          ]
        }
      ]
    },
    {
      "cell_type": "markdown",
      "source": [
        "## **문제 6. 문자열 리스트를 입력받아, 각 문자열의 길이를 담은 리스트를 반환하는 함수를 작성한다.**\n",
        "\n",
        "- 함수 이름: lengths_of_strings\n",
        "\n",
        "- 매개 변수: 문자열 리스트 하나\n",
        "\n",
        "- 반환값: 정수 리스트\n",
        "\n",
        "예시\n",
        "\n",
        "- 입력: ['apple', 'banana', 'kiwi']\n",
        "- 출력: [5, 6, 4]"
      ],
      "metadata": {
        "id": "wj36SfPD22cj"
      }
    },
    {
      "cell_type": "code",
      "source": [
        "def lengths_of_strings(string_list):\n",
        "  list_string_length_list = []\n",
        "\n",
        "  for string in string_list:\n",
        "    list_string_length_list.append(len(string))\n",
        "\n",
        "  return list_string_length_list\n",
        "\n",
        "\n",
        "string_list = []\n",
        "while True:\n",
        "  string = input('▶ 문자열을 입력하세요 (입력 종료를 원할 시 0을 입력하세요): ')\n",
        "\n",
        "  if string == '0':\n",
        "    break;\n",
        "\n",
        "  string_list.append(string)\n",
        "\n",
        "result = lengths_of_strings(string_list)\n",
        "print(f'\\n▶ 입력하신 문자열 배열의 각 문자열의 길이는 {result}입니다')"
      ],
      "metadata": {
        "colab": {
          "base_uri": "https://localhost:8080/"
        },
        "id": "SrU7JKuQ3FqL",
        "outputId": "a3e312d0-5dac-4b63-8b25-b045403839b5"
      },
      "execution_count": 34,
      "outputs": [
        {
          "output_type": "stream",
          "name": "stdout",
          "text": [
            "▶ 문자열을 입력하세요 (입력 종료를 원할 시 0을 입력하세요): apple\n",
            "▶ 문자열을 입력하세요 (입력 종료를 원할 시 0을 입력하세요): banana\n",
            "▶ 문자열을 입력하세요 (입력 종료를 원할 시 0을 입력하세요): kiwi\n",
            "▶ 문자열을 입력하세요 (입력 종료를 원할 시 0을 입력하세요): 0\n",
            "\n",
            "▶ 입력하신 문자열 배열의 각 문자열의 길이는 [5, 6, 4]입니다\n"
          ]
        }
      ]
    },
    {
      "cell_type": "markdown",
      "source": [
        "### **추가: 별도의 내장함수 사용하지 않고 구현**"
      ],
      "metadata": {
        "id": "iAZn9zvwDEUW"
      }
    },
    {
      "cell_type": "code",
      "source": [
        "def lengths_of_strings(string_list):\n",
        "  list_string_length_list = []\n",
        "\n",
        "  for string in string_list:\n",
        "    count = 0\n",
        "\n",
        "    for char in string:\n",
        "      count += 1\n",
        "\n",
        "    list_string_length_list.append(count)\n",
        "\n",
        "  return list_string_length_list\n",
        "\n",
        "\n",
        "string_list = []\n",
        "while True:\n",
        "  string = input('▶ 문자열을 입력하세요 (입력 종료를 원할 시 0을 입력하세요): ')\n",
        "\n",
        "  if string == '0':\n",
        "    break;\n",
        "\n",
        "  string_list.append(string)\n",
        "\n",
        "result = lengths_of_strings(string_list)\n",
        "print(f'\\n▶ 입력하신 문자열 배열의 각 문자열의 길이는 {result}입니다')"
      ],
      "metadata": {
        "colab": {
          "base_uri": "https://localhost:8080/"
        },
        "id": "DcEjmU62DDZW",
        "outputId": "bba04cd3-5b7d-4236-dee0-3e3c79fb3c13"
      },
      "execution_count": 96,
      "outputs": [
        {
          "output_type": "stream",
          "name": "stdout",
          "text": [
            "▶ 문자열을 입력하세요 (입력 종료를 원할 시 0을 입력하세요): apple\n",
            "▶ 문자열을 입력하세요 (입력 종료를 원할 시 0을 입력하세요): banana\n",
            "▶ 문자열을 입력하세요 (입력 종료를 원할 시 0을 입력하세요): kiwi\n",
            "▶ 문자열을 입력하세요 (입력 종료를 원할 시 0을 입력하세요): 0\n",
            "\n",
            "▶ 입력하신 문자열 배열의 각 문자열의 길이는 [5, 6, 4]입니다\n"
          ]
        }
      ]
    },
    {
      "cell_type": "markdown",
      "source": [
        "## **문제 7. 문자열을 입력받아, 대문자는 소문자로, 소문자는 대문자로 변환하여 반환하는 함수를 작성한다.**\n",
        "\n",
        "- 함수 이름: swap_case\n",
        "\n",
        "- 매개 변수: 문자열 하나\n",
        "\n",
        "- 반환값: 변환된 문자열\n",
        "\n",
        "예시\n",
        "\n",
        "- 입력: 'HeLLo;\n",
        "\n",
        "- 출력: 'hEllO'"
      ],
      "metadata": {
        "id": "ukr0viTB4MwM"
      }
    },
    {
      "cell_type": "code",
      "source": [
        "def swap_case(string):\n",
        "  char_list = []\n",
        "\n",
        "  for char in string:\n",
        "    char_list.append(char.lower() if char.isupper() else char.upper())\n",
        "\n",
        "  return ''.join(char_list)\n",
        "\n",
        "string = input('▶ 문자열을 입력하세요: ')\n",
        "result = swap_case(string)\n",
        "\n",
        "print(f'\\n▶ 입력하신 {string}의 변환 값은 {result}입니다')"
      ],
      "metadata": {
        "colab": {
          "base_uri": "https://localhost:8080/"
        },
        "id": "QcGO7aC94nIE",
        "outputId": "254c9fa1-4dc9-4833-e17d-983c73eb0e1f"
      },
      "execution_count": 38,
      "outputs": [
        {
          "output_type": "stream",
          "name": "stdout",
          "text": [
            "문자열을 입력하세요: HeLLo\n",
            "입력하신 HeLLo의 변환 값은 hEllO입니다\n"
          ]
        }
      ]
    },
    {
      "cell_type": "markdown",
      "source": [
        "## **문제 8. 숫자 리스트를 입력받아, 0보다 큰 숫자만 골라서 새로운 리스트로 반환하는 함수를 작성한다.**\n",
        "\n",
        "- 함수 이름: filter_positive_numbers\n",
        "\n",
        "- 매개 변수: 숫자 리스트 하나\n",
        "\n",
        "- 반환값: 양수만 담긴 리스트\n",
        "\n",
        "예시\n",
        "\n",
        "- 입력: [-2, 0, 5, 9, -1]\n",
        "\n",
        "- 출력: [5, 9]"
      ],
      "metadata": {
        "id": "jy-01dF45ZRt"
      }
    },
    {
      "cell_type": "code",
      "source": [
        "def filter_positive_numbers(numbers_list):\n",
        "  new_numbers_list = []\n",
        "\n",
        "  for number in numbers_list:\n",
        "    if number > 0:\n",
        "      new_numbers_list.append(number)\n",
        "\n",
        "  return new_numbers_list\n",
        "\n",
        "numbers_list = []\n",
        "while True:\n",
        "  number = input('▶ 숫자를 입력하세요(숫자가 아닌 값을 입력 시 입력이 종료됩니다): ')\n",
        "\n",
        "  if number.isalpha():\n",
        "    break\n",
        "\n",
        "  numbers_list.append(int(number))\n",
        "\n",
        "result = filter_positive_numbers(numbers_list)\n",
        "print(f'\\n▶ 입력하신 {numbers_list}에서 0보다 큰 숫자만 남긴 값은 {result}입니다')"
      ],
      "metadata": {
        "colab": {
          "base_uri": "https://localhost:8080/"
        },
        "id": "vs_9Rpbs5txM",
        "outputId": "c20b3214-3f05-4fda-cd90-a64b68dff399"
      },
      "execution_count": 47,
      "outputs": [
        {
          "output_type": "stream",
          "name": "stdout",
          "text": [
            "▶ 숫자를 입력하세요(숫자가 아닌 값을 입력 시 입력이 종료됩니다): -2\n",
            "▶ 숫자를 입력하세요(숫자가 아닌 값을 입력 시 입력이 종료됩니다): 0\n",
            "▶ 숫자를 입력하세요(숫자가 아닌 값을 입력 시 입력이 종료됩니다): 5\n",
            "▶ 숫자를 입력하세요(숫자가 아닌 값을 입력 시 입력이 종료됩니다): 9\n",
            "▶ 숫자를 입력하세요(숫자가 아닌 값을 입력 시 입력이 종료됩니다): -1\n",
            "▶ 숫자를 입력하세요(숫자가 아닌 값을 입력 시 입력이 종료됩니다): exit\n",
            "\n",
            "▶ 입력하신 [-2, 0, 5, 9, -1]에서 0보다 큰 숫자만 남긴 값은 [5, 9]입니다\n"
          ]
        }
      ]
    },
    {
      "cell_type": "markdown",
      "source": [
        "## **문제 9. 문자열을 입력받아, 단어별로 분리한 리스트를 반환하는 함수를 작성한다.**\n",
        "\n",
        "- 함수 이름: split_into_words\n",
        "\n",
        "- 매개 변수: 문자열 하나\n",
        "\n",
        "- 반환값: 단어 리스트\n",
        "\n",
        "예시\n",
        "\n",
        "- 입력: 'Python is fun'\n",
        "\n",
        "- 출력: ['Python', 'is', 'fun']"
      ],
      "metadata": {
        "id": "4P15xKi-7Jvd"
      }
    },
    {
      "cell_type": "code",
      "source": [
        "def split_into_words(string):\n",
        "  return string.split(' ')\n",
        "\n",
        "string = input('▶ 문자열을 입력하세요: ')\n",
        "result = split_into_words(string)\n",
        "\n",
        "print(f'▶ 입력하신 문자열 {string}을 단어별로 분리한 리스트는 {result}입니다')"
      ],
      "metadata": {
        "colab": {
          "base_uri": "https://localhost:8080/"
        },
        "id": "sQOC71vC7Yv1",
        "outputId": "4b780ea5-21be-4f68-c769-1f49c3d31aba"
      },
      "execution_count": 48,
      "outputs": [
        {
          "output_type": "stream",
          "name": "stdout",
          "text": [
            "▶ 문자열을 입력하세요: Python is fun\n",
            "▶ 입력하신 문자열 Python is fun을 단어별로 분리한 리스트는 ['Python', 'is', 'fun']입니다\n"
          ]
        }
      ]
    },
    {
      "cell_type": "markdown",
      "source": [
        "### **추가: 별도의 내장함수 사용하지 않고 구현**\n",
        "\n"
      ],
      "metadata": {
        "id": "kXVTCylKBueW"
      }
    },
    {
      "cell_type": "code",
      "source": [
        "def split_into_words(string):\n",
        "  start = 0\n",
        "  new_list = []\n",
        "\n",
        "  for i in range(0, len(string), 1):\n",
        "    if string[i] == ' ':\n",
        "      new_list.append(string[start:i])\n",
        "      start = i+1\n",
        "\n",
        "    if i == len(string)-1:\n",
        "      new_list.append(string[start:i+1])\n",
        "\n",
        "  return new_list\n",
        "\n",
        "\n",
        "string = input('▶ 문자열을 입력하세요: ')\n",
        "result = split_into_words(string)\n",
        "\n",
        "print(f'▶ 입력하신 문자열 {string}을 단어별로 분리한 리스트는 {result}입니다')"
      ],
      "metadata": {
        "colab": {
          "base_uri": "https://localhost:8080/"
        },
        "id": "37wJR7beByc2",
        "outputId": "e999794a-d6bd-4e6b-b9a0-fcbfe77b9494"
      },
      "execution_count": 95,
      "outputs": [
        {
          "output_type": "stream",
          "name": "stdout",
          "text": [
            "▶ 문자열을 입력하세요: Python is fun\n",
            "▶ 입력하신 문자열 Python is fun을 단어별로 분리한 리스트는 ['Python', 'is', 'fun']입니다\n"
          ]
        }
      ]
    },
    {
      "cell_type": "markdown",
      "source": [
        "## **문제 10. 문자열과 부분 문자열을 입력받아, 부분 문자열이 몇번 등장하는지 세는 함수를 작성한다.**\n",
        "\n",
        "- 함수 이름: count_substring\n",
        "\n",
        "- 매개 변수: 문자열 하나, 부분 문자열 하나\n",
        "\n",
        "- 반환값: 등장 횟수 (정수형)\n",
        "\n",
        "예시\n",
        "\n",
        "- 입력: ('banana', 'na')\n",
        "\n",
        "- 출력: 2"
      ],
      "metadata": {
        "id": "evdk0CTU7wE8"
      }
    },
    {
      "cell_type": "code",
      "source": [
        "def count_substring(string, keyword):\n",
        "  count = 0\n",
        "\n",
        "  for i in range(0, len(string), 1):\n",
        "    word = string[i:i+len(keyword)]\n",
        "\n",
        "    if word == keyword:\n",
        "      count += 1\n",
        "\n",
        "  return count\n",
        "\n",
        "count_substring('banaanaaa', 'naaa')"
      ],
      "metadata": {
        "colab": {
          "base_uri": "https://localhost:8080/"
        },
        "id": "nI4HJowB7-i9",
        "outputId": "17971aee-8886-4dd5-f2e1-fc677618a43b"
      },
      "execution_count": 133,
      "outputs": [
        {
          "output_type": "execute_result",
          "data": {
            "text/plain": [
              "1"
            ]
          },
          "metadata": {},
          "execution_count": 133
        }
      ]
    },
    {
      "cell_type": "markdown",
      "source": [
        "## **문제 11. 정수 리스트를 입력받아, 리스트 안에서 중복된 숫자만 모아 리스트로 반환하는 함수를 작성한다.**\n",
        "\n",
        "- 함수 이름: find_duplicates\n",
        "\n",
        "- 매개 변수: 숫자 리스트 하나\n",
        "\n",
        "- 반환 값: 중복 숫자 리스트\n",
        "\n",
        "예시\n",
        "\n",
        "- 입력: [1, 2, 3, 2, 4, 1]\n",
        "\n",
        "- 출력: [1, 2]"
      ],
      "metadata": {
        "id": "xPU3CcV19OFV"
      }
    },
    {
      "cell_type": "code",
      "source": [
        "def find_duplicates(numbers_list):\n",
        "  new_number_dictionary = {}\n",
        "  new_numbers_list = []\n",
        "\n",
        "  for number in numbers_list:\n",
        "    if number in new_number_dictionary:\n",
        "      new_number_dictionary[number] = new_number_dictionary.get(number) + 1\n",
        "    else:\n",
        "      new_number_dictionary[number] = 1\n",
        "\n",
        "  for key, value in new_number_dictionary.items():\n",
        "    if value >= 2:\n",
        "      new_numbers_list.append(key)\n",
        "\n",
        "  return new_numbers_list\n",
        "\n",
        "\n",
        "numbers_list = []\n",
        "while True:\n",
        "  number = input('▶ 숫자를 입력하세요(숫자가 아닌 값을 입력 시 입력이 종료됩니다): ')\n",
        "\n",
        "  if number.isalpha():\n",
        "    break\n",
        "\n",
        "  numbers_list.append(int(number))\n",
        "\n",
        "result = find_duplicates(numbers_list)\n",
        "print(f'\\n▶ 입력하신 {numbers_list}에서 중복된 숫자만 남긴 값은 {result}입니다')"
      ],
      "metadata": {
        "colab": {
          "base_uri": "https://localhost:8080/"
        },
        "id": "VHFcSKEV9eRd",
        "outputId": "451449e2-b5fd-490e-f290-58bc94463a7e"
      },
      "execution_count": 64,
      "outputs": [
        {
          "output_type": "stream",
          "name": "stdout",
          "text": [
            "▶ 숫자를 입력하세요(숫자가 아닌 값을 입력 시 입력이 종료됩니다): 1\n",
            "▶ 숫자를 입력하세요(숫자가 아닌 값을 입력 시 입력이 종료됩니다): 2\n",
            "▶ 숫자를 입력하세요(숫자가 아닌 값을 입력 시 입력이 종료됩니다): 3\n",
            "▶ 숫자를 입력하세요(숫자가 아닌 값을 입력 시 입력이 종료됩니다): 2\n",
            "▶ 숫자를 입력하세요(숫자가 아닌 값을 입력 시 입력이 종료됩니다): 4\n",
            "▶ 숫자를 입력하세요(숫자가 아닌 값을 입력 시 입력이 종료됩니다): 1\n",
            "▶ 숫자를 입력하세요(숫자가 아닌 값을 입력 시 입력이 종료됩니다): d\n",
            "\n",
            "▶ 입력하신 [1, 2, 3, 2, 4, 1]에서 중복된 숫자만 남긴 값은 [1, 2]입니다\n"
          ]
        }
      ]
    },
    {
      "cell_type": "markdown",
      "source": [
        "## **문제 12. 두 개의 문자열을 입력받아, 두 문자열이 아나그램인지 판별하는 함수를 작성한다.**\n",
        "\n",
        "아나그램: 같은 알파벳을 사용해서 순서만 바꾼 단어\n",
        "\n",
        "- 함수 이름: is_anagram\n",
        "\n",
        "- 매개 변수: 문자열 두 개\n",
        "\n",
        "- 반환값: True 또는 False\n",
        "\n",
        "예시\n",
        "\n",
        "- 입력: ('listen', 'silent')\n",
        "\n",
        "- 출력: True\n",
        "\n",
        "- 입력: ('hello', 'world')\n",
        "\n",
        "- 출력: False"
      ],
      "metadata": {
        "id": "OobIcDvD_B6d"
      }
    },
    {
      "cell_type": "code",
      "source": [
        "def is_anagram(string_1, string_2):\n",
        "  if sorted(list(string_1)) == sorted(list(string_2)):\n",
        "    return True\n",
        "  else:\n",
        "    return False\n",
        "\n",
        "string_1 = input('▶ 첫번째 문자열을 입력하세요: ')\n",
        "string_2 = input('▶ 두번째 문자열을 입력하세요: ')\n",
        "\n",
        "result = is_anagram(string_1, string_2)\n",
        "print(f'\\n▶ 두 단어의 아나그램 일치 여부는 {result}입니다')"
      ],
      "metadata": {
        "colab": {
          "base_uri": "https://localhost:8080/"
        },
        "id": "RrF91t-4-7Pm",
        "outputId": "bd82f039-04b2-48a3-a2e8-3b6069ff49c6"
      },
      "execution_count": 79,
      "outputs": [
        {
          "output_type": "stream",
          "name": "stdout",
          "text": [
            "▶ 첫번째 문자열을 입력하세요: hello\n",
            "▶ 두번째 문자열을 입력하세요: world\n",
            "\n",
            "▶ 두 단어의 아나그램 일치 여부는 False입니다\n"
          ]
        }
      ]
    },
    {
      "cell_type": "markdown",
      "source": [
        "### **추가: sorted 사용하지 않고 구현**"
      ],
      "metadata": {
        "id": "_5EbgZzpG_WH"
      }
    },
    {
      "cell_type": "code",
      "source": [
        "def is_anagram(string_1, string_2):\n",
        "  char_dictionary = {}\n",
        "\n",
        "  for char in string_1:\n",
        "    if char in char_dictionary:\n",
        "      char_dictionary[char] += 1\n",
        "    else:\n",
        "      char_dictionary[char] = 1\n",
        "\n",
        "  for char in string_2:\n",
        "    if char in char_dictionary:\n",
        "      char_dictionary[char] -= 1\n",
        "\n",
        "  return True if len(set(char_dictionary.values())) == 1 else False\n",
        "\n",
        "string_1 = input('▶ 첫번째 문자열을 입력하세요: ')\n",
        "string_2 = input('▶ 두번째 문자열을 입력하세요: ')\n",
        "\n",
        "result = is_anagram(string_1, string_2)\n",
        "print(f'\\n▶ 두 단어의 아나그램 일치 여부는 {result}입니다')"
      ],
      "metadata": {
        "colab": {
          "base_uri": "https://localhost:8080/"
        },
        "id": "AXl64GxfHB8H",
        "outputId": "976d33e1-47de-4e4a-8740-375f435875a3"
      },
      "execution_count": 134,
      "outputs": [
        {
          "output_type": "stream",
          "name": "stdout",
          "text": [
            "▶ 첫번째 문자열을 입력하세요: qweraasd\n",
            "▶ 두번째 문자열을 입력하세요: asdqwera\n",
            "\n",
            "▶ 두 단어의 아나그램 일치 여부는 True입니다\n"
          ]
        }
      ]
    }
  ]
}